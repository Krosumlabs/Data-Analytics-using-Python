{
 "cells": [
  {
   "cell_type": "code",
   "execution_count": null,
   "id": "596ff7c8",
   "metadata": {},
   "outputs": [],
   "source": [
    "Recap\n",
    "------\n",
    "python native types ->Operators ->Conditional Statment ->Looping statements\n",
    "python containers ->list,tuple,dict\n",
    "                    ---------------\n",
    "user defined function ->def <functionName>():....\n",
    "function Call arguments ->Scope of the block ->global Vs return\n",
    "File Handling\n",
    "--------------\n",
    "|->OOPs style code => class object method inheritance\n",
    "|                     ----- ======\n",
    "| class className:\n",
    "      ...\n",
    "  obj = className() <== constructor\n",
    "  obj.methodCall()  -> def methodName(self):"
   ]
  },
  {
   "cell_type": "code",
   "execution_count": null,
   "id": "389ba820",
   "metadata": {},
   "outputs": [],
   "source": [
    "DBI\n",
    "  |->DataBase Connection ->Query\n",
    "      ----(1)---------     .... \n",
    "        \n",
    "class DBI:\n",
    "    def connect(self,....):\n",
    "        '''db connection'''\n",
    "        \n",
    "    def method1(self):\n",
    "        '''method1'''\n",
    "    def method2(self):\n",
    "        '''method2'''\n",
    "\n",
    "obj = DBI()            obj = DBI()\n",
    "obj.connect()  Vs      obj.method1() - valid methodCall ->Operation is failed\n",
    "obj.method1()\n",
    "\n",
    "In Python any variablename/function_name \n",
    "starts with __<name>__ =>special attribute (or) python built in attributes\n",
    "\n",
    "\n",
    ">>> class box:\n",
    "...     def f1(self):\n",
    "...         print(\"This is f1 block - nonconstructor\")\n",
    "...\n",
    ">>> box()\n",
    "<__main__.box object at 0x000002535AE206E0>\n",
    ">>>\n",
    ">>> obj = box()\n",
    ">>> obj.f1()\n",
    "This is f1 block - nonconstructor\n",
    ">>>\n",
    ">>> class box:\n",
    "...     def __init__(self):\n",
    "...         print(\"This is constructor block\")\n",
    "...\n",
    ">>> box()\n",
    "This is constructor block\n",
    "<__main__.box object at 0x000002535AE20830>\n",
    ">>> obj = box()\n",
    "This is constructor block\n",
    ">>>\n",
    ">>> class box:\n",
    "...     def __init__(self,a1,a2=0,*a3,**a4):\n",
    "...         print(a1,a2,a3,a4)\n",
    "...\n",
    ">>> obj = box(10,20,30,40,db=\"mysql\",user=\"root\")\n",
    "10 20 (30, 40) {'db': 'mysql', 'user': 'root'}\n",
    ">>> objX = box()\n",
    "Traceback (most recent call last):\n",
    "  File \"<python-input-13>\", line 1, in <module>\n",
    "    objX = box()\n",
    "TypeError: box.__init__() missing 1 required positional argument: 'a1'\n",
    ">>>\n",
    ">>> objX\n",
    "Traceback (most recent call last):\n",
    "  File \"<python-input-15>\", line 1, in <module>\n",
    "    objX\n",
    "NameError: name 'objX' is not defined. Did you mean: 'obj'?\n",
    ">>>\n"
   ]
  },
  {
   "cell_type": "code",
   "execution_count": 1,
   "id": "2db35b42",
   "metadata": {},
   "outputs": [],
   "source": [
    "class Enrollment:\n",
    "    '''This is Enrollment class'''\n",
    "    def __init__(self,ename,edob):\n",
    "        self.ename = ename\n",
    "        self.edob = edob\n",
    "        print('Enrollment is done')\n",
    "    def display(self):\n",
    "        print(f'About {self.ename} details:-')\n",
    "        print(f'Name:{self.ename} DOB:{self.edob}')"
   ]
  },
  {
   "cell_type": "code",
   "execution_count": 2,
   "id": "942653f4",
   "metadata": {},
   "outputs": [
    {
     "name": "stdout",
     "output_type": "stream",
     "text": [
      "Enrollment is done\n",
      "Enrollment is done\n"
     ]
    }
   ],
   "source": [
    "eobj1 = Enrollment('Arun','1st Jan')\n",
    "eobj2 = Enrollment('Vijay','2nd Feb')"
   ]
  },
  {
   "cell_type": "code",
   "execution_count": 3,
   "id": "9fde637a",
   "metadata": {},
   "outputs": [
    {
     "name": "stdout",
     "output_type": "stream",
     "text": [
      "About Arun details:-\n",
      "Name:Arun DOB:1st Jan\n"
     ]
    }
   ],
   "source": [
    "eobj1.display()"
   ]
  },
  {
   "cell_type": "code",
   "execution_count": 4,
   "id": "642705c4",
   "metadata": {},
   "outputs": [
    {
     "name": "stdout",
     "output_type": "stream",
     "text": [
      "About Vijay details:-\n",
      "Name:Vijay DOB:2nd Feb\n"
     ]
    }
   ],
   "source": [
    "eobj2.display()"
   ]
  },
  {
   "cell_type": "code",
   "execution_count": 5,
   "id": "b41cfdd3",
   "metadata": {},
   "outputs": [],
   "source": [
    "import openpyxl"
   ]
  },
  {
   "cell_type": "code",
   "execution_count": 6,
   "id": "970cc4da",
   "metadata": {},
   "outputs": [],
   "source": [
    "wobj = openpyxl.Workbook()\n",
    "sh = wobj.active\n",
    "sh['A1']=100\n",
    "sh['A2']=200\n",
    "sh['B1']='Data1'\n",
    "wobj.save('E:\\\\test1.xlsx')"
   ]
  },
  {
   "cell_type": "code",
   "execution_count": 7,
   "id": "00000d2a",
   "metadata": {},
   "outputs": [
    {
     "data": {
      "text/plain": [
       "<openpyxl.workbook.workbook.Workbook at 0x219db208690>"
      ]
     },
     "execution_count": 7,
     "metadata": {},
     "output_type": "execute_result"
    }
   ],
   "source": [
    "wobj"
   ]
  },
  {
   "cell_type": "code",
   "execution_count": 8,
   "id": "0aede406",
   "metadata": {},
   "outputs": [],
   "source": [
    "import time"
   ]
  },
  {
   "cell_type": "code",
   "execution_count": 9,
   "id": "410506b6",
   "metadata": {},
   "outputs": [],
   "source": [
    "from openpyxl import Workbook\n",
    "wobj = Workbook()\n",
    "sh = wobj.active\n",
    "sh['F1']=time.ctime()\n",
    "sh['D2']=10+34.32\n",
    "wobj.save('E:\\\\test2.xlsx')"
   ]
  },
  {
   "cell_type": "code",
   "execution_count": 10,
   "id": "92a97dba",
   "metadata": {},
   "outputs": [
    {
     "data": {
      "text/plain": [
       "1000"
      ]
     },
     "execution_count": 10,
     "metadata": {},
     "output_type": "execute_result"
    }
   ],
   "source": [
    "class p1:\n",
    "    pid = 100\n",
    "    \n",
    "class p2:\n",
    "    pcost = 1000\n",
    "    \n",
    "obj = p2()\n",
    "obj.pcost"
   ]
  },
  {
   "cell_type": "code",
   "execution_count": 11,
   "id": "096f9a87",
   "metadata": {},
   "outputs": [
    {
     "ename": "AttributeError",
     "evalue": "'p2' object has no attribute 'pid'",
     "output_type": "error",
     "traceback": [
      "\u001b[1;31m---------------------------------------------------------------------------\u001b[0m",
      "\u001b[1;31mAttributeError\u001b[0m                            Traceback (most recent call last)",
      "Cell \u001b[1;32mIn[11], line 1\u001b[0m\n\u001b[1;32m----> 1\u001b[0m obj\u001b[38;5;241m.\u001b[39mpid\n",
      "\u001b[1;31mAttributeError\u001b[0m: 'p2' object has no attribute 'pid'"
     ]
    }
   ],
   "source": [
    "obj.pid"
   ]
  },
  {
   "cell_type": "code",
   "execution_count": null,
   "id": "6a5652ba",
   "metadata": {},
   "outputs": [],
   "source": [
    "[parent]\n",
    "  | <=== ISA realationship\n",
    "[child]\n",
    "\n",
    "class parent:\n",
    "    <attribute>\n",
    "    \n",
    "class child(parent_className): <= Inheritance\n",
    "    <attributes>"
   ]
  },
  {
   "cell_type": "code",
   "execution_count": 12,
   "id": "ad0413d6",
   "metadata": {},
   "outputs": [
    {
     "data": {
      "text/plain": [
       "101"
      ]
     },
     "execution_count": 12,
     "metadata": {},
     "output_type": "execute_result"
    }
   ],
   "source": [
    "class p1:\n",
    "    pid = 101\n",
    "class p2(p1): ################  Vs  def f2(args): <== function/method \n",
    "    pcost = 1230\n",
    "    \n",
    "obj = p2()\n",
    "obj.pid"
   ]
  },
  {
   "cell_type": "code",
   "execution_count": 14,
   "id": "b9ff1cf4",
   "metadata": {},
   "outputs": [
    {
     "name": "stdout",
     "output_type": "stream",
     "text": [
      "101 1235\n",
      "prometheus\n"
     ]
    }
   ],
   "source": [
    "class p1:\n",
    "    pid = 101\n",
    "    pname = 'matplot'\n",
    "class p2(p1):\n",
    "    pcost = 1235\n",
    "    pname = 'prometheus'\n",
    "    \n",
    "obj = p2()\n",
    "print(obj.pid,obj.pcost)\n",
    "print(obj.pname)\n"
   ]
  },
  {
   "cell_type": "code",
   "execution_count": 15,
   "id": "3fdd0e3e",
   "metadata": {},
   "outputs": [
    {
     "name": "stdout",
     "output_type": "stream",
     "text": [
      "101 1235\n",
      "prometheus\n",
      "matplot\n"
     ]
    }
   ],
   "source": [
    "class p1:\n",
    "    pid = 101\n",
    "    pname = 'matplot'\n",
    "class p2(p1):\n",
    "    pcost = 1235\n",
    "    pname = 'prometheus'\n",
    "    pvar = p1.pname # parent attributes to UDV\n",
    "    \n",
    "obj = p2()\n",
    "print(obj.pid,obj.pcost)\n",
    "print(obj.pname)\n",
    "print(obj.pvar)"
   ]
  },
  {
   "cell_type": "code",
   "execution_count": 16,
   "id": "036a1234",
   "metadata": {},
   "outputs": [
    {
     "name": "stdout",
     "output_type": "stream",
     "text": [
      "p2 - child class method\n"
     ]
    }
   ],
   "source": [
    "class p1:\n",
    "    def f1(self):\n",
    "        print('parent class method')\n",
    "        \n",
    "class p2(p1):\n",
    "    def f2(self):\n",
    "        print('f2 method')\n",
    "    def f1(self):\n",
    "        print('p2 - child class method')\n",
    "        \n",
    "obj = p2()\n",
    "obj.f1()"
   ]
  },
  {
   "cell_type": "code",
   "execution_count": 17,
   "id": "88fd9bfe",
   "metadata": {},
   "outputs": [
    {
     "name": "stdout",
     "output_type": "stream",
     "text": [
      "p2 - child class method\n",
      "parent class method\n"
     ]
    }
   ],
   "source": [
    "class p1:\n",
    "    def f1(self):\n",
    "        print('parent class method')\n",
    "        \n",
    "class p2(p1):\n",
    "    def f2(self):\n",
    "        print('f2 method')\n",
    "    def f1(self):\n",
    "        print('p2 - child class method')\n",
    "        super().f1() # invoke parent class f1 method\n",
    "        \n",
    "obj = p2()\n",
    "obj.f1()"
   ]
  },
  {
   "cell_type": "code",
   "execution_count": null,
   "id": "e1ec3992",
   "metadata": {},
   "outputs": [],
   "source": [
    "Python programming\n",
    "        |->direct access - procedure style code -> var=10 ; functionName()\n",
    "        |->object based access - oops style -> obj.var=10 ; obj.function()\n",
    "        |->functional style process - SingleLine Code -\n",
    "                   (this is not a block style code)"
   ]
  },
  {
   "cell_type": "code",
   "execution_count": 25,
   "id": "5fc088e3",
   "metadata": {},
   "outputs": [
    {
     "name": "stdout",
     "output_type": "stream",
     "text": [
      "[110, 120, 130, 140, 150]\n"
     ]
    }
   ],
   "source": [
    "L = []\n",
    "def fx(a):\n",
    "    return a+100\n",
    "\n",
    "for var in [10,20,30,40,50]:\n",
    "    r = fx(var)\n",
    "    L.append(r)\n",
    "    \n",
    "print(L)"
   ]
  },
  {
   "cell_type": "code",
   "execution_count": 26,
   "id": "83b80bc8",
   "metadata": {},
   "outputs": [
    {
     "data": {
      "text/plain": [
       "[110, 120, 130, 140, 150]"
      ]
     },
     "execution_count": 26,
     "metadata": {},
     "output_type": "execute_result"
    }
   ],
   "source": [
    "list(map(lambda a:a+100,[10,20,30,40,50]))"
   ]
  },
  {
   "cell_type": "code",
   "execution_count": null,
   "id": "dfcc13ac",
   "metadata": {},
   "outputs": [],
   "source": [
    "1. lambda \n",
    "2. list comprehension\n",
    "3. generator\n",
    "4. map,filter,enumerator <==\n",
    "\n",
    "lambda \n",
    " - unnamed function\n",
    " - function call with arguments and return <someValue>\n",
    "    |\n",
    "    def fx(a):\n",
    "        return <value>\n",
    "    \n",
    " - lambda <list of args>:<basic Operation>\n",
    "                                |->expression;functionCall;methodCall"
   ]
  },
  {
   "cell_type": "code",
   "execution_count": 27,
   "id": "d4d16f87",
   "metadata": {},
   "outputs": [
    {
     "data": {
      "text/plain": [
       "<function __main__.<lambda>(a1, a2)>"
      ]
     },
     "execution_count": 27,
     "metadata": {},
     "output_type": "execute_result"
    }
   ],
   "source": [
    "lambda a1,a2:a1+a2"
   ]
  },
  {
   "cell_type": "code",
   "execution_count": 28,
   "id": "85accad4",
   "metadata": {},
   "outputs": [
    {
     "data": {
      "text/plain": [
       "30"
      ]
     },
     "execution_count": 28,
     "metadata": {},
     "output_type": "execute_result"
    }
   ],
   "source": [
    "f1 = lambda a1,a2:a1+a2\n",
    "f1(10,20)"
   ]
  },
  {
   "cell_type": "code",
   "execution_count": 29,
   "id": "46f5c5fc",
   "metadata": {},
   "outputs": [
    {
     "data": {
      "text/plain": [
       "30"
      ]
     },
     "execution_count": 29,
     "metadata": {},
     "output_type": "execute_result"
    }
   ],
   "source": [
    "def f2(a1,a2):\n",
    "    return a1+a2\n",
    "\n",
    "f2(10,20)"
   ]
  },
  {
   "cell_type": "code",
   "execution_count": 30,
   "id": "6df80c10",
   "metadata": {},
   "outputs": [
    {
     "data": {
      "text/plain": [
       "True"
      ]
     },
     "execution_count": 30,
     "metadata": {},
     "output_type": "execute_result"
    }
   ],
   "source": [
    "f3 = lambda a1: a1 >100\n",
    "f3(150)"
   ]
  },
  {
   "cell_type": "code",
   "execution_count": 31,
   "id": "3ca0b208",
   "metadata": {},
   "outputs": [
    {
     "data": {
      "text/plain": [
       "False"
      ]
     },
     "execution_count": 31,
     "metadata": {},
     "output_type": "execute_result"
    }
   ],
   "source": [
    "f3(50)"
   ]
  },
  {
   "cell_type": "code",
   "execution_count": 32,
   "id": "a25877cf",
   "metadata": {},
   "outputs": [
    {
     "data": {
      "text/plain": [
       "True"
      ]
     },
     "execution_count": 32,
     "metadata": {},
     "output_type": "execute_result"
    }
   ],
   "source": [
    "f4 = lambda a1:'sales' in a1\n",
    "f4('raj,sales,pune')"
   ]
  },
  {
   "cell_type": "code",
   "execution_count": 33,
   "id": "4df69d3e",
   "metadata": {},
   "outputs": [
    {
     "data": {
      "text/plain": [
       "'ABC'"
      ]
     },
     "execution_count": 33,
     "metadata": {},
     "output_type": "execute_result"
    }
   ],
   "source": [
    "f5 = lambda a:a.upper()\n",
    "f5('abc')"
   ]
  },
  {
   "cell_type": "code",
   "execution_count": 34,
   "id": "db92bc27",
   "metadata": {},
   "outputs": [
    {
     "data": {
      "text/plain": [
       "'ABC'"
      ]
     },
     "execution_count": 34,
     "metadata": {},
     "output_type": "execute_result"
    }
   ],
   "source": [
    "def F5(a):\n",
    "    return a.upper()\n",
    "\n",
    "F5('abc')"
   ]
  },
  {
   "cell_type": "code",
   "execution_count": 35,
   "id": "ae0a1bba",
   "metadata": {},
   "outputs": [],
   "source": [
    "def fx(a):\n",
    "    if(a >50 and a<60):\n",
    "        return a+100\n",
    "    elif(a>100 and a<200):\n",
    "        return a+200\n",
    "    else:\n",
    "        return a+300"
   ]
  },
  {
   "cell_type": "code",
   "execution_count": 36,
   "id": "9054d7e7",
   "metadata": {},
   "outputs": [
    {
     "data": {
      "text/plain": [
       "155"
      ]
     },
     "execution_count": 36,
     "metadata": {},
     "output_type": "execute_result"
    }
   ],
   "source": [
    "f6 = lambda a1:fx(a1)\n",
    "f6(55)"
   ]
  },
  {
   "cell_type": "code",
   "execution_count": 37,
   "id": "e7ff76b4",
   "metadata": {},
   "outputs": [
    {
     "data": {
      "text/plain": [
       "350"
      ]
     },
     "execution_count": 37,
     "metadata": {},
     "output_type": "execute_result"
    }
   ],
   "source": [
    "f6(150)"
   ]
  },
  {
   "cell_type": "code",
   "execution_count": 38,
   "id": "424a590f",
   "metadata": {},
   "outputs": [
    {
     "data": {
      "text/plain": [
       "550"
      ]
     },
     "execution_count": 38,
     "metadata": {},
     "output_type": "execute_result"
    }
   ],
   "source": [
    "f6(250)"
   ]
  },
  {
   "cell_type": "code",
   "execution_count": 39,
   "id": "27c599b3",
   "metadata": {},
   "outputs": [
    {
     "data": {
      "text/plain": [
       "[101, 102, 103, 104, 105, 106]"
      ]
     },
     "execution_count": 39,
     "metadata": {},
     "output_type": "execute_result"
    }
   ],
   "source": [
    "# list comprehesion\n",
    "# -------------------//List Append Operation\n",
    "#\n",
    "# [finalValue for <iterable>]\n",
    "#             -----(1)----\n",
    "# ----(2)----\n",
    "\n",
    "L = []\n",
    "for var in range(1,7):\n",
    "    r=var+100\n",
    "    L.append(r)\n",
    "L"
   ]
  },
  {
   "cell_type": "code",
   "execution_count": 41,
   "id": "8a4a92d2",
   "metadata": {},
   "outputs": [
    {
     "data": {
      "text/plain": [
       "[101, 102, 103, 104, 105, 106]"
      ]
     },
     "execution_count": 41,
     "metadata": {},
     "output_type": "execute_result"
    }
   ],
   "source": [
    "[var+100 for var in range(1,7)]"
   ]
  },
  {
   "cell_type": "code",
   "execution_count": 42,
   "id": "ace46361",
   "metadata": {},
   "outputs": [
    {
     "data": {
      "text/plain": [
       "[501, 502, 503, 504, 505, 506, 507, 508, 509, 510, 111, 112, 113, 114]"
      ]
     },
     "execution_count": 42,
     "metadata": {},
     "output_type": "execute_result"
    }
   ],
   "source": [
    "L = []\n",
    "for var in range(1,15):\n",
    "    if(var >10):\n",
    "        r=var+100\n",
    "        L.append(r)\n",
    "    else:\n",
    "        r=var+500\n",
    "        L.append(r)\n",
    "L"
   ]
  },
  {
   "cell_type": "code",
   "execution_count": 44,
   "id": "9fd39e65",
   "metadata": {},
   "outputs": [
    {
     "data": {
      "text/plain": [
       "[501, 502, 503, 504, 505, 506, 507, 508, 509, 510, 111, 112, 113, 114]"
      ]
     },
     "execution_count": 44,
     "metadata": {},
     "output_type": "execute_result"
    }
   ],
   "source": [
    "[var+100 if var >10 else var+500 for var in range(1,15)]"
   ]
  },
  {
   "cell_type": "code",
   "execution_count": null,
   "id": "82f68a73",
   "metadata": {},
   "outputs": [],
   "source": [
    "generator\n",
    "----------\n",
    " |->Function - returns an iterator(address)\n",
    "                          =================== yield \n",
    "                            |->open this address - get  value \n",
    "                                  1) next(generator) ->Value...StopIteration\n",
    "                                  2) use for loop\n",
    "                                  3) typecast to list"
   ]
  },
  {
   "cell_type": "code",
   "execution_count": 47,
   "id": "cdaa7b1f",
   "metadata": {},
   "outputs": [
    {
     "name": "stdout",
     "output_type": "stream",
     "text": [
      "<class 'function'> <class 'function'>\n",
      "<class 'int'> <class 'generator'>\n"
     ]
    }
   ],
   "source": [
    "def f1():\n",
    "    return 10\n",
    "\n",
    "def f2():\n",
    "    yield 10\n",
    "    \n",
    "print(type(f1),type(f2))\n",
    "\n",
    "print(type(f1()),type(f2()))"
   ]
  },
  {
   "cell_type": "code",
   "execution_count": 48,
   "id": "984ec810",
   "metadata": {},
   "outputs": [
    {
     "data": {
      "text/plain": [
       "10"
      ]
     },
     "execution_count": 48,
     "metadata": {},
     "output_type": "execute_result"
    }
   ],
   "source": [
    "def f1():\n",
    "    return 10  # exit from f1 block\n",
    "    print(\"OK\") # python won't interprete this line\n",
    "    \n",
    "f1()"
   ]
  },
  {
   "cell_type": "code",
   "execution_count": 49,
   "id": "ec8a5913",
   "metadata": {},
   "outputs": [
    {
     "data": {
      "text/plain": [
       "<generator object f2 at 0x00000219DC782CF0>"
      ]
     },
     "execution_count": 49,
     "metadata": {},
     "output_type": "execute_result"
    }
   ],
   "source": [
    "def f2():\n",
    "    yield 10\n",
    "    print(\"OK\")\n",
    "    yield 10+20\n",
    "    yield \"D1\",\"D2\"\n",
    "    yield \"D1\",[\"F1\",'F2','F3'],['F4','F5']\n",
    "    \n",
    "f2()"
   ]
  },
  {
   "cell_type": "code",
   "execution_count": 54,
   "id": "a3f83b4e",
   "metadata": {},
   "outputs": [],
   "source": [
    "gobj = f2()"
   ]
  },
  {
   "cell_type": "code",
   "execution_count": 55,
   "id": "630211f5",
   "metadata": {},
   "outputs": [
    {
     "name": "stdout",
     "output_type": "stream",
     "text": [
      "10\n",
      "OK\n",
      "30\n",
      "('D1', 'D2')\n",
      "('D1', ['F1', 'F2', 'F3'], ['F4', 'F5'])\n"
     ]
    }
   ],
   "source": [
    "print(next(gobj))\n",
    "print(next(gobj))\n",
    "print(next(gobj))\n",
    "print(next(gobj))"
   ]
  },
  {
   "cell_type": "code",
   "execution_count": 56,
   "id": "27e4c12c",
   "metadata": {},
   "outputs": [
    {
     "ename": "StopIteration",
     "evalue": "",
     "output_type": "error",
     "traceback": [
      "\u001b[1;31m---------------------------------------------------------------------------\u001b[0m",
      "\u001b[1;31mStopIteration\u001b[0m                             Traceback (most recent call last)",
      "Cell \u001b[1;32mIn[56], line 1\u001b[0m\n\u001b[1;32m----> 1\u001b[0m \u001b[38;5;28mprint\u001b[39m(\u001b[38;5;28mnext\u001b[39m(gobj))\n",
      "\u001b[1;31mStopIteration\u001b[0m: "
     ]
    }
   ],
   "source": [
    "print(next(gobj))"
   ]
  },
  {
   "cell_type": "code",
   "execution_count": 57,
   "id": "6867bb7c",
   "metadata": {},
   "outputs": [
    {
     "name": "stdout",
     "output_type": "stream",
     "text": [
      "10\n",
      "OK\n",
      "30\n",
      "('D1', 'D2')\n",
      "('D1', ['F1', 'F2', 'F3'], ['F4', 'F5'])\n"
     ]
    }
   ],
   "source": [
    "geobj = f2()\n",
    "\n",
    "for var in geobj:\n",
    "    print(var)"
   ]
  },
  {
   "cell_type": "code",
   "execution_count": 58,
   "id": "d2b0dbd2",
   "metadata": {},
   "outputs": [
    {
     "name": "stdout",
     "output_type": "stream",
     "text": [
      "OK\n"
     ]
    },
    {
     "data": {
      "text/plain": [
       "[10, 30, ('D1', 'D2'), ('D1', ['F1', 'F2', 'F3'], ['F4', 'F5'])]"
      ]
     },
     "execution_count": 58,
     "metadata": {},
     "output_type": "execute_result"
    }
   ],
   "source": [
    "genobj = f2()\n",
    "list(genobj) # we can typecast generator object to list"
   ]
  },
  {
   "cell_type": "code",
   "execution_count": 59,
   "id": "1f3d67d9",
   "metadata": {},
   "outputs": [
    {
     "name": "stdout",
     "output_type": "stream",
     "text": [
      "<class 'generator'>\n"
     ]
    }
   ],
   "source": [
    "class box:\n",
    "    def method1(self):\n",
    "        yield \"Value1\"\n",
    "        yield \"D1\",\"D2\"\n",
    "        yield \"Dx\",[\"F1\",\"F2\"]\n",
    "        yield \"Dy\",[\"f1\",\"f2\",\"f3\"],['f4','f5','f6']\n",
    "    \n",
    "obj = box()\n",
    "print(type(obj.method1()))"
   ]
  },
  {
   "cell_type": "code",
   "execution_count": 60,
   "id": "a257eda8",
   "metadata": {},
   "outputs": [
    {
     "data": {
      "text/plain": [
       "['Value1',\n",
       " ('D1', 'D2'),\n",
       " ('Dx', ['F1', 'F2']),\n",
       " ('Dy', ['f1', 'f2', 'f3'], ['f4', 'f5', 'f6'])]"
      ]
     },
     "execution_count": 60,
     "metadata": {},
     "output_type": "execute_result"
    }
   ],
   "source": [
    "list(obj.method1())"
   ]
  },
  {
   "cell_type": "code",
   "execution_count": 62,
   "id": "ae8f5f31",
   "metadata": {},
   "outputs": [
    {
     "data": {
      "text/plain": [
       "<enumerate at 0x219dc7cbb50>"
      ]
     },
     "execution_count": 62,
     "metadata": {},
     "output_type": "execute_result"
    }
   ],
   "source": [
    "#help(enumerate)\n",
    "\n",
    "s='python'\n",
    "enumerate(s)"
   ]
  },
  {
   "cell_type": "code",
   "execution_count": 63,
   "id": "a23b200d",
   "metadata": {},
   "outputs": [
    {
     "name": "stdout",
     "output_type": "stream",
     "text": [
      "(0, 'p')\n",
      "(1, 'y')\n",
      "(2, 't')\n",
      "(3, 'h')\n",
      "(4, 'o')\n",
      "(5, 'n')\n"
     ]
    }
   ],
   "source": [
    "for var in enumerate(s):\n",
    "    print(var)"
   ]
  },
  {
   "cell_type": "code",
   "execution_count": 64,
   "id": "37d8c492",
   "metadata": {},
   "outputs": [
    {
     "name": "stdout",
     "output_type": "stream",
     "text": [
      "(15, 'p')\n",
      "(16, 'y')\n",
      "(17, 't')\n",
      "(18, 'h')\n",
      "(19, 'o')\n",
      "(20, 'n')\n"
     ]
    }
   ],
   "source": [
    "for var in enumerate(s,15):\n",
    "    print(var)"
   ]
  },
  {
   "cell_type": "code",
   "execution_count": 65,
   "id": "23f65ad5",
   "metadata": {},
   "outputs": [
    {
     "name": "stdout",
     "output_type": "stream",
     "text": [
      "(0, 'eid,ename,edept,eplace,ecost\\n')\n",
      "(1, '101,raj,sales,pune,1000\\n')\n",
      "(2, '102,leo,prod,bglore,2000\\n')\n",
      "(3, '103,paul,HR,chennai,3000\\n')\n",
      "(4, '104,anu,hr,hyderabad,4000\\n')\n",
      "(5, '456,kumar,sales,bglore,3000\\n')\n",
      "(6, '105,zion,Hr,mumbai,5000\\n')\n",
      "(7, '106,bibu,sales,bglore,1450\\n')\n",
      "(8, '107,theeb,sales,noida,4590\\n')\n",
      "(9, '108,bibu,sales,bglore,5000\\n')\n",
      "(10, '113,kumar,prod,hyderabad,5423DATA')\n"
     ]
    }
   ],
   "source": [
    "for var in enumerate(open('E:\\\\emp.csv')):\n",
    "    print(var)"
   ]
  },
  {
   "cell_type": "code",
   "execution_count": 66,
   "id": "54f31099",
   "metadata": {},
   "outputs": [
    {
     "name": "stdout",
     "output_type": "stream",
     "text": [
      "(1, 'eid,ename,edept,eplace,ecost\\n')\n",
      "(2, '101,raj,sales,pune,1000\\n')\n",
      "(3, '102,leo,prod,bglore,2000\\n')\n",
      "(4, '103,paul,HR,chennai,3000\\n')\n",
      "(5, '104,anu,hr,hyderabad,4000\\n')\n",
      "(6, '456,kumar,sales,bglore,3000\\n')\n",
      "(7, '105,zion,Hr,mumbai,5000\\n')\n",
      "(8, '106,bibu,sales,bglore,1450\\n')\n",
      "(9, '107,theeb,sales,noida,4590\\n')\n",
      "(10, '108,bibu,sales,bglore,5000\\n')\n",
      "(11, '113,kumar,prod,hyderabad,5423DATA')\n"
     ]
    }
   ],
   "source": [
    "for var in enumerate(open('E:\\\\emp.csv'),1):\n",
    "    print(var)"
   ]
  },
  {
   "cell_type": "code",
   "execution_count": 67,
   "id": "81b0fb2b",
   "metadata": {},
   "outputs": [
    {
     "name": "stdout",
     "output_type": "stream",
     "text": [
      "1\teid,ename,edept,eplace,ecost\n",
      "2\t101,raj,sales,pune,1000\n",
      "3\t102,leo,prod,bglore,2000\n",
      "4\t103,paul,HR,chennai,3000\n",
      "5\t104,anu,hr,hyderabad,4000\n",
      "6\t456,kumar,sales,bglore,3000\n",
      "7\t105,zion,Hr,mumbai,5000\n",
      "8\t106,bibu,sales,bglore,1450\n",
      "9\t107,theeb,sales,noida,4590\n",
      "10\t108,bibu,sales,bglore,5000\n",
      "11\t113,kumar,prod,hyderabad,5423DATA\n"
     ]
    }
   ],
   "source": [
    "for line,data in enumerate(open('E:\\\\emp.csv'),1):\n",
    "    print(f'{line}\\t{data.strip()}')"
   ]
  },
  {
   "cell_type": "code",
   "execution_count": 68,
   "id": "55ab7faf",
   "metadata": {},
   "outputs": [
    {
     "name": "stdout",
     "output_type": "stream",
     "text": [
      "5\t104,anu,hr,hyderabad,4000\n",
      "6\t456,kumar,sales,bglore,3000\n",
      "7\t105,zion,Hr,mumbai,5000\n"
     ]
    }
   ],
   "source": [
    "for line,data in enumerate(open('E:\\\\emp.csv'),1):\n",
    "    if(line >=5 and line <8):\n",
    "        print(f'{line}\\t{data.strip()}')"
   ]
  },
  {
   "cell_type": "code",
   "execution_count": null,
   "id": "82436149",
   "metadata": {},
   "outputs": [],
   "source": [
    "map(function,<collection>) -> generator\n",
    "     | --<--<--<----|\n",
    "     |\n",
    "    lambda       "
   ]
  },
  {
   "cell_type": "code",
   "execution_count": 69,
   "id": "45f31c46",
   "metadata": {},
   "outputs": [
    {
     "data": {
      "text/plain": [
       "[110, 120, 130, 140, 150]"
      ]
     },
     "execution_count": 69,
     "metadata": {},
     "output_type": "execute_result"
    }
   ],
   "source": [
    "L = []\n",
    "\n",
    "def f1(a):                       # lambda a: a+100  -> fx=lambda a:a+100 ->fx(v)\n",
    "    return a+100\n",
    "\n",
    "for var in [10,20,30,40,50]:     # <collection>\n",
    "    r = f1(var)\n",
    "    L.append(r)\n",
    "    \n",
    "L"
   ]
  },
  {
   "cell_type": "code",
   "execution_count": 71,
   "id": "deafb07e",
   "metadata": {},
   "outputs": [
    {
     "data": {
      "text/plain": [
       "[110, 120, 130, 140, 150]"
      ]
     },
     "execution_count": 71,
     "metadata": {},
     "output_type": "execute_result"
    }
   ],
   "source": [
    "list(map(lambda a:a+100,[10,20,30,40,50]))"
   ]
  },
  {
   "cell_type": "code",
   "execution_count": 73,
   "id": "445b7e9a",
   "metadata": {},
   "outputs": [
    {
     "name": "stdout",
     "output_type": "stream",
     "text": [
      "{'K1': [110, 120, 130, 140, 150]}\n"
     ]
    },
    {
     "data": {
      "text/plain": [
       "[[110, 120, 130, 140, 150]]"
      ]
     },
     "execution_count": 73,
     "metadata": {},
     "output_type": "execute_result"
    }
   ],
   "source": [
    "d={}\n",
    "d['K1']=list(map(lambda a:a+100,[10,20,30,40,50]))\n",
    "L=[]\n",
    "L.append(list(map(lambda a:a+100,[10,20,30,40,50])))\n",
    "print(d)\n",
    "L"
   ]
  },
  {
   "cell_type": "code",
   "execution_count": null,
   "id": "0863f75b",
   "metadata": {},
   "outputs": [],
   "source": [
    "map(function,<Collection>) -> generator\n",
    "| - arithmetic,relational,membership etc.,\n",
    "|\n",
    "filter(function,<Collection>) -> generator\n",
    "|->filter True value - not supports arithmetic operation"
   ]
  },
  {
   "cell_type": "code",
   "execution_count": 74,
   "id": "6b9a6cba",
   "metadata": {},
   "outputs": [
    {
     "data": {
      "text/plain": [
       "[True, True, False, False, True]"
      ]
     },
     "execution_count": 74,
     "metadata": {},
     "output_type": "execute_result"
    }
   ],
   "source": [
    "list(map(lambda a:a >100,[120,110,50,60,130]))"
   ]
  },
  {
   "cell_type": "code",
   "execution_count": 75,
   "id": "e79799b0",
   "metadata": {},
   "outputs": [
    {
     "data": {
      "text/plain": [
       "[220, 210, 150, 160, 230]"
      ]
     },
     "execution_count": 75,
     "metadata": {},
     "output_type": "execute_result"
    }
   ],
   "source": [
    "list(map(lambda a:a +100,[120,110,50,60,130]))"
   ]
  },
  {
   "cell_type": "code",
   "execution_count": 76,
   "id": "5a24b4ad",
   "metadata": {},
   "outputs": [
    {
     "data": {
      "text/plain": [
       "[120, 110, 130]"
      ]
     },
     "execution_count": 76,
     "metadata": {},
     "output_type": "execute_result"
    }
   ],
   "source": [
    "list(filter(lambda a:a >100,[120,110,50,60,130]))"
   ]
  },
  {
   "cell_type": "code",
   "execution_count": 77,
   "id": "529134b3",
   "metadata": {},
   "outputs": [
    {
     "data": {
      "text/plain": [
       "[120, 110, 50, 60, 130]"
      ]
     },
     "execution_count": 77,
     "metadata": {},
     "output_type": "execute_result"
    }
   ],
   "source": [
    "list(filter(lambda a:a +100,[120,110,50,60,130]))"
   ]
  },
  {
   "cell_type": "code",
   "execution_count": 78,
   "id": "6a4ff69d",
   "metadata": {},
   "outputs": [
    {
     "ename": "SyntaxError",
     "evalue": "unterminated string literal (detected at line 3) (779490474.py, line 3)",
     "output_type": "error",
     "traceback": [
      "\u001b[1;36m  Cell \u001b[1;32mIn[78], line 3\u001b[1;36m\u001b[0m\n\u001b[1;33m    print(\"Three)\u001b[0m\n\u001b[1;37m          ^\u001b[0m\n\u001b[1;31mSyntaxError\u001b[0m\u001b[1;31m:\u001b[0m unterminated string literal (detected at line 3)\n"
     ]
    }
   ],
   "source": [
    "print(\"One\")\n",
    "print(\"Two\")\n",
    "print(\"Three)\n",
    "print(\"FOur\")"
   ]
  },
  {
   "cell_type": "code",
   "execution_count": 79,
   "id": "5dae1262",
   "metadata": {},
   "outputs": [
    {
     "name": "stdout",
     "output_type": "stream",
     "text": [
      "One\n",
      "Two\n"
     ]
    },
    {
     "ename": "NameError",
     "evalue": "name 'Three' is not defined",
     "output_type": "error",
     "traceback": [
      "\u001b[1;31m---------------------------------------------------------------------------\u001b[0m",
      "\u001b[1;31mNameError\u001b[0m                                 Traceback (most recent call last)",
      "Cell \u001b[1;32mIn[79], line 3\u001b[0m\n\u001b[0;32m      1\u001b[0m \u001b[38;5;28mprint\u001b[39m(\u001b[38;5;124m\"\u001b[39m\u001b[38;5;124mOne\u001b[39m\u001b[38;5;124m\"\u001b[39m)\n\u001b[0;32m      2\u001b[0m \u001b[38;5;28mprint\u001b[39m(\u001b[38;5;124m\"\u001b[39m\u001b[38;5;124mTwo\u001b[39m\u001b[38;5;124m\"\u001b[39m)\n\u001b[1;32m----> 3\u001b[0m \u001b[38;5;28mprint\u001b[39m(Three)\n\u001b[0;32m      4\u001b[0m \u001b[38;5;28mprint\u001b[39m(\u001b[38;5;124m\"\u001b[39m\u001b[38;5;124mFOur\u001b[39m\u001b[38;5;124m\"\u001b[39m)\n\u001b[0;32m      5\u001b[0m \u001b[38;5;28mprint\u001b[39m(\u001b[38;5;124m\"\u001b[39m\u001b[38;5;124mFive\u001b[39m\u001b[38;5;124m\"\u001b[39m)\n",
      "\u001b[1;31mNameError\u001b[0m: name 'Three' is not defined"
     ]
    }
   ],
   "source": [
    "print(\"One\")\n",
    "print(\"Two\")\n",
    "print(Three)\n",
    "print(\"FOur\")\n",
    "print(\"Five\")"
   ]
  },
  {
   "cell_type": "code",
   "execution_count": null,
   "id": "63d899c5",
   "metadata": {},
   "outputs": [],
   "source": [
    "try:\n",
    "    <code> \n",
    "except <classname>:\n",
    "    <Handle this error>\n",
    "else:\n",
    "    <There is no Error>\n",
    "finally:\n",
    "    <Always running block>"
   ]
  },
  {
   "cell_type": "code",
   "execution_count": 80,
   "id": "c8b7bf51",
   "metadata": {},
   "outputs": [
    {
     "name": "stdout",
     "output_type": "stream",
     "text": [
      "Exception is occurred\n",
      "Thank you\n"
     ]
    }
   ],
   "source": [
    "try:\n",
    "    print(va)\n",
    "except Exception:\n",
    "    print(\"Exception is occurred\")\n",
    "else:\n",
    "    print(\"There is no error\")\n",
    "finally:\n",
    "    print(\"Thank you\")"
   ]
  },
  {
   "cell_type": "code",
   "execution_count": 81,
   "id": "72ac9336",
   "metadata": {},
   "outputs": [
    {
     "name": "stdout",
     "output_type": "stream",
     "text": [
      "There is no error\n",
      "Thank you\n"
     ]
    }
   ],
   "source": [
    "try:\n",
    "    va=10\n",
    "except Exception:\n",
    "    print(\"Exception is occurred\")\n",
    "else:\n",
    "    print(\"There is no error\")\n",
    "finally:\n",
    "    print(\"Thank you\")"
   ]
  },
  {
   "cell_type": "code",
   "execution_count": 83,
   "id": "6b1392ae",
   "metadata": {},
   "outputs": [
    {
     "name": "stdout",
     "output_type": "stream",
     "text": [
      "Exception is occurred\n",
      "name 'vA' is not defined\n",
      "Thank you\n"
     ]
    }
   ],
   "source": [
    "try:\n",
    "    print(vA)\n",
    "except Exception as eobj:\n",
    "    print(\"Exception is occurred\")\n",
    "    print(eobj)\n",
    "else:\n",
    "    print(\"There is no error\")\n",
    "finally:\n",
    "    print(\"Thank you\")"
   ]
  },
  {
   "cell_type": "code",
   "execution_count": 84,
   "id": "8d784a22",
   "metadata": {},
   "outputs": [
    {
     "name": "stdout",
     "output_type": "stream",
     "text": [
      "Exception is occurred\n",
      "(<class 'NameError'>, NameError(\"name 'vA' is not defined\"), <traceback object at 0x00000219DC541C40>)\n",
      "Thank you\n"
     ]
    }
   ],
   "source": [
    "import sys\n",
    "try:\n",
    "    print(vA)\n",
    "except Exception:\n",
    "    print(\"Exception is occurred\")\n",
    "    print(sys.exc_info())\n",
    "else:\n",
    "    print(\"There is no error\")\n",
    "finally:\n",
    "    print(\"Thank you\")"
   ]
  },
  {
   "cell_type": "code",
   "execution_count": 85,
   "id": "b661ff70",
   "metadata": {},
   "outputs": [
    {
     "name": "stdout",
     "output_type": "stream",
     "text": [
      "one\n",
      "two\n",
      "three\n",
      "(<class 'NameError'>, NameError(\"name 'four' is not defined\"), <traceback object at 0x00000219DA430F80>)\n",
      "0\n",
      "1\n",
      "2\n",
      "3\n",
      "4\n",
      "End of the line\n"
     ]
    }
   ],
   "source": [
    "import sys\n",
    "print(\"one\")\n",
    "print(\"two\")\n",
    "print(\"three\")\n",
    "try:\n",
    "    print(four)\n",
    "except Exception:\n",
    "    print(sys.exc_info())\n",
    "\n",
    "\n",
    "for var in range(5):\n",
    "    print(var)\n",
    "\n",
    "print(\"End of the line\")"
   ]
  },
  {
   "cell_type": "code",
   "execution_count": 88,
   "id": "9988fe1b",
   "metadata": {},
   "outputs": [
    {
     "name": "stdout",
     "output_type": "stream",
     "text": [
      "Raj\t1000\n",
      "Kumar\t3000\n",
      "Bibu\t1450\n",
      "Theeb\t4590\n",
      "Bibu\t5000\n"
     ]
    }
   ],
   "source": [
    "fobj = open('E:\\\\emp.csv')\n",
    "L = fobj.readlines()\n",
    "fobj.close()\n",
    "\n",
    "for var in L:\n",
    "    var=var.strip()\n",
    "    if('sales' in var):\n",
    "        L1=var.split(\",\")\n",
    "        print(f'{L1[1].title()}\\t{L1[-1]}')"
   ]
  },
  {
   "cell_type": "code",
   "execution_count": 89,
   "id": "0c2ef5d8",
   "metadata": {},
   "outputs": [
    {
     "data": {
      "text/plain": [
       "['101,raj,sales,pune,1000\\n',\n",
       " '456,kumar,sales,bglore,3000\\n',\n",
       " '106,bibu,sales,bglore,1450\\n',\n",
       " '107,theeb,sales,noida,4590\\n',\n",
       " '108,bibu,sales,bglore,5000\\n']"
      ]
     },
     "execution_count": 89,
     "metadata": {},
     "output_type": "execute_result"
    }
   ],
   "source": [
    "list(filter(lambda a:'sales' in a,open('E:\\\\emp.csv')))"
   ]
  },
  {
   "cell_type": "code",
   "execution_count": 90,
   "id": "5046d221",
   "metadata": {},
   "outputs": [
    {
     "data": {
      "text/plain": [
       "[['101', 'raj', 'sales', 'pune', '1000\\n'],\n",
       " ['456', 'kumar', 'sales', 'bglore', '3000\\n'],\n",
       " ['106', 'bibu', 'sales', 'bglore', '1450\\n'],\n",
       " ['107', 'theeb', 'sales', 'noida', '4590\\n'],\n",
       " ['108', 'bibu', 'sales', 'bglore', '5000\\n']]"
      ]
     },
     "execution_count": 90,
     "metadata": {},
     "output_type": "execute_result"
    }
   ],
   "source": [
    "list(map(lambda a:a.split(\",\"),filter(lambda a:'sales' in a,open('E:\\\\emp.csv'))))"
   ]
  },
  {
   "cell_type": "code",
   "execution_count": 92,
   "id": "a62e9a81",
   "metadata": {},
   "outputs": [
    {
     "data": {
      "text/plain": [
       "['Raj', 'Kumar', 'Bibu', 'Theeb', 'Bibu']"
      ]
     },
     "execution_count": 92,
     "metadata": {},
     "output_type": "execute_result"
    }
   ],
   "source": [
    "list(map(lambda a:a.split(\",\")[1].title(),filter(lambda a:'sales' in a,\n",
    "                                                 open('E:\\\\emp.csv'))))"
   ]
  },
  {
   "cell_type": "code",
   "execution_count": 93,
   "id": "2ff0eb56",
   "metadata": {},
   "outputs": [
    {
     "data": {
      "text/plain": [
       "['1000\\n', '3000\\n', '1450\\n', '4590\\n', '5000\\n']"
      ]
     },
     "execution_count": 93,
     "metadata": {},
     "output_type": "execute_result"
    }
   ],
   "source": [
    "list(map(lambda a:a.split(\",\")[-1],filter(lambda a:'sales' in a,\n",
    "                                          open('E:\\\\emp.csv'))))"
   ]
  },
  {
   "cell_type": "code",
   "execution_count": 94,
   "id": "070e0205",
   "metadata": {},
   "outputs": [
    {
     "name": "stdout",
     "output_type": "stream",
     "text": [
      "150\n"
     ]
    }
   ],
   "source": [
    "# python 2.x\n",
    "# reduce(lambda a,b:a+b,<inputCollection>) ->SingleValue\n",
    "\n",
    "L=[10,20,30,40,50]\n",
    "t=0\n",
    "for var in L:\n",
    "    t=t+var\n",
    "print(t)"
   ]
  },
  {
   "cell_type": "code",
   "execution_count": 95,
   "id": "4d34e96c",
   "metadata": {},
   "outputs": [
    {
     "data": {
      "text/plain": [
       "150"
      ]
     },
     "execution_count": 95,
     "metadata": {},
     "output_type": "execute_result"
    }
   ],
   "source": [
    "# python 3.x\n",
    "# functools package\n",
    "\n",
    "from functools import reduce\n",
    "reduce(lambda a,b:a+b,L)"
   ]
  },
  {
   "cell_type": "code",
   "execution_count": 97,
   "id": "0ff54378",
   "metadata": {},
   "outputs": [
    {
     "data": {
      "text/plain": [
       "15040"
      ]
     },
     "execution_count": 97,
     "metadata": {},
     "output_type": "execute_result"
    }
   ],
   "source": [
    "reduce(lambda a,b:int(a)+int(b),map(lambda a:a.split(\",\")[-1],\n",
    "                                    filter(lambda a:'sales' in a,\n",
    "                                           open('E:\\\\emp.csv'))))"
   ]
  },
  {
   "cell_type": "code",
   "execution_count": null,
   "id": "a6e8d689",
   "metadata": {},
   "outputs": [],
   "source": [
    "Regular Expression\n",
    "--------------------------------------\n",
    " |->Search |->Substitute |->Split\n",
    "    \n",
    "import re <== module\n",
    "\n",
    "search\n",
    "-------\n",
    " |-> re.search()  => re.search('input_pattern','input_String',re.I) -><ack>/None\n",
    " |-> re.findall() => re.findall('input_pattern','input_string',re.I)->[result]/[]\n"
   ]
  },
  {
   "cell_type": "code",
   "execution_count": 99,
   "id": "62430e28",
   "metadata": {},
   "outputs": [
    {
     "data": {
      "text/plain": [
       "<re.Match object; span=(8, 13), match='sales'>"
      ]
     },
     "execution_count": 99,
     "metadata": {},
     "output_type": "execute_result"
    }
   ],
   "source": [
    "import re\n",
    "s='101,raj,sales,pune,1000'\n",
    "re.search('sales',s)"
   ]
  },
  {
   "cell_type": "code",
   "execution_count": 100,
   "id": "cb3495af",
   "metadata": {},
   "outputs": [],
   "source": [
    "re.search('prod',s)"
   ]
  },
  {
   "cell_type": "code",
   "execution_count": 101,
   "id": "a1a43147",
   "metadata": {},
   "outputs": [
    {
     "data": {
      "text/plain": [
       "False"
      ]
     },
     "execution_count": 101,
     "metadata": {},
     "output_type": "execute_result"
    }
   ],
   "source": [
    "bool(re.search('prod',s))"
   ]
  },
  {
   "cell_type": "code",
   "execution_count": 102,
   "id": "2368759a",
   "metadata": {},
   "outputs": [
    {
     "data": {
      "text/plain": [
       "['sales']"
      ]
     },
     "execution_count": 102,
     "metadata": {},
     "output_type": "execute_result"
    }
   ],
   "source": [
    "re.findall('sales',s)"
   ]
  },
  {
   "cell_type": "code",
   "execution_count": 103,
   "id": "4cf774d4",
   "metadata": {},
   "outputs": [
    {
     "data": {
      "text/plain": [
       "[]"
      ]
     },
     "execution_count": 103,
     "metadata": {},
     "output_type": "execute_result"
    }
   ],
   "source": [
    "re.findall('prod',s)"
   ]
  },
  {
   "cell_type": "code",
   "execution_count": 104,
   "id": "c1a7c15d",
   "metadata": {},
   "outputs": [
    {
     "data": {
      "text/plain": [
       "False"
      ]
     },
     "execution_count": 104,
     "metadata": {},
     "output_type": "execute_result"
    }
   ],
   "source": [
    "bool(re.findall('prod',s))"
   ]
  },
  {
   "cell_type": "code",
   "execution_count": 106,
   "id": "8c157d74",
   "metadata": {},
   "outputs": [
    {
     "name": "stdout",
     "output_type": "stream",
     "text": [
      "101,raj,sales,pune,1000\n"
     ]
    }
   ],
   "source": [
    "if(re.search('sales',s,re.I)):\n",
    "    print(s)\n",
    "else:\n",
    "    print('Sorry Given Pattern is not matched')"
   ]
  },
  {
   "cell_type": "code",
   "execution_count": null,
   "id": "46c833cb",
   "metadata": {},
   "outputs": [],
   "source": [
    "Reg Chars\n",
    "-----------\n",
    "^  ==> ^pattern - line starts with pattern\n",
    "$  ==>  pattern$  - line ends with pattern\n",
    "^pattern$  => Pattern only\n",
    ". ----------> It match any single chars\n",
    ".* ---------> List of all\n",
    "[] --->Character class_ - character based search\n",
    "[a-zA-Z]\n",
    "[A-Z]\n",
    "[a-z]\n",
    "[0-9] <or> \\d\n",
    "[a-zA-Z0-9] <or> \\w\n",
    "\\s <== space \n",
    "^[]\n",
    "[]$\n",
    "[^] <== Not matching chars\n",
    "^$  <== Empty line\n",
    "\n",
    "|   -> pattern1|pattern2 <== any one pattern is matched ->OK\n",
    "()  -> (pattern1)(pattern2) <== both pattern should match same order \n",
    "+\n",
    "{}"
   ]
  },
  {
   "cell_type": "code",
   "execution_count": 107,
   "id": "e54b9ab9",
   "metadata": {},
   "outputs": [
    {
     "data": {
      "text/plain": [
       "['sales']"
      ]
     },
     "execution_count": 107,
     "metadata": {},
     "output_type": "execute_result"
    }
   ],
   "source": [
    "re.findall('sales','101,raj,sales,pune')"
   ]
  },
  {
   "cell_type": "code",
   "execution_count": 108,
   "id": "6a5eb985",
   "metadata": {},
   "outputs": [
    {
     "data": {
      "text/plain": [
       "[]"
      ]
     },
     "execution_count": 108,
     "metadata": {},
     "output_type": "execute_result"
    }
   ],
   "source": [
    "re.findall('^sales','101,raj,sales,pune')"
   ]
  },
  {
   "cell_type": "code",
   "execution_count": 110,
   "id": "30223244",
   "metadata": {},
   "outputs": [
    {
     "data": {
      "text/plain": [
       "[]"
      ]
     },
     "execution_count": 110,
     "metadata": {},
     "output_type": "execute_result"
    }
   ],
   "source": [
    "re.findall('sales$','asfasfsd sales details')"
   ]
  },
  {
   "cell_type": "code",
   "execution_count": 111,
   "id": "56a88ba2",
   "metadata": {},
   "outputs": [
    {
     "data": {
      "text/plain": [
       "['sales']"
      ]
     },
     "execution_count": 111,
     "metadata": {},
     "output_type": "execute_result"
    }
   ],
   "source": [
    "re.findall('^sales$','sales')"
   ]
  },
  {
   "cell_type": "code",
   "execution_count": 112,
   "id": "2f86ddcf",
   "metadata": {},
   "outputs": [
    {
     "data": {
      "text/plain": [
       "[]"
      ]
     },
     "execution_count": 112,
     "metadata": {},
     "output_type": "execute_result"
    }
   ],
   "source": [
    "re.findall('^sales$','sales,')"
   ]
  },
  {
   "cell_type": "code",
   "execution_count": 113,
   "id": "761bd687",
   "metadata": {},
   "outputs": [
    {
     "data": {
      "text/plain": [
       "[]"
      ]
     },
     "execution_count": 113,
     "metadata": {},
     "output_type": "execute_result"
    }
   ],
   "source": [
    "re.findall('^sales:$','sales')"
   ]
  },
  {
   "cell_type": "code",
   "execution_count": 115,
   "id": "18236261",
   "metadata": {},
   "outputs": [
    {
     "data": {
      "text/plain": [
       "['sales,10']"
      ]
     },
     "execution_count": 115,
     "metadata": {},
     "output_type": "execute_result"
    }
   ],
   "source": [
    "re.findall('^sales...','sales,101,pune')\n",
    "#            -----<CHAR><CHAR><CHAR>"
   ]
  },
  {
   "cell_type": "code",
   "execution_count": 118,
   "id": "493b513a",
   "metadata": {},
   "outputs": [
    {
     "data": {
      "text/plain": [
       "['e3.13']"
      ]
     },
     "execution_count": 118,
     "metadata": {},
     "output_type": "execute_result"
    }
   ],
   "source": [
    "re.findall('.....$','python programming language3.13')"
   ]
  },
  {
   "cell_type": "code",
   "execution_count": 119,
   "id": "d7d47318",
   "metadata": {},
   "outputs": [
    {
     "data": {
      "text/plain": [
       "['sales dept details code number']"
      ]
     },
     "execution_count": 119,
     "metadata": {},
     "output_type": "execute_result"
    }
   ],
   "source": [
    "re.findall('sales.*','list of emp sales dept details code number')"
   ]
  },
  {
   "cell_type": "code",
   "execution_count": 120,
   "id": "9eed701b",
   "metadata": {},
   "outputs": [
    {
     "data": {
      "text/plain": [
       "['sales dept details code']"
      ]
     },
     "execution_count": 120,
     "metadata": {},
     "output_type": "execute_result"
    }
   ],
   "source": [
    "re.findall('sales.*code','list of emp sales dept details code number')"
   ]
  },
  {
   "cell_type": "code",
   "execution_count": 121,
   "id": "51e4d6d8",
   "metadata": {},
   "outputs": [
    {
     "data": {
      "text/plain": [
       "[]"
      ]
     },
     "execution_count": 121,
     "metadata": {},
     "output_type": "execute_result"
    }
   ],
   "source": [
    "re.findall('sales.*code$','list of emp sales dept details code number')"
   ]
  },
  {
   "cell_type": "code",
   "execution_count": null,
   "id": "6e5e9aa5",
   "metadata": {},
   "outputs": [],
   "source": [
    "# [] <== Character class_  [] <= 1 char  [][] <== 2 chars\n",
    "\n",
    "[Aa]run -> Arun arun //OK\n",
    "[aAk][rR]un\n",
    "-----====---\n",
    "arun\n",
    "aRun\n",
    "Arun\n",
    "ARun\n",
    "krun\n",
    "kRun\n",
    "-----//OK"
   ]
  },
  {
   "cell_type": "code",
   "execution_count": 122,
   "id": "22a76960",
   "metadata": {},
   "outputs": [],
   "source": [
    "msg='''Click the URL provided by the organizer. If a URL was not included \n",
    "in the meeting invite, click Join a Zoom Meeting and enter the meeting details \n",
    "when prompted.Meeting Code:JK-1314 dated on 26th Nov 2024 Sno 5 details'''"
   ]
  },
  {
   "cell_type": "code",
   "execution_count": 123,
   "id": "02cd13fb",
   "metadata": {},
   "outputs": [
    {
     "data": {
      "text/plain": [
       "['1', '3', '1', '4', '2', '6', '2', '0', '2', '4', '5']"
      ]
     },
     "execution_count": 123,
     "metadata": {},
     "output_type": "execute_result"
    }
   ],
   "source": [
    "re.findall('[0-9]',msg)"
   ]
  },
  {
   "cell_type": "code",
   "execution_count": 124,
   "id": "1f8de608",
   "metadata": {},
   "outputs": [
    {
     "data": {
      "text/plain": [
       "['1', '3', '1', '4', '2', '6', '2', '0', '2', '4', '5']"
      ]
     },
     "execution_count": 124,
     "metadata": {},
     "output_type": "execute_result"
    }
   ],
   "source": [
    "re.findall('\\d',msg)"
   ]
  },
  {
   "cell_type": "code",
   "execution_count": 126,
   "id": "4585a1f6",
   "metadata": {},
   "outputs": [
    {
     "data": {
      "text/plain": [
       "['3', '4', '2', '2', '2', '4']"
      ]
     },
     "execution_count": 126,
     "metadata": {},
     "output_type": "execute_result"
    }
   ],
   "source": [
    "re.findall('[2-4]',msg)"
   ]
  },
  {
   "cell_type": "code",
   "execution_count": 127,
   "id": "e132f5d2",
   "metadata": {},
   "outputs": [
    {
     "data": {
      "text/plain": [
       "['5', '3', '1']"
      ]
     },
     "execution_count": 127,
     "metadata": {},
     "output_type": "execute_result"
    }
   ],
   "source": [
    "s='531,LEO,pune'\n",
    "re.findall('[0-9]',s) # match any digits"
   ]
  },
  {
   "cell_type": "code",
   "execution_count": 128,
   "id": "24048f7f",
   "metadata": {},
   "outputs": [
    {
     "data": {
      "text/plain": [
       "['5']"
      ]
     },
     "execution_count": 128,
     "metadata": {},
     "output_type": "execute_result"
    }
   ],
   "source": [
    "re.findall('^[0-9]',s) # starts with any single digits"
   ]
  },
  {
   "cell_type": "code",
   "execution_count": 129,
   "id": "f66821dc",
   "metadata": {},
   "outputs": [
    {
     "data": {
      "text/plain": [
       "[',', 'L', 'E', 'O', ',', 'p', 'u', 'n', 'e']"
      ]
     },
     "execution_count": 129,
     "metadata": {},
     "output_type": "execute_result"
    }
   ],
   "source": [
    "re.findall('[^0-9]',s) # NOT Matching any digits"
   ]
  },
  {
   "cell_type": "code",
   "execution_count": 130,
   "id": "6c8bdde5",
   "metadata": {},
   "outputs": [
    {
     "data": {
      "text/plain": [
       "['@', '.', ',', '%', '(', ' ', ')']"
      ]
     },
     "execution_count": 130,
     "metadata": {},
     "output_type": "execute_result"
    }
   ],
   "source": [
    "s=\"userA@host.com,12%DATA(repo )\"\n",
    "\n",
    "re.findall('[^0-9A-Za-z]',s) # match - specialchars only"
   ]
  },
  {
   "cell_type": "code",
   "execution_count": 131,
   "id": "435568cc",
   "metadata": {},
   "outputs": [
    {
     "data": {
      "text/plain": [
       "['@', '.', ',', '%', '(', ')']"
      ]
     },
     "execution_count": 131,
     "metadata": {},
     "output_type": "execute_result"
    }
   ],
   "source": [
    "re.findall('[^0-9A-Za-z\\s]',s) # match - specialchars only"
   ]
  },
  {
   "cell_type": "code",
   "execution_count": 132,
   "id": "0c72051d",
   "metadata": {},
   "outputs": [
    {
     "data": {
      "text/plain": [
       "['@', '.', ',', '%', '(', ')']"
      ]
     },
     "execution_count": 132,
     "metadata": {},
     "output_type": "execute_result"
    }
   ],
   "source": [
    "re.findall('[^\\w\\s]',s)"
   ]
  },
  {
   "cell_type": "code",
   "execution_count": 133,
   "id": "f5fa8681",
   "metadata": {},
   "outputs": [
    {
     "data": {
      "text/plain": [
       "['flask']"
      ]
     },
     "execution_count": 133,
     "metadata": {},
     "output_type": "execute_result"
    }
   ],
   "source": [
    "msg='python supports flask and fastAPI for fullstack development'\n",
    "\n",
    "re.findall('django|flask|rails',msg)"
   ]
  },
  {
   "cell_type": "code",
   "execution_count": 134,
   "id": "f9f12d8e",
   "metadata": {},
   "outputs": [
    {
     "data": {
      "text/plain": [
       "['python supports flask and fastAPI for fullstack development']"
      ]
     },
     "execution_count": 134,
     "metadata": {},
     "output_type": "execute_result"
    }
   ],
   "source": [
    "re.findall('^[A-Za-z].*[0-9]$|^[a-z].*[A-Z]$|^[a-z].*API.*[a-z]$',msg)"
   ]
  },
  {
   "cell_type": "code",
   "execution_count": 135,
   "id": "b4f9d5f1",
   "metadata": {},
   "outputs": [
    {
     "data": {
      "text/plain": [
       "[]"
      ]
     },
     "execution_count": 135,
     "metadata": {},
     "output_type": "execute_result"
    }
   ],
   "source": [
    "re.findall('(flask)(fastAPI)',msg)"
   ]
  },
  {
   "cell_type": "code",
   "execution_count": 136,
   "id": "db306e0a",
   "metadata": {},
   "outputs": [
    {
     "data": {
      "text/plain": [
       "[('flask', 'fastAPI')]"
      ]
     },
     "execution_count": 136,
     "metadata": {},
     "output_type": "execute_result"
    }
   ],
   "source": [
    "re.findall('(flask).*(fastAPI)',msg)"
   ]
  },
  {
   "cell_type": "code",
   "execution_count": 137,
   "id": "503fbc36",
   "metadata": {},
   "outputs": [
    {
     "data": {
      "text/plain": [
       "[]"
      ]
     },
     "execution_count": 137,
     "metadata": {},
     "output_type": "execute_result"
    }
   ],
   "source": [
    "re.findall('(fastAPI).*(flask)',msg)"
   ]
  },
  {
   "cell_type": "code",
   "execution_count": null,
   "id": "1113ade8",
   "metadata": {},
   "outputs": [],
   "source": [
    "# <pattern>+  => 1 or more times\n",
    "ab+c\n",
    "|\n",
    "abc\n",
    "abbc\n",
    "abbbbbbbbbbbbbbbbbbbc \n",
    "-------------------------//OK"
   ]
  },
  {
   "cell_type": "code",
   "execution_count": null,
   "id": "f411879f",
   "metadata": {},
   "outputs": [],
   "source": [
    "re.findall('\\s+',inputString)\n",
    "            |\n",
    "           1 or more space is matched ->OK\n",
    "\n",
    "<Pattern>{n} -> n times\n",
    "ab{3}c => abbbc //OK\n",
    "\n",
    "ab{3,}c ==> abbbc abbbbbbbbbbbbbbbbbbbbbbbbbc //OK\n",
    "\n",
    "ab{3,5}c ==> abbbc abbbbc abbbbbc //OK\n",
    "\n",
    "re.sub('oldPattern','replacement_str','input_string',count,re.I) -> str ->(A)\n",
    "(A) -> relaced string if old pattern is matched\n",
    "    -> input_string if old pattern is not matched                                                                       "
   ]
  },
  {
   "cell_type": "code",
   "execution_count": 139,
   "id": "63aeb1de",
   "metadata": {},
   "outputs": [
    {
     "name": "stdout",
     "output_type": "stream",
     "text": [
      "eid,ename,edept,eplace,ecost\n",
      "101,raj,pune,1000\n",
      "102,leo,prod,bglore,2000\n",
      "103,paul,HR,chennai,3000\n",
      "104,anu,hr,hyderabad,4000\n",
      "456,kumar,bglore,3000\n",
      "105,zion,Hr,mumbai,5000\n",
      "106,bibu,bglore,1450\n",
      "107,theeb,noida,4590\n",
      "108,bibu,bglore,5000\n",
      "113,kumar,prod,hyderabad,5423DATA\n"
     ]
    }
   ],
   "source": [
    "for var in open('e:\\\\emp.csv'):\n",
    "    var=var.strip()\n",
    "    print(re.sub('sales.','',var))"
   ]
  },
  {
   "cell_type": "code",
   "execution_count": 141,
   "id": "ef614bc9",
   "metadata": {},
   "outputs": [
    {
     "name": "stdout",
     "output_type": "stream",
     "text": [
      "101,raj,pune,1000\n",
      "456,kumar,bglore,3000\n",
      "106,bibu,bglore,1450\n",
      "107,theeb,noida,4590\n",
      "108,bibu,bglore,5000\n"
     ]
    }
   ],
   "source": [
    "for var in open('e:\\\\emp.csv'):\n",
    "    var=var.strip()\n",
    "    if(re.search('sales',var)):\n",
    "        print(re.sub('sales.','',var))\n",
    "    "
   ]
  },
  {
   "cell_type": "code",
   "execution_count": 144,
   "id": "b5a5b90c",
   "metadata": {},
   "outputs": [
    {
     "name": "stdout",
     "output_type": "stream",
     "text": [
      "ansible_playbook_essentials.pdf\n",
      "Billing_info.log\n",
      "DAY-3.pdf\n",
      "ICR.log\n",
      "IP.log\n",
      "IP1.log\n",
      "pin_history.log\n",
      "products.log\n",
      "r1.log\n"
     ]
    }
   ],
   "source": [
    "import os\n",
    "for var in os.listdir(\"E:\\\\\"):\n",
    "    if(re.search(\"log$|pdf$\",var)):\n",
    "        print(var)"
   ]
  },
  {
   "cell_type": "code",
   "execution_count": 145,
   "id": "f4e0a31e",
   "metadata": {},
   "outputs": [
    {
     "data": {
      "text/plain": [
       "['root', 'x', 'bin', 'bash']"
      ]
     },
     "execution_count": 145,
     "metadata": {},
     "output_type": "execute_result"
    }
   ],
   "source": [
    "s='root:x:bin:bash'\n",
    "s.split(':')"
   ]
  },
  {
   "cell_type": "code",
   "execution_count": 147,
   "id": "a348844c",
   "metadata": {},
   "outputs": [
    {
     "name": "stdout",
     "output_type": "stream",
     "text": [
      "['root', 'x,bin~bash'] ['root:x,bin', 'bash']\n"
     ]
    }
   ],
   "source": [
    "s='root:x,bin~bash'\n",
    "print(s.split(':'),s.split(\"~\"))"
   ]
  },
  {
   "cell_type": "code",
   "execution_count": 148,
   "id": "533985b4",
   "metadata": {},
   "outputs": [
    {
     "data": {
      "text/plain": [
       "['root', 'x', 'bin', 'bash']"
      ]
     },
     "execution_count": 148,
     "metadata": {},
     "output_type": "execute_result"
    }
   ],
   "source": [
    "# re.split('RegXPattern','inputString') ->List\n",
    "\n",
    "re.split('[^\\w\\s]',s)"
   ]
  },
  {
   "cell_type": "code",
   "execution_count": null,
   "id": "076db0c6",
   "metadata": {},
   "outputs": [],
   "source": [
    "prodID,prodName,vendor,cost,salescount\n",
    "101,prodA,V1,1000,45\n",
    "102:prodB|V2:2000-55\n",
    "103:prodC~V3:3000:32\n",
    "104,prodD|V4:,10\n",
    "105:prodX|V5:1000-55\n",
    "106:prodY~V6:,20"
   ]
  },
  {
   "cell_type": "code",
   "execution_count": 149,
   "id": "0f0ac17f",
   "metadata": {},
   "outputs": [
    {
     "name": "stdout",
     "output_type": "stream",
     "text": [
      "['prodID', 'prodName', 'vendor', 'cost', 'salescount']\n",
      "['101', 'prodA', 'V1', '1000', '45']\n",
      "['102', 'prodB', 'V2', '2000', '55']\n",
      "['103', 'prodC', 'V3', '3000', '32']\n",
      "['104', 'prodD', 'V4', '', '10']\n",
      "['105', 'prodX', 'V5', '1000', '55']\n",
      "['106', 'prodY', 'V6', '', '20']\n"
     ]
    }
   ],
   "source": [
    "for var in open('unformatted_IP.txt'):\n",
    "    var=var.strip()\n",
    "    L=re.split('[^\\w\\s]',var)\n",
    "    print(L)"
   ]
  },
  {
   "cell_type": "code",
   "execution_count": 150,
   "id": "e3c86ee7",
   "metadata": {},
   "outputs": [
    {
     "name": "stdout",
     "output_type": "stream",
     "text": [
      "prodID\tprodName\n",
      "101\tprodA\n",
      "102\tprodB\n",
      "103\tprodC\n",
      "104\tprodD\n",
      "105\tprodX\n",
      "106\tprodY\n"
     ]
    }
   ],
   "source": [
    "for var in open('unformatted_IP.txt'):\n",
    "    var=var.strip()\n",
    "    L=re.split('[^\\w\\s]',var)\n",
    "    print(f'{L[0]}\\t{L[1]}')"
   ]
  },
  {
   "cell_type": "code",
   "execution_count": null,
   "id": "893fbd4d",
   "metadata": {},
   "outputs": [],
   "source": [
    "read emp.csv file\n",
    "|\n",
    "filter/search -> list sales emp's  - search\n",
    "                  |                    - substitute\n",
    "                 current working city in pune or noida  -> HYDERABAD\n",
    "                                                            | split\n",
    "                                                          EmpName,Dept,City"
   ]
  },
  {
   "cell_type": "code",
   "execution_count": 151,
   "id": "cfe90c48",
   "metadata": {},
   "outputs": [
    {
     "name": "stdout",
     "output_type": "stream",
     "text": [
      "101,raj,sales,pune,1000\n",
      "106,bibu,sales,bglore,1450\n",
      "107,theeb,sales,noida,4590\n"
     ]
    }
   ],
   "source": [
    "for var in open('emp.csv'):\n",
    "    var=var.strip()\n",
    "    if(re.search('sales',var)):\n",
    "        print(var)\n"
   ]
  },
  {
   "cell_type": "code",
   "execution_count": 152,
   "id": "04ae62c8",
   "metadata": {},
   "outputs": [
    {
     "name": "stdout",
     "output_type": "stream",
     "text": [
      "101,raj,sales,HYDERABAD,1000\n",
      "106,bibu,sales,bglore,1450\n",
      "107,theeb,sales,HYDERABAD,4590\n"
     ]
    }
   ],
   "source": [
    "for var in open('emp.csv'):\n",
    "    var=var.strip()\n",
    "    if(re.search('sales',var)):\n",
    "        s=re.sub('pune|noida','HYDERABAD',var)\n",
    "        print(s)"
   ]
  },
  {
   "cell_type": "code",
   "execution_count": 154,
   "id": "d81727f7",
   "metadata": {},
   "outputs": [
    {
     "name": "stdout",
     "output_type": "stream",
     "text": [
      "101,raj,sales,HYDERABAD,1000\n",
      "106,bibu,sales,bglore,1450\n",
      "107,theeb,sales,HYDERABAD,4590\n"
     ]
    }
   ],
   "source": [
    "for var in open('emp.csv'):\n",
    "    var=var.strip()\n",
    "    if(re.search('sales',var)):\n",
    "        s=re.sub('pune|noida','HYDERABAD',var)\n",
    "        print(s)"
   ]
  },
  {
   "cell_type": "code",
   "execution_count": 157,
   "id": "975373e7",
   "metadata": {},
   "outputs": [
    {
     "name": "stdout",
     "output_type": "stream",
     "text": [
      "raj\tsales\tHYDERABAD\n",
      "theeb\tsales\tHYDERABAD\n"
     ]
    }
   ],
   "source": [
    "for var in open('emp.csv'):\n",
    "    var=var.strip() # remove \\n chars\n",
    "    if(re.search('sales',var)): # filter sales dept \n",
    "        s=re.sub('pune|noida','HYDERABAD',var) # substitute \n",
    "        if(re.search('hyderabad',s,re.I)): # search a pattern\n",
    "            L=re.split('[^\\w\\s]',s) # split single string into multiple values\n",
    "            print(f'{L[1]}\\t{L[2]}\\t{L[3]}')"
   ]
  },
  {
   "cell_type": "code",
   "execution_count": 158,
   "id": "433a8e9b",
   "metadata": {},
   "outputs": [
    {
     "data": {
      "text/plain": [
       "['G', 'B']"
      ]
     },
     "execution_count": 158,
     "metadata": {},
     "output_type": "execute_result"
    }
   ],
   "source": [
    "s='120GB'\n",
    "# How to delete/remote GB -> '120'\n",
    "re.findall('[A-Za-z]',s)"
   ]
  },
  {
   "cell_type": "code",
   "execution_count": 159,
   "id": "fa268d5e",
   "metadata": {},
   "outputs": [
    {
     "data": {
      "text/plain": [
       "['GB']"
      ]
     },
     "execution_count": 159,
     "metadata": {},
     "output_type": "execute_result"
    }
   ],
   "source": [
    "re.findall('[A-Za-z]+',s)"
   ]
  },
  {
   "cell_type": "code",
   "execution_count": 160,
   "id": "dda0802b",
   "metadata": {},
   "outputs": [
    {
     "data": {
      "text/plain": [
       "'120'"
      ]
     },
     "execution_count": 160,
     "metadata": {},
     "output_type": "execute_result"
    }
   ],
   "source": [
    "re.sub('[A-Za-z]+','',s)"
   ]
  },
  {
   "cell_type": "code",
   "execution_count": 161,
   "id": "1d4efc78",
   "metadata": {},
   "outputs": [
    {
     "name": "stdout",
     "output_type": "stream",
     "text": [
      "120\n",
      "150\n",
      "135\n",
      "100\n",
      "200\n",
      "130\n"
     ]
    }
   ],
   "source": [
    "L=['120GB','150GB','135Gb','GB100','200',130]\n",
    "#\n",
    "# ->Calculate sum of used size\n",
    "\n",
    "for var in L:\n",
    "    print(re.sub('[a-zA-Z]+','',str(var)))"
   ]
  },
  {
   "cell_type": "code",
   "execution_count": 162,
   "id": "2aa79bdc",
   "metadata": {},
   "outputs": [
    {
     "name": "stdout",
     "output_type": "stream",
     "text": [
      "Sum of Used size:['120GB', '150GB', '135Gb', 'GB100', '200', 130] is: 835 GB\n"
     ]
    }
   ],
   "source": [
    "L=['120GB','150GB','135Gb','GB100','200',130]\n",
    "#\n",
    "# ->Calculate sum of used size\n",
    "t=0\n",
    "for var in L:\n",
    "    t=t+int(re.sub('[a-zA-Z]+','',str(var)))\n",
    "else:\n",
    "    print(f'Sum of Used size:{L} is: {t} GB')"
   ]
  },
  {
   "cell_type": "code",
   "execution_count": null,
   "id": "6307cad0",
   "metadata": {},
   "outputs": [],
   "source": [
    "Web\n",
    "---\n",
    "Client -------->-------Request----->-----Webserver---->serverScripts\n",
    "                                                            |\n",
    "             -------------------<---------------------------|\n",
    "                    1. page response - webpage (<html>+{{data}})\n",
    "                    2. data response - json"
   ]
  },
  {
   "cell_type": "code",
   "execution_count": 163,
   "id": "b97030f3",
   "metadata": {},
   "outputs": [
    {
     "data": {
      "text/plain": [
       "<Response [200]>"
      ]
     },
     "execution_count": 163,
     "metadata": {},
     "output_type": "execute_result"
    }
   ],
   "source": [
    "import requests\n",
    "requests.get('https://www.google.com')"
   ]
  },
  {
   "cell_type": "code",
   "execution_count": 164,
   "id": "082d0c9b",
   "metadata": {},
   "outputs": [
    {
     "data": {
      "text/plain": [
       "200"
      ]
     },
     "execution_count": 164,
     "metadata": {},
     "output_type": "execute_result"
    }
   ],
   "source": [
    "r = requests.get('https://www.google.com')\n",
    "r.status_code"
   ]
  },
  {
   "cell_type": "code",
   "execution_count": 165,
   "id": "544819c8",
   "metadata": {
    "scrolled": true
   },
   "outputs": [
    {
     "data": {
      "text/plain": [
       "{'Date': 'Tue, 26 Nov 2024 10:55:30 GMT', 'Expires': '-1', 'Cache-Control': 'private, max-age=0', 'Content-Type': 'text/html; charset=ISO-8859-1', 'Content-Security-Policy-Report-Only': \"object-src 'none';base-uri 'self';script-src 'nonce-i785rqoP4WUxy28HI9i02A' 'strict-dynamic' 'report-sample' 'unsafe-eval' 'unsafe-inline' https: http:;report-uri https://csp.withgoogle.com/csp/gws/other-hp\", 'Accept-CH': 'Sec-CH-Prefers-Color-Scheme', 'P3P': 'CP=\"This is not a P3P policy! See g.co/p3phelp for more info.\"', 'Content-Encoding': 'gzip', 'Server': 'gws', 'X-XSS-Protection': '0', 'X-Frame-Options': 'SAMEORIGIN', 'Set-Cookie': 'AEC=AZ6Zc-U5kNqRnrnW0UM6t6AufvSpco6HJOsa-LDGaVsb95c4CwXinzly2w; expires=Sun, 25-May-2025 10:55:30 GMT; path=/; domain=.google.com; Secure; HttpOnly; SameSite=lax, NID=519=3gaYXkPXM4fH_vv2mIZwUPdDUp9RhtaowR7mYq5ATWCg04FIThXxdSRAZFGH2CP3YfeZ8mkmyvZPTioY9c8YmZtH9uAODbdbdM4VQmF_6kqsw7wCd1OPtJzyrZq_d_9priUKBayGQ8wyHeL7_l-mHZA29-t32ySwqPFz5CjsVeodZO2mHOQkFH5Ms7LBnf1gpuw; expires=Wed, 28-May-2025 10:55:30 GMT; path=/; domain=.google.com; HttpOnly', 'Alt-Svc': 'h3=\":443\"; ma=2592000,h3-29=\":443\"; ma=2592000', 'Transfer-Encoding': 'chunked'}"
      ]
     },
     "execution_count": 165,
     "metadata": {},
     "output_type": "execute_result"
    }
   ],
   "source": [
    "r.headers"
   ]
  },
  {
   "cell_type": "code",
   "execution_count": 166,
   "id": "88619a8b",
   "metadata": {},
   "outputs": [
    {
     "data": {
      "text/plain": [
       "'text/html; charset=ISO-8859-1'"
      ]
     },
     "execution_count": 166,
     "metadata": {},
     "output_type": "execute_result"
    }
   ],
   "source": [
    "r.headers['Content-Type']"
   ]
  },
  {
   "cell_type": "code",
   "execution_count": 167,
   "id": "ad67f2e0",
   "metadata": {},
   "outputs": [
    {
     "name": "stdout",
     "output_type": "stream",
     "text": [
      "<class 'str'> 21153\n"
     ]
    }
   ],
   "source": [
    "s=r.text\n",
    "print(type(s),len(s))"
   ]
  },
  {
   "cell_type": "code",
   "execution_count": 168,
   "id": "3cc7adca",
   "metadata": {},
   "outputs": [
    {
     "data": {
      "text/plain": [
       "(bytes, 21153)"
      ]
     },
     "execution_count": 168,
     "metadata": {},
     "output_type": "execute_result"
    }
   ],
   "source": [
    "v = r.content\n",
    "type(v),len(v)"
   ]
  },
  {
   "cell_type": "code",
   "execution_count": 169,
   "id": "bf7335c6",
   "metadata": {},
   "outputs": [],
   "source": [
    "wobj =open('E:\\\\test.html','w')\n",
    "wobj.write(s)\n",
    "wobj.close()"
   ]
  },
  {
   "cell_type": "code",
   "execution_count": 171,
   "id": "10d04c42",
   "metadata": {},
   "outputs": [],
   "source": [
    "#print(s)"
   ]
  },
  {
   "cell_type": "code",
   "execution_count": 172,
   "id": "2df9db01",
   "metadata": {},
   "outputs": [],
   "source": [
    "import requests\n",
    "url = 'https://www.python.org'\n",
    "r = requests.get(url)\n",
    "if r.status_code != 200:\n",
    "    print(f'requests from {url} is failed')\n",
    "    exit() # exit from execution\n",
    "    \n",
    "if 'text/html' in r.headers['Content-Type']:\n",
    "    web_page = r.text"
   ]
  },
  {
   "cell_type": "code",
   "execution_count": 173,
   "id": "6cd24957",
   "metadata": {},
   "outputs": [],
   "source": [
    "import bs4"
   ]
  },
  {
   "cell_type": "code",
   "execution_count": 174,
   "id": "4ae54969",
   "metadata": {},
   "outputs": [
    {
     "data": {
      "text/plain": [
       "<html><body><h1>Test message</h1></body></html>"
      ]
     },
     "execution_count": 174,
     "metadata": {},
     "output_type": "execute_result"
    }
   ],
   "source": [
    "bs4.BeautifulSoup('<h1>Test message</h1>')"
   ]
  },
  {
   "cell_type": "code",
   "execution_count": null,
   "id": "7f34437a",
   "metadata": {},
   "outputs": [],
   "source": [
    "bs4_obj.<htmlTag> ->data  ==>(1)\n",
    "-------  =======   \n",
    "\n",
    "bs4_obj.find('<htmlTag>') -> str_data =>(2)\n",
    "Vs\n",
    "bs4_obj.find_all('<htmlTag>') ->list_data =>(3)"
   ]
  },
  {
   "cell_type": "code",
   "execution_count": 175,
   "id": "f5020eda",
   "metadata": {},
   "outputs": [
    {
     "data": {
      "text/plain": [
       "<h1>Test message</h1>"
      ]
     },
     "execution_count": 175,
     "metadata": {},
     "output_type": "execute_result"
    }
   ],
   "source": [
    "bs4_obj = bs4.BeautifulSoup('<h1>Test message</h1>')\n",
    "\n",
    "bs4_obj.h1"
   ]
  },
  {
   "cell_type": "code",
   "execution_count": 176,
   "id": "b4865566",
   "metadata": {},
   "outputs": [
    {
     "data": {
      "text/plain": [
       "<h1>Test message</h1>"
      ]
     },
     "execution_count": 176,
     "metadata": {},
     "output_type": "execute_result"
    }
   ],
   "source": [
    "bs4_obj.find('h1')"
   ]
  },
  {
   "cell_type": "code",
   "execution_count": 177,
   "id": "2dc980ec",
   "metadata": {},
   "outputs": [
    {
     "data": {
      "text/plain": [
       "[<h1>Test message</h1>]"
      ]
     },
     "execution_count": 177,
     "metadata": {},
     "output_type": "execute_result"
    }
   ],
   "source": [
    "bs4_obj.find_all('h1')"
   ]
  },
  {
   "cell_type": "code",
   "execution_count": 178,
   "id": "0540f3ab",
   "metadata": {},
   "outputs": [],
   "source": [
    "import requests\n",
    "url = 'https://www.python.org'\n",
    "r = requests.get(url)\n",
    "if r.status_code != 200:\n",
    "    print(f'requests from {url} is failed')\n",
    "    exit() # exit from execution\n",
    "    \n",
    "if 'text/html' in r.headers['Content-Type']:\n",
    "    web_page = r.text"
   ]
  },
  {
   "cell_type": "code",
   "execution_count": 179,
   "id": "0e01290e",
   "metadata": {},
   "outputs": [
    {
     "data": {
      "text/plain": [
       "<title>Welcome to Python.org</title>"
      ]
     },
     "execution_count": 179,
     "metadata": {},
     "output_type": "execute_result"
    }
   ],
   "source": [
    "sobj = bs4.BeautifulSoup(web_page)\n",
    "sobj.title"
   ]
  },
  {
   "cell_type": "code",
   "execution_count": 180,
   "id": "5072ad80",
   "metadata": {},
   "outputs": [
    {
     "data": {
      "text/plain": [
       "'title'"
      ]
     },
     "execution_count": 180,
     "metadata": {},
     "output_type": "execute_result"
    }
   ],
   "source": [
    "sobj.title.name"
   ]
  },
  {
   "cell_type": "code",
   "execution_count": 181,
   "id": "24f7c538",
   "metadata": {},
   "outputs": [
    {
     "data": {
      "text/plain": [
       "['Welcome to Python.org']"
      ]
     },
     "execution_count": 181,
     "metadata": {},
     "output_type": "execute_result"
    }
   ],
   "source": [
    "sobj.title.contents"
   ]
  },
  {
   "cell_type": "code",
   "execution_count": 182,
   "id": "c992f3a3",
   "metadata": {},
   "outputs": [
    {
     "data": {
      "text/plain": [
       "'Welcome to Python.org'"
      ]
     },
     "execution_count": 182,
     "metadata": {},
     "output_type": "execute_result"
    }
   ],
   "source": [
    "sobj.title.string"
   ]
  },
  {
   "cell_type": "code",
   "execution_count": 183,
   "id": "ea374813",
   "metadata": {},
   "outputs": [
    {
     "data": {
      "text/plain": [
       "<p><strong>Notice:</strong> While JavaScript is not essential for this website, your interaction with the content will be limited. Please turn JavaScript on for the full experience. </p>"
      ]
     },
     "execution_count": 183,
     "metadata": {},
     "output_type": "execute_result"
    }
   ],
   "source": [
    "sobj.p"
   ]
  },
  {
   "cell_type": "code",
   "execution_count": 184,
   "id": "9eba7b8a",
   "metadata": {},
   "outputs": [
    {
     "data": {
      "text/plain": [
       "<h1 class=\"site-headline\">\n",
       "<a href=\"/\"><img alt=\"python™\" class=\"python-logo\" src=\"/static/img/python-logo.png\"/></a>\n",
       "</h1>"
      ]
     },
     "execution_count": 184,
     "metadata": {},
     "output_type": "execute_result"
    }
   ],
   "source": [
    "sobj.h1"
   ]
  },
  {
   "cell_type": "code",
   "execution_count": 185,
   "id": "f4fa6398",
   "metadata": {},
   "outputs": [
    {
     "data": {
      "text/plain": [
       "<h1 class=\"site-headline\">\n",
       "<a href=\"/\"><img alt=\"python™\" class=\"python-logo\" src=\"/static/img/python-logo.png\"/></a>\n",
       "</h1>"
      ]
     },
     "execution_count": 185,
     "metadata": {},
     "output_type": "execute_result"
    }
   ],
   "source": [
    "## sobj.find(<htmlTag>)\n",
    "\n",
    "sobj.find('h1')"
   ]
  },
  {
   "cell_type": "code",
   "execution_count": 186,
   "id": "6dcfbd35",
   "metadata": {
    "scrolled": true
   },
   "outputs": [
    {
     "data": {
      "text/plain": [
       "[<h1 class=\"site-headline\">\n",
       " <a href=\"/\"><img alt=\"python™\" class=\"python-logo\" src=\"/static/img/python-logo.png\"/></a>\n",
       " </h1>,\n",
       " <h1>Functions Defined</h1>,\n",
       " <h1>Compound Data Types</h1>,\n",
       " <h1>Intuitive Interpretation</h1>,\n",
       " <h1>All the Flow You’d Expect</h1>,\n",
       " <h1>Quick &amp; Easy to Learn</h1>]"
      ]
     },
     "execution_count": 186,
     "metadata": {},
     "output_type": "execute_result"
    }
   ],
   "source": [
    "## sobj.find_all(<htmlTag>) -> list_output\n",
    "\n",
    "sobj.find_all('h1')"
   ]
  },
  {
   "cell_type": "code",
   "execution_count": 188,
   "id": "ddcde6c6",
   "metadata": {},
   "outputs": [
    {
     "name": "stdout",
     "output_type": "stream",
     "text": [
      "None\n",
      "Functions Defined\n",
      "Compound Data Types\n",
      "Intuitive Interpretation\n",
      "All the Flow You’d Expect\n",
      "Quick & Easy to Learn\n"
     ]
    }
   ],
   "source": [
    "for var in sobj.find_all('h1'):\n",
    "    print(var.string) # extract data/string"
   ]
  },
  {
   "cell_type": "code",
   "execution_count": 191,
   "id": "d33027e6",
   "metadata": {},
   "outputs": [
    {
     "data": {
      "text/plain": [
       "<h1 class=\"site-headline\">\n",
       "<a href=\"/\"><img alt=\"python™\" class=\"python-logo\" src=\"/static/img/python-logo.png\"/></a>\n",
       "</h1>"
      ]
     },
     "execution_count": 191,
     "metadata": {},
     "output_type": "execute_result"
    }
   ],
   "source": [
    "sobj.find('h1')"
   ]
  },
  {
   "cell_type": "code",
   "execution_count": 192,
   "id": "0474b337",
   "metadata": {},
   "outputs": [
    {
     "data": {
      "text/plain": [
       "['site-headline']"
      ]
     },
     "execution_count": 192,
     "metadata": {},
     "output_type": "execute_result"
    }
   ],
   "source": [
    "sobj.find('h1')['class']"
   ]
  },
  {
   "cell_type": "code",
   "execution_count": 193,
   "id": "895c3182",
   "metadata": {},
   "outputs": [
    {
     "ename": "KeyError",
     "evalue": "'href'",
     "output_type": "error",
     "traceback": [
      "\u001b[1;31m---------------------------------------------------------------------------\u001b[0m",
      "\u001b[1;31mKeyError\u001b[0m                                  Traceback (most recent call last)",
      "Cell \u001b[1;32mIn[193], line 1\u001b[0m\n\u001b[1;32m----> 1\u001b[0m sobj\u001b[38;5;241m.\u001b[39mfind(\u001b[38;5;124m'\u001b[39m\u001b[38;5;124mh1\u001b[39m\u001b[38;5;124m'\u001b[39m)[\u001b[38;5;124m'\u001b[39m\u001b[38;5;124mhref\u001b[39m\u001b[38;5;124m'\u001b[39m]\n",
      "File \u001b[1;32mC:\\ProgramData\\anaconda3\\Lib\\site-packages\\bs4\\element.py:1573\u001b[0m, in \u001b[0;36mTag.__getitem__\u001b[1;34m(self, key)\u001b[0m\n\u001b[0;32m   1570\u001b[0m \u001b[38;5;28;01mdef\u001b[39;00m \u001b[38;5;21m__getitem__\u001b[39m(\u001b[38;5;28mself\u001b[39m, key):\n\u001b[0;32m   1571\u001b[0m \u001b[38;5;250m    \u001b[39m\u001b[38;5;124;03m\"\"\"tag[key] returns the value of the 'key' attribute for the Tag,\u001b[39;00m\n\u001b[0;32m   1572\u001b[0m \u001b[38;5;124;03m    and throws an exception if it's not there.\"\"\"\u001b[39;00m\n\u001b[1;32m-> 1573\u001b[0m     \u001b[38;5;28;01mreturn\u001b[39;00m \u001b[38;5;28mself\u001b[39m\u001b[38;5;241m.\u001b[39mattrs[key]\n",
      "\u001b[1;31mKeyError\u001b[0m: 'href'"
     ]
    }
   ],
   "source": [
    "sobj.find('h1')['href']"
   ]
  },
  {
   "cell_type": "code",
   "execution_count": 195,
   "id": "8e0d128e",
   "metadata": {},
   "outputs": [
    {
     "ename": "KeyError",
     "evalue": "'Kx'",
     "output_type": "error",
     "traceback": [
      "\u001b[1;31m---------------------------------------------------------------------------\u001b[0m",
      "\u001b[1;31mKeyError\u001b[0m                                  Traceback (most recent call last)",
      "Cell \u001b[1;32mIn[195], line 3\u001b[0m\n\u001b[0;32m      1\u001b[0m d\u001b[38;5;241m=\u001b[39m{\u001b[38;5;124m'\u001b[39m\u001b[38;5;124mK1\u001b[39m\u001b[38;5;124m'\u001b[39m:\u001b[38;5;124m'\u001b[39m\u001b[38;5;124mV1\u001b[39m\u001b[38;5;124m'\u001b[39m}\n\u001b[0;32m      2\u001b[0m d[\u001b[38;5;124m'\u001b[39m\u001b[38;5;124mK1\u001b[39m\u001b[38;5;124m'\u001b[39m]\n\u001b[1;32m----> 3\u001b[0m d[\u001b[38;5;124m'\u001b[39m\u001b[38;5;124mKx\u001b[39m\u001b[38;5;124m'\u001b[39m]\n",
      "\u001b[1;31mKeyError\u001b[0m: 'Kx'"
     ]
    }
   ],
   "source": [
    "d={'K1':'V1'}\n",
    "d['K1']\n",
    "d['Kx']"
   ]
  },
  {
   "cell_type": "code",
   "execution_count": 196,
   "id": "ad2b50f7",
   "metadata": {},
   "outputs": [
    {
     "name": "stdout",
     "output_type": "stream",
     "text": [
      "V1 None\n"
     ]
    }
   ],
   "source": [
    "print(d.get('K1'),d.get('Kx'))"
   ]
  },
  {
   "cell_type": "code",
   "execution_count": 197,
   "id": "2c811644",
   "metadata": {},
   "outputs": [],
   "source": [
    "sobj.find('h1').get('href')"
   ]
  },
  {
   "cell_type": "code",
   "execution_count": 198,
   "id": "e96c0c05",
   "metadata": {},
   "outputs": [
    {
     "data": {
      "text/plain": [
       "<a href=\"#content\" title=\"Skip to content\">Skip to content</a>"
      ]
     },
     "execution_count": 198,
     "metadata": {},
     "output_type": "execute_result"
    }
   ],
   "source": [
    "sobj.find('a')"
   ]
  },
  {
   "cell_type": "code",
   "execution_count": 200,
   "id": "17526ba0",
   "metadata": {},
   "outputs": [
    {
     "data": {
      "text/plain": [
       "'#content'"
      ]
     },
     "execution_count": 200,
     "metadata": {},
     "output_type": "execute_result"
    }
   ],
   "source": [
    "sobj.find('a').get('href')"
   ]
  },
  {
   "cell_type": "code",
   "execution_count": 201,
   "id": "48ed2544",
   "metadata": {},
   "outputs": [
    {
     "data": {
      "text/plain": [
       "<div class=\"do-not-print\" id=\"nojs\">\n",
       "<p><strong>Notice:</strong> While JavaScript is not essential for this website, your interaction with the content will be limited. Please turn JavaScript on for the full experience. </p>\n",
       "</div>"
      ]
     },
     "execution_count": 201,
     "metadata": {},
     "output_type": "execute_result"
    }
   ],
   "source": [
    "sobj.p.parent"
   ]
  },
  {
   "cell_type": "code",
   "execution_count": 202,
   "id": "33e11fbb",
   "metadata": {},
   "outputs": [
    {
     "data": {
      "text/plain": [
       "<head>\n",
       "<!-- Google tag (gtag.js) -->\n",
       "<script async=\"\" src=\"https://www.googletagmanager.com/gtag/js?id=G-TF35YF9CVH\"></script>\n",
       "<script>\n",
       "      window.dataLayer = window.dataLayer || [];\n",
       "      function gtag(){dataLayer.push(arguments);}\n",
       "      gtag('js', new Date());\n",
       "      gtag('config', 'G-TF35YF9CVH');\n",
       "    </script>\n",
       "<!-- Plausible.io analytics -->\n",
       "<script data-domain=\"python.org\" defer=\"\" src=\"https://plausible.io/js/script.js\"></script>\n",
       "<meta charset=\"utf-8\"/>\n",
       "<meta content=\"IE=edge\" http-equiv=\"X-UA-Compatible\"/>\n",
       "<link href=\"//ajax.googleapis.com/ajax/libs/jquery/1.8.2/jquery.min.js\" rel=\"prefetch\"/>\n",
       "<link href=\"//ajax.googleapis.com/ajax/libs/jqueryui/1.12.1/jquery-ui.min.js\" rel=\"prefetch\"/>\n",
       "<meta content=\"Python.org\" name=\"application-name\"/>\n",
       "<meta content=\"The official home of the Python Programming Language\" name=\"msapplication-tooltip\"/>\n",
       "<meta content=\"Python.org\" name=\"apple-mobile-web-app-title\"/>\n",
       "<meta content=\"yes\" name=\"apple-mobile-web-app-capable\"/>\n",
       "<meta content=\"black\" name=\"apple-mobile-web-app-status-bar-style\"/>\n",
       "<meta content=\"width=device-width, initial-scale=1.0\" name=\"viewport\"/>\n",
       "<meta content=\"True\" name=\"HandheldFriendly\"/>\n",
       "<meta content=\"telephone=no\" name=\"format-detection\"/>\n",
       "<meta content=\"on\" http-equiv=\"cleartype\"/>\n",
       "<meta content=\"false\" http-equiv=\"imagetoolbar\"/>\n",
       "<script async=\"\" crossorigin=\"anonymous\" integrity=\"sha256-U3hKDidudIaxBDEzwGJApJgPEf2mWk6cfMWghrAa6i0= sha384-UcmsCqcNRSLW/dV3Lo1oCi2/VaurXbib6p4HyUEOeIa/4OpsrnucrugAefzVZJfI sha512-q4t1L4xEjGV2R4hzqCa41P8jrgFUS8xTb8rdNv4FGvw7FpydVj/kkxBJHOiaoxHa8olCcx1Slk9K+3sNbsM4ug==\" src=\"https://media.ethicalads.io/media/client/v1.4.0/ethicalads.min.js\"></script>\n",
       "<script src=\"/static/js/libs/modernizr.js\"></script>\n",
       "<link href=\"/static/stylesheets/style.08a078d0aa02.css\" media=\"all\" rel=\"stylesheet\" title=\"default\" type=\"text/css\"/>\n",
       "<link href=\"/static/stylesheets/mq.31ede2afc427.css\" media=\"not print, braille, embossed, speech, tty\" rel=\"stylesheet\" type=\"text/css\"/>\n",
       "<link href=\"/static/stylesheets/no-mq.bf0c425cdb73.css\" media=\"screen\" rel=\"stylesheet\" type=\"text/css\"/>\n",
       "<!--[if (lte IE 8)&(!IEMobile)]>\n",
       "    <link href=\"/static/stylesheets/no-mq.bf0c425cdb73.css\" rel=\"stylesheet\" type=\"text/css\" media=\"screen\" />\n",
       "    \n",
       "    \n",
       "    <![endif]-->\n",
       "<link href=\"//ajax.googleapis.com/ajax/libs/jqueryui/1.12.1/themes/smoothness/jquery-ui.css\" rel=\"stylesheet\"/>\n",
       "<link href=\"/static/favicon.ico\" rel=\"icon\" type=\"image/x-icon\"/>\n",
       "<link href=\"/static/apple-touch-icon-144x144-precomposed.png\" rel=\"apple-touch-icon-precomposed\" sizes=\"144x144\"/>\n",
       "<link href=\"/static/apple-touch-icon-114x114-precomposed.png\" rel=\"apple-touch-icon-precomposed\" sizes=\"114x114\"/>\n",
       "<link href=\"/static/apple-touch-icon-72x72-precomposed.png\" rel=\"apple-touch-icon-precomposed\" sizes=\"72x72\"/>\n",
       "<link href=\"/static/apple-touch-icon-precomposed.png\" rel=\"apple-touch-icon-precomposed\"/>\n",
       "<link href=\"/static/apple-touch-icon-precomposed.png\" rel=\"apple-touch-icon\"/>\n",
       "<meta content=\"/static/metro-icon-144x144.png\" name=\"msapplication-TileImage\"/><!-- white shape -->\n",
       "<meta content=\"#3673a5\" name=\"msapplication-TileColor\"/><!-- python blue -->\n",
       "<meta content=\"#3673a5\" name=\"msapplication-navbutton-color\"/>\n",
       "<title>Welcome to Python.org</title>\n",
       "<meta content=\"The official home of the Python Programming Language\" name=\"description\"/>\n",
       "<meta content=\"Python programming language object oriented web free open source software license documentation download community\" name=\"keywords\"/>\n",
       "<meta content=\"website\" property=\"og:type\"/>\n",
       "<meta content=\"Python.org\" property=\"og:site_name\"/>\n",
       "<meta content=\"Welcome to Python.org\" property=\"og:title\"/>\n",
       "<meta content=\"The official home of the Python Programming Language\" property=\"og:description\"/>\n",
       "<meta content=\"https://www.python.org/static/opengraph-icon-200x200.png\" property=\"og:image\"/>\n",
       "<meta content=\"https://www.python.org/static/opengraph-icon-200x200.png\" property=\"og:image:secure_url\"/>\n",
       "<meta content=\"https://www.python.org/\" property=\"og:url\"/>\n",
       "<link href=\"/humans.txt\" rel=\"author\"/>\n",
       "<link href=\"https://peps.python.org/peps.rss\" rel=\"alternate\" title=\"Python Enhancement Proposals\" type=\"application/rss+xml\"/>\n",
       "<link href=\"https://www.python.org/jobs/feed/rss/\" rel=\"alternate\" title=\"Python Job Opportunities\" type=\"application/rss+xml\"/>\n",
       "<link href=\"https://feeds.feedburner.com/PythonSoftwareFoundationNews\" rel=\"alternate\" title=\"Python Software Foundation News\" type=\"application/rss+xml\"/>\n",
       "<link href=\"https://feeds.feedburner.com/PythonInsider\" rel=\"alternate\" title=\"Python Insider\" type=\"application/rss+xml\"/>\n",
       "<link href=\"https://www.python.org/downloads/feed.rss\" rel=\"alternate\" title=\"Python Releases\" type=\"application/rss+xml\"/>\n",
       "<script type=\"application/ld+json\">\n",
       "     {\n",
       "       \"@context\": \"https://schema.org\",\n",
       "       \"@type\": \"WebSite\",\n",
       "       \"url\": \"https://www.python.org/\",\n",
       "       \"potentialAction\": {\n",
       "         \"@type\": \"SearchAction\",\n",
       "         \"target\": \"https://www.python.org/search/?q={search_term_string}\",\n",
       "         \"query-input\": \"required name=search_term_string\"\n",
       "       }\n",
       "     }\n",
       "    </script>\n",
       "<script type=\"text/javascript\">\n",
       "    var _gaq = _gaq || [];\n",
       "    _gaq.push(['_setAccount', 'UA-39055973-1']);\n",
       "    _gaq.push(['_trackPageview']);\n",
       "\n",
       "    (function() {\n",
       "        var ga = document.createElement('script'); ga.type = 'text/javascript'; ga.async = true;\n",
       "        ga.src = ('https:' == document.location.protocol ? 'https://ssl' : 'http://www') + '.google-analytics.com/ga.js';\n",
       "        var s = document.getElementsByTagName('script')[0]; s.parentNode.insertBefore(ga, s);\n",
       "    })();\n",
       "    </script>\n",
       "</head>"
      ]
     },
     "execution_count": 202,
     "metadata": {},
     "output_type": "execute_result"
    }
   ],
   "source": [
    "sobj.title.parent"
   ]
  },
  {
   "cell_type": "code",
   "execution_count": 203,
   "id": "0f92db0a",
   "metadata": {},
   "outputs": [],
   "source": [
    "# Tasks\n",
    "# --------\n",
    "# Get list of all href links from google.com\n",
    "\n",
    "r = requests.get('https://www.google.com')\n",
    "if r.status_code != 200:\n",
    "    exit()\n",
    "    \n",
    "google_webpage = r.text"
   ]
  },
  {
   "cell_type": "code",
   "execution_count": 204,
   "id": "50038537",
   "metadata": {},
   "outputs": [
    {
     "data": {
      "text/plain": [
       "<a class=\"gb1\" href=\"https://www.google.com/imghp?hl=en&amp;tab=wi\">Images</a>"
      ]
     },
     "execution_count": 204,
     "metadata": {},
     "output_type": "execute_result"
    }
   ],
   "source": [
    "gpage = bs4.BeautifulSoup(google_webpage)\n",
    "gpage.find('a')"
   ]
  },
  {
   "cell_type": "code",
   "execution_count": 205,
   "id": "7b7d9d05",
   "metadata": {},
   "outputs": [
    {
     "data": {
      "text/plain": [
       "[<a class=\"gb1\" href=\"https://www.google.com/imghp?hl=en&amp;tab=wi\">Images</a>,\n",
       " <a class=\"gb1\" href=\"https://maps.google.co.in/maps?hl=en&amp;tab=wl\">Maps</a>,\n",
       " <a class=\"gb1\" href=\"https://play.google.com/?hl=en&amp;tab=w8\">Play</a>,\n",
       " <a class=\"gb1\" href=\"https://www.youtube.com/?tab=w1\">YouTube</a>,\n",
       " <a class=\"gb1\" href=\"https://news.google.com/?tab=wn\">News</a>,\n",
       " <a class=\"gb1\" href=\"https://mail.google.com/mail/?tab=wm\">Gmail</a>,\n",
       " <a class=\"gb1\" href=\"https://drive.google.com/?tab=wo\">Drive</a>,\n",
       " <a class=\"gb1\" href=\"https://www.google.co.in/intl/en/about/products?tab=wh\" style=\"text-decoration:none\"><u>More</u> »</a>,\n",
       " <a class=\"gb4\" href=\"http://www.google.co.in/history/optout?hl=en\">Web History</a>,\n",
       " <a class=\"gb4\" href=\"/preferences?hl=en\">Settings</a>,\n",
       " <a class=\"gb4\" href=\"https://accounts.google.com/ServiceLogin?hl=en&amp;passive=true&amp;continue=https://www.google.com/&amp;ec=GAZAAQ\" id=\"gb_70\" target=\"_top\">Sign in</a>,\n",
       " <a href=\"/advanced_search?hl=en-IN&amp;authuser=0\">Advanced search</a>,\n",
       " <a href=\"https://www.google.com/setprefs?sig=0_XFMPqIqaBMTsgDIx-F0n29bui4I%3D&amp;hl=hi&amp;source=homepage&amp;sa=X&amp;ved=0ahUKEwjMgeCD8_mJAxXgSWwGHX28Eo0Q2ZgBCAY\">हिन्दी</a>,\n",
       " <a href=\"https://www.google.com/setprefs?sig=0_XFMPqIqaBMTsgDIx-F0n29bui4I%3D&amp;hl=bn&amp;source=homepage&amp;sa=X&amp;ved=0ahUKEwjMgeCD8_mJAxXgSWwGHX28Eo0Q2ZgBCAc\">বাংলা</a>,\n",
       " <a href=\"https://www.google.com/setprefs?sig=0_XFMPqIqaBMTsgDIx-F0n29bui4I%3D&amp;hl=te&amp;source=homepage&amp;sa=X&amp;ved=0ahUKEwjMgeCD8_mJAxXgSWwGHX28Eo0Q2ZgBCAg\">తెలుగు</a>,\n",
       " <a href=\"https://www.google.com/setprefs?sig=0_XFMPqIqaBMTsgDIx-F0n29bui4I%3D&amp;hl=mr&amp;source=homepage&amp;sa=X&amp;ved=0ahUKEwjMgeCD8_mJAxXgSWwGHX28Eo0Q2ZgBCAk\">मराठी</a>,\n",
       " <a href=\"https://www.google.com/setprefs?sig=0_XFMPqIqaBMTsgDIx-F0n29bui4I%3D&amp;hl=ta&amp;source=homepage&amp;sa=X&amp;ved=0ahUKEwjMgeCD8_mJAxXgSWwGHX28Eo0Q2ZgBCAo\">தமிழ்</a>,\n",
       " <a href=\"https://www.google.com/setprefs?sig=0_XFMPqIqaBMTsgDIx-F0n29bui4I%3D&amp;hl=gu&amp;source=homepage&amp;sa=X&amp;ved=0ahUKEwjMgeCD8_mJAxXgSWwGHX28Eo0Q2ZgBCAs\">ગુજરાતી</a>,\n",
       " <a href=\"https://www.google.com/setprefs?sig=0_XFMPqIqaBMTsgDIx-F0n29bui4I%3D&amp;hl=kn&amp;source=homepage&amp;sa=X&amp;ved=0ahUKEwjMgeCD8_mJAxXgSWwGHX28Eo0Q2ZgBCAw\">ಕನ್ನಡ</a>,\n",
       " <a href=\"https://www.google.com/setprefs?sig=0_XFMPqIqaBMTsgDIx-F0n29bui4I%3D&amp;hl=ml&amp;source=homepage&amp;sa=X&amp;ved=0ahUKEwjMgeCD8_mJAxXgSWwGHX28Eo0Q2ZgBCA0\">മലയാളം</a>,\n",
       " <a href=\"https://www.google.com/setprefs?sig=0_XFMPqIqaBMTsgDIx-F0n29bui4I%3D&amp;hl=pa&amp;source=homepage&amp;sa=X&amp;ved=0ahUKEwjMgeCD8_mJAxXgSWwGHX28Eo0Q2ZgBCA4\">ਪੰਜਾਬੀ</a>,\n",
       " <a href=\"/intl/en/ads/\">Advertising</a>,\n",
       " <a href=\"http://www.google.co.in/services/\">Business Solutions</a>,\n",
       " <a href=\"/intl/en/about.html\">About Google</a>,\n",
       " <a href=\"https://www.google.com/setprefdomain?prefdom=IN&amp;prev=https://www.google.co.in/&amp;sig=K_xCCckhVoLHRu9klVzxd_yhHPuts%3D\">Google.co.in</a>,\n",
       " <a href=\"/intl/en/policies/privacy/\">Privacy</a>,\n",
       " <a href=\"/intl/en/policies/terms/\">Terms</a>]"
      ]
     },
     "execution_count": 205,
     "metadata": {},
     "output_type": "execute_result"
    }
   ],
   "source": [
    "gpage.find_all('a')"
   ]
  },
  {
   "cell_type": "code",
   "execution_count": 206,
   "id": "89dc0a88",
   "metadata": {},
   "outputs": [
    {
     "name": "stdout",
     "output_type": "stream",
     "text": [
      "https://www.google.com/imghp?hl=en&tab=wi\n",
      "https://maps.google.co.in/maps?hl=en&tab=wl\n",
      "https://play.google.com/?hl=en&tab=w8\n",
      "https://www.youtube.com/?tab=w1\n",
      "https://news.google.com/?tab=wn\n",
      "https://mail.google.com/mail/?tab=wm\n",
      "https://drive.google.com/?tab=wo\n",
      "https://www.google.co.in/intl/en/about/products?tab=wh\n",
      "http://www.google.co.in/history/optout?hl=en\n",
      "/preferences?hl=en\n",
      "https://accounts.google.com/ServiceLogin?hl=en&passive=true&continue=https://www.google.com/&ec=GAZAAQ\n",
      "/advanced_search?hl=en-IN&authuser=0\n",
      "https://www.google.com/setprefs?sig=0_XFMPqIqaBMTsgDIx-F0n29bui4I%3D&hl=hi&source=homepage&sa=X&ved=0ahUKEwjMgeCD8_mJAxXgSWwGHX28Eo0Q2ZgBCAY\n",
      "https://www.google.com/setprefs?sig=0_XFMPqIqaBMTsgDIx-F0n29bui4I%3D&hl=bn&source=homepage&sa=X&ved=0ahUKEwjMgeCD8_mJAxXgSWwGHX28Eo0Q2ZgBCAc\n",
      "https://www.google.com/setprefs?sig=0_XFMPqIqaBMTsgDIx-F0n29bui4I%3D&hl=te&source=homepage&sa=X&ved=0ahUKEwjMgeCD8_mJAxXgSWwGHX28Eo0Q2ZgBCAg\n",
      "https://www.google.com/setprefs?sig=0_XFMPqIqaBMTsgDIx-F0n29bui4I%3D&hl=mr&source=homepage&sa=X&ved=0ahUKEwjMgeCD8_mJAxXgSWwGHX28Eo0Q2ZgBCAk\n",
      "https://www.google.com/setprefs?sig=0_XFMPqIqaBMTsgDIx-F0n29bui4I%3D&hl=ta&source=homepage&sa=X&ved=0ahUKEwjMgeCD8_mJAxXgSWwGHX28Eo0Q2ZgBCAo\n",
      "https://www.google.com/setprefs?sig=0_XFMPqIqaBMTsgDIx-F0n29bui4I%3D&hl=gu&source=homepage&sa=X&ved=0ahUKEwjMgeCD8_mJAxXgSWwGHX28Eo0Q2ZgBCAs\n",
      "https://www.google.com/setprefs?sig=0_XFMPqIqaBMTsgDIx-F0n29bui4I%3D&hl=kn&source=homepage&sa=X&ved=0ahUKEwjMgeCD8_mJAxXgSWwGHX28Eo0Q2ZgBCAw\n",
      "https://www.google.com/setprefs?sig=0_XFMPqIqaBMTsgDIx-F0n29bui4I%3D&hl=ml&source=homepage&sa=X&ved=0ahUKEwjMgeCD8_mJAxXgSWwGHX28Eo0Q2ZgBCA0\n",
      "https://www.google.com/setprefs?sig=0_XFMPqIqaBMTsgDIx-F0n29bui4I%3D&hl=pa&source=homepage&sa=X&ved=0ahUKEwjMgeCD8_mJAxXgSWwGHX28Eo0Q2ZgBCA4\n",
      "/intl/en/ads/\n",
      "http://www.google.co.in/services/\n",
      "/intl/en/about.html\n",
      "https://www.google.com/setprefdomain?prefdom=IN&prev=https://www.google.co.in/&sig=K_xCCckhVoLHRu9klVzxd_yhHPuts%3D\n",
      "/intl/en/policies/privacy/\n",
      "/intl/en/policies/terms/\n"
     ]
    }
   ],
   "source": [
    "for var in gpage.find_all('a'):\n",
    "    print(var.get('href'))"
   ]
  },
  {
   "cell_type": "code",
   "execution_count": 207,
   "id": "3798b34c",
   "metadata": {},
   "outputs": [
    {
     "name": "stdout",
     "output_type": "stream",
     "text": [
      "https://www.google.com/imghp?hl=en&tab=wi\n",
      "https://maps.google.co.in/maps?hl=en&tab=wl\n",
      "https://play.google.com/?hl=en&tab=w8\n",
      "https://www.youtube.com/?tab=w1\n",
      "https://news.google.com/?tab=wn\n",
      "https://mail.google.com/mail/?tab=wm\n",
      "https://drive.google.com/?tab=wo\n",
      "https://www.google.co.in/intl/en/about/products?tab=wh\n",
      "http://www.google.co.in/history/optout?hl=en\n",
      "https://accounts.google.com/ServiceLogin?hl=en&passive=true&continue=https://www.google.com/&ec=GAZAAQ\n",
      "https://www.google.com/setprefs?sig=0_XFMPqIqaBMTsgDIx-F0n29bui4I%3D&hl=hi&source=homepage&sa=X&ved=0ahUKEwjMgeCD8_mJAxXgSWwGHX28Eo0Q2ZgBCAY\n",
      "https://www.google.com/setprefs?sig=0_XFMPqIqaBMTsgDIx-F0n29bui4I%3D&hl=bn&source=homepage&sa=X&ved=0ahUKEwjMgeCD8_mJAxXgSWwGHX28Eo0Q2ZgBCAc\n",
      "https://www.google.com/setprefs?sig=0_XFMPqIqaBMTsgDIx-F0n29bui4I%3D&hl=te&source=homepage&sa=X&ved=0ahUKEwjMgeCD8_mJAxXgSWwGHX28Eo0Q2ZgBCAg\n",
      "https://www.google.com/setprefs?sig=0_XFMPqIqaBMTsgDIx-F0n29bui4I%3D&hl=mr&source=homepage&sa=X&ved=0ahUKEwjMgeCD8_mJAxXgSWwGHX28Eo0Q2ZgBCAk\n",
      "https://www.google.com/setprefs?sig=0_XFMPqIqaBMTsgDIx-F0n29bui4I%3D&hl=ta&source=homepage&sa=X&ved=0ahUKEwjMgeCD8_mJAxXgSWwGHX28Eo0Q2ZgBCAo\n",
      "https://www.google.com/setprefs?sig=0_XFMPqIqaBMTsgDIx-F0n29bui4I%3D&hl=gu&source=homepage&sa=X&ved=0ahUKEwjMgeCD8_mJAxXgSWwGHX28Eo0Q2ZgBCAs\n",
      "https://www.google.com/setprefs?sig=0_XFMPqIqaBMTsgDIx-F0n29bui4I%3D&hl=kn&source=homepage&sa=X&ved=0ahUKEwjMgeCD8_mJAxXgSWwGHX28Eo0Q2ZgBCAw\n",
      "https://www.google.com/setprefs?sig=0_XFMPqIqaBMTsgDIx-F0n29bui4I%3D&hl=ml&source=homepage&sa=X&ved=0ahUKEwjMgeCD8_mJAxXgSWwGHX28Eo0Q2ZgBCA0\n",
      "https://www.google.com/setprefs?sig=0_XFMPqIqaBMTsgDIx-F0n29bui4I%3D&hl=pa&source=homepage&sa=X&ved=0ahUKEwjMgeCD8_mJAxXgSWwGHX28Eo0Q2ZgBCA4\n",
      "http://www.google.co.in/services/\n",
      "https://www.google.com/setprefdomain?prefdom=IN&prev=https://www.google.co.in/&sig=K_xCCckhVoLHRu9klVzxd_yhHPuts%3D\n"
     ]
    }
   ],
   "source": [
    "for var in gpage.find_all('a'):\n",
    "    if(re.search('^(http|https).*',var.get('href'))): # filter line starts with https <or> http\n",
    "        print(var.get('href'))"
   ]
  },
  {
   "cell_type": "code",
   "execution_count": 208,
   "id": "7a3c9aab",
   "metadata": {},
   "outputs": [],
   "source": [
    "d={'K1':['V1','V2','V3'],'K2':{'K1':['P1','P2','P3']},'K3':[{'K1':[1,2,3]}]}"
   ]
  },
  {
   "cell_type": "code",
   "execution_count": 209,
   "id": "547fe9c2",
   "metadata": {},
   "outputs": [
    {
     "data": {
      "text/plain": [
       "'{\"K1\": [\"V1\", \"V2\", \"V3\"], \"K2\": {\"K1\": [\"P1\", \"P2\", \"P3\"]}, \"K3\": [{\"K1\": [1, 2, 3]}]}'"
      ]
     },
     "execution_count": 209,
     "metadata": {},
     "output_type": "execute_result"
    }
   ],
   "source": [
    "import json\n",
    "json.dumps(d) # convert to json"
   ]
  },
  {
   "cell_type": "code",
   "execution_count": 210,
   "id": "0bc2f2b4",
   "metadata": {},
   "outputs": [
    {
     "data": {
      "text/plain": [
       "{'K1': ['V1', 'V2', 'V3'],\n",
       " 'K2': {'K1': ['P1', 'P2', 'P3']},\n",
       " 'K3': [{'K1': [1, 2, 3]}]}"
      ]
     },
     "execution_count": 210,
     "metadata": {},
     "output_type": "execute_result"
    }
   ],
   "source": [
    "jd = json.dumps(d)\n",
    "\n",
    "json.loads(jd) # convert to python"
   ]
  },
  {
   "cell_type": "code",
   "execution_count": 212,
   "id": "50212a88",
   "metadata": {},
   "outputs": [],
   "source": [
    "wobj = open('E:\\\\test.json','w')\n",
    "json.dump(d,wobj) # structure ->json_file\n",
    "wobj.close()"
   ]
  },
  {
   "cell_type": "code",
   "execution_count": 213,
   "id": "f8c9c377",
   "metadata": {},
   "outputs": [],
   "source": [
    "fobj = open('E:\\\\test.json')\n",
    "python_data = json.load(fobj)\n",
    "fobj.close()"
   ]
  },
  {
   "cell_type": "code",
   "execution_count": 214,
   "id": "983c095c",
   "metadata": {},
   "outputs": [
    {
     "data": {
      "text/plain": [
       "{'K1': ['V1', 'V2', 'V3'],\n",
       " 'K2': {'K1': ['P1', 'P2', 'P3']},\n",
       " 'K3': [{'K1': [1, 2, 3]}]}"
      ]
     },
     "execution_count": 214,
     "metadata": {},
     "output_type": "execute_result"
    }
   ],
   "source": [
    "python_data"
   ]
  },
  {
   "cell_type": "code",
   "execution_count": 215,
   "id": "47a93f9c",
   "metadata": {},
   "outputs": [
    {
     "data": {
      "text/plain": [
       "200"
      ]
     },
     "execution_count": 215,
     "metadata": {},
     "output_type": "execute_result"
    }
   ],
   "source": [
    "r = requests.get('https://api.github.com/users/hadley/orgs')\n",
    "r.status_code"
   ]
  },
  {
   "cell_type": "code",
   "execution_count": 216,
   "id": "c7e9c9df",
   "metadata": {},
   "outputs": [
    {
     "data": {
      "text/plain": [
       "{'Date': 'Tue, 26 Nov 2024 11:49:04 GMT', 'Content-Type': 'application/json; charset=utf-8', 'Cache-Control': 'public, max-age=60, s-maxage=60', 'Vary': 'Accept,Accept-Encoding, Accept, X-Requested-With', 'ETag': 'W/\"61f25e2a55611f7eaf75a20ed5fe501245c5af99bc383854f5442975318fad26\"', 'X-GitHub-Media-Type': 'github.v3; format=json', 'x-github-api-version-selected': '2022-11-28', 'Access-Control-Expose-Headers': 'ETag, Link, Location, Retry-After, X-GitHub-OTP, X-RateLimit-Limit, X-RateLimit-Remaining, X-RateLimit-Used, X-RateLimit-Resource, X-RateLimit-Reset, X-OAuth-Scopes, X-Accepted-OAuth-Scopes, X-Poll-Interval, X-GitHub-Media-Type, X-GitHub-SSO, X-GitHub-Request-Id, Deprecation, Sunset', 'Access-Control-Allow-Origin': '*', 'Strict-Transport-Security': 'max-age=31536000; includeSubdomains; preload', 'X-Frame-Options': 'deny', 'X-Content-Type-Options': 'nosniff', 'X-XSS-Protection': '0', 'Referrer-Policy': 'origin-when-cross-origin, strict-origin-when-cross-origin', 'Content-Security-Policy': \"default-src 'none'\", 'Content-Encoding': 'gzip', 'Server': 'github.com', 'X-RateLimit-Limit': '60', 'X-RateLimit-Remaining': '58', 'X-RateLimit-Reset': '1732625260', 'X-RateLimit-Resource': 'core', 'X-RateLimit-Used': '2', 'Accept-Ranges': 'bytes', 'Content-Length': '1008', 'X-GitHub-Request-Id': '047F:344C37:47132A:4E28B5:6745B5B0'}"
      ]
     },
     "execution_count": 216,
     "metadata": {},
     "output_type": "execute_result"
    }
   ],
   "source": [
    "r.headers"
   ]
  },
  {
   "cell_type": "code",
   "execution_count": 217,
   "id": "92482bc4",
   "metadata": {},
   "outputs": [
    {
     "data": {
      "text/plain": [
       "'application/json; charset=utf-8'"
      ]
     },
     "execution_count": 217,
     "metadata": {},
     "output_type": "execute_result"
    }
   ],
   "source": [
    "r.headers['Content-Type']"
   ]
  },
  {
   "cell_type": "code",
   "execution_count": 218,
   "id": "68ee6ec9",
   "metadata": {},
   "outputs": [],
   "source": [
    "jd = r.text"
   ]
  },
  {
   "cell_type": "code",
   "execution_count": 219,
   "id": "caf88249",
   "metadata": {},
   "outputs": [
    {
     "name": "stdout",
     "output_type": "stream",
     "text": [
      "<class 'list'> 10\n"
     ]
    }
   ],
   "source": [
    "pd = json.loads(jd) # convert to python\n",
    "print(type(pd),len(pd))"
   ]
  },
  {
   "cell_type": "code",
   "execution_count": 220,
   "id": "3932c9d4",
   "metadata": {},
   "outputs": [
    {
     "data": {
      "text/plain": [
       "{'login': 'ggobi',\n",
       " 'id': 423638,\n",
       " 'node_id': 'MDEyOk9yZ2FuaXphdGlvbjQyMzYzOA==',\n",
       " 'url': 'https://api.github.com/orgs/ggobi',\n",
       " 'repos_url': 'https://api.github.com/orgs/ggobi/repos',\n",
       " 'events_url': 'https://api.github.com/orgs/ggobi/events',\n",
       " 'hooks_url': 'https://api.github.com/orgs/ggobi/hooks',\n",
       " 'issues_url': 'https://api.github.com/orgs/ggobi/issues',\n",
       " 'members_url': 'https://api.github.com/orgs/ggobi/members{/member}',\n",
       " 'public_members_url': 'https://api.github.com/orgs/ggobi/public_members{/member}',\n",
       " 'avatar_url': 'https://avatars.githubusercontent.com/u/423638?v=4',\n",
       " 'description': ''}"
      ]
     },
     "execution_count": 220,
     "metadata": {},
     "output_type": "execute_result"
    }
   ],
   "source": [
    "pd[0]"
   ]
  },
  {
   "cell_type": "code",
   "execution_count": 221,
   "id": "a2bd94e2",
   "metadata": {},
   "outputs": [
    {
     "data": {
      "text/plain": [
       "'MDEyOk9yZ2FuaXphdGlvbjQyMzYzOA=='"
      ]
     },
     "execution_count": 221,
     "metadata": {},
     "output_type": "execute_result"
    }
   ],
   "source": [
    "pd[0]['node_id']"
   ]
  },
  {
   "cell_type": "code",
   "execution_count": 222,
   "id": "ebc5d97c",
   "metadata": {},
   "outputs": [],
   "source": [
    "import requests\n",
    "url = 'https://www.python.org'\n",
    "r = requests.get(url)\n",
    "if r.status_code != 200:\n",
    "    print(f'requests from {url} is failed')\n",
    "    exit() # exit from execution\n",
    "    \n",
    "if 'text/html' in r.headers['Content-Type']:\n",
    "    web_page = r.text\n",
    "    # do webscraping - bs4 module\n",
    "elif 'application/json' in r.headers['Content-Type']:\n",
    "    jd = r.text\n",
    "    # convert to python - json module"
   ]
  }
 ],
 "metadata": {
  "kernelspec": {
   "display_name": "Python 3 (ipykernel)",
   "language": "python",
   "name": "python3"
  },
  "language_info": {
   "codemirror_mode": {
    "name": "ipython",
    "version": 3
   },
   "file_extension": ".py",
   "mimetype": "text/x-python",
   "name": "python",
   "nbconvert_exporter": "python",
   "pygments_lexer": "ipython3",
   "version": "3.11.5"
  }
 },
 "nbformat": 4,
 "nbformat_minor": 5
}
