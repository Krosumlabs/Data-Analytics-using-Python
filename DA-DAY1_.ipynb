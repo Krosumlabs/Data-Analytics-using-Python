{
 "cells": [
  {
   "cell_type": "code",
   "execution_count": null,
   "id": "3b1eca41",
   "metadata": {},
   "outputs": [],
   "source": [
    "# Python - General purpose programming language \n",
    "#        - dynamic type programming\n",
    "#          ............................\n",
    "#               variable = value <== initialization\n",
    "                ........\n",
    "                 |->variable name starts with a-zA-Z_ (not starts with digit)\n",
    "                 |->variable name not allows space,specialchars\n",
    "                 |->Don't use python keywords as a variable\n",
    "# In compiler code => <dataType> <variable> = Value <= declaration & \n",
    "#                                                     initialization\n",
    "#                     ------------------------------\n",
    "\n",
    "# In python -> class <--> object model\n",
    "\n",
    "10    - int class\n",
    "10.0  - float class\n",
    "'abc' - str class\n",
    "Python native types are: int float complex str bytes NoneType bool\n",
    "                         list tuple dict set\n",
    "        \n",
    "number: int float complex\n",
    "bool : True False \n",
    "NoneType : None \n",
    "Collection: str bytes list tuple dict set \n",
    "\n",
    "str : Collection of chars - index based - immutable  '' <or> \"\"\n",
    "bytes: Collection of ASCII - index based - immutable b'' \n",
    "\n",
    "list: Collection of items - index based - mutable (we can add/modify/delete)[]\n",
    "tuple: Collection of items - index based - immutable () - fixed record set\n",
    "|\n",
    "dict: Collection of item - key:value - mutable(we can add/modify/delete){}\n",
    "|\n",
    "set: Collection of item - This is NOT index based\n",
    "                          This is NOT Key:Value \n",
    "                          Allows unique items\n",
    "                    set Operation(Union,Intersection,difference,\n",
    "                                  symmetric_difference)"
   ]
  },
  {
   "cell_type": "code",
   "execution_count": 5,
   "id": "7be37b3f",
   "metadata": {},
   "outputs": [
    {
     "name": "stdout",
     "output_type": "stream",
     "text": [
      "emp.csv\n",
      "Fname\n",
      "Fname is Fname\n",
      "Fname is: emp.csv\n"
     ]
    }
   ],
   "source": [
    "#File \n",
    "#  |->Filename,Fsize,IndexNumber,Open_status .... //\n",
    "#\n",
    "Fname = \"emp.csv\"\n",
    "fsize = \"15KB\"  # fsize=15 ->OK  fsize=15.23 ->OK\n",
    "findex = 3465\n",
    "fstatus = True\n",
    "print(Fname)\n",
    "print(\"Fname\")\n",
    "print(\"Fname is Fname\")\n",
    "# print(fname) NameError: name 'fname' is not defined\n",
    "\n",
    "print(\"Fname is:\",Fname)"
   ]
  },
  {
   "cell_type": "code",
   "execution_count": 6,
   "id": "508c7b29",
   "metadata": {},
   "outputs": [
    {
     "name": "stdout",
     "output_type": "stream",
     "text": [
      "File name is: emp.csv Index Number: 3465 Size: 15KB Open status: True\n"
     ]
    }
   ],
   "source": [
    "print(\"File name is:\",Fname,\"Index Number:\",findex,\"Size:\",fsize,\n",
    "      \"Open status:\",fstatus)"
   ]
  },
  {
   "cell_type": "code",
   "execution_count": 7,
   "id": "23be7a61",
   "metadata": {},
   "outputs": [
    {
     "name": "stdout",
     "output_type": "stream",
     "text": [
      "va value is: 56 vb value is: 1.45 vc value is: True vd value is: data\n"
     ]
    }
   ],
   "source": [
    "va = 56\n",
    "vb = 1.45\n",
    "vc = True\n",
    "vd = 'data'\n",
    "print('va value is:',va,'vb value is:',vb,'vc value is:',vc,\n",
    "      'vd value is:',vd)"
   ]
  },
  {
   "cell_type": "code",
   "execution_count": 8,
   "id": "f14189db",
   "metadata": {},
   "outputs": [
    {
     "name": "stdout",
     "output_type": "stream",
     "text": [
      "va value is:56 vb value is:1.450000 vc value is:True vd value:data\n"
     ]
    }
   ],
   "source": [
    "# from C language %d %f %s \n",
    "print('va value is:%d vb value is:%f vc value is:%s vd value:%s'%(va,vb,vc,vd))"
   ]
  },
  {
   "cell_type": "code",
   "execution_count": 10,
   "id": "5a704628",
   "metadata": {},
   "outputs": [
    {
     "name": "stdout",
     "output_type": "stream",
     "text": [
      "n value is:56\n"
     ]
    },
    {
     "ename": "TypeError",
     "evalue": "%d format: a real number is required, not str",
     "output_type": "error",
     "traceback": [
      "\u001b[1;31m---------------------------------------------------------------------------\u001b[0m",
      "\u001b[1;31mTypeError\u001b[0m                                 Traceback (most recent call last)",
      "Cell \u001b[1;32mIn[10], line 4\u001b[0m\n\u001b[0;32m      2\u001b[0m \u001b[38;5;28mprint\u001b[39m(\u001b[38;5;124m'\u001b[39m\u001b[38;5;124mn value is:\u001b[39m\u001b[38;5;132;01m%d\u001b[39;00m\u001b[38;5;124m'\u001b[39m\u001b[38;5;241m%\u001b[39m(n))\n\u001b[0;32m      3\u001b[0m n\u001b[38;5;241m=\u001b[39m\u001b[38;5;124m\"\u001b[39m\u001b[38;5;124mHello\u001b[39m\u001b[38;5;124m\"\u001b[39m\n\u001b[1;32m----> 4\u001b[0m \u001b[38;5;28mprint\u001b[39m(\u001b[38;5;124m'\u001b[39m\u001b[38;5;124mn value is:\u001b[39m\u001b[38;5;132;01m%d\u001b[39;00m\u001b[38;5;124m'\u001b[39m\u001b[38;5;241m%\u001b[39m(n))\n",
      "\u001b[1;31mTypeError\u001b[0m: %d format: a real number is required, not str"
     ]
    }
   ],
   "source": [
    "n=56\n",
    "print('n value is:%d'%(n))\n",
    "n=\"Hello\"\n",
    "print('n value is:%d'%(n))"
   ]
  },
  {
   "cell_type": "code",
   "execution_count": 11,
   "id": "2d6bc887",
   "metadata": {},
   "outputs": [
    {
     "name": "stdout",
     "output_type": "stream",
     "text": [
      "n value is:56\n",
      "n value is:Hello\n"
     ]
    }
   ],
   "source": [
    "n=56\n",
    "print(\"n value is:{}\".format(n))\n",
    "n=\"Hello\"\n",
    "print(\"n value is:{}\".format(n))"
   ]
  },
  {
   "cell_type": "code",
   "execution_count": 12,
   "id": "2141f46e",
   "metadata": {},
   "outputs": [
    {
     "name": "stdout",
     "output_type": "stream",
     "text": [
      "va value is:56 vb value is:1.45 vc value is:True vd value:data\n"
     ]
    }
   ],
   "source": [
    "print('va value is:{} vb value is:{} vc value is:{} vd value:{}'\n",
    "      .format(va,vb,vc,vd))"
   ]
  },
  {
   "cell_type": "code",
   "execution_count": 13,
   "id": "04f8e06e",
   "metadata": {},
   "outputs": [
    {
     "name": "stdout",
     "output_type": "stream",
     "text": [
      "va value is:56 vb value is:1.45 vc value is:True vd value is:data\n"
     ]
    }
   ],
   "source": [
    "print(f\"va value is:{va} vb value is:{vb} vc value is:{vc} vd value is:{vd}\")"
   ]
  },
  {
   "cell_type": "code",
   "execution_count": 14,
   "id": "05890b2b",
   "metadata": {},
   "outputs": [
    {
     "name": "stdout",
     "output_type": "stream",
     "text": [
      "va value is:56,vb value is:1.45,vc value is:True,vd value is:data\n"
     ]
    }
   ],
   "source": [
    "print(f\"va value is:{va},vb value is:{vb},vc value is:{vc},vd value is:{vd}\")"
   ]
  },
  {
   "cell_type": "code",
   "execution_count": 15,
   "id": "3b9cae94",
   "metadata": {},
   "outputs": [
    {
     "name": "stdout",
     "output_type": "stream",
     "text": [
      "va value is:56\n",
      "vb value is:1.45\tvc value is:True\n",
      "vd value is:data\n"
     ]
    }
   ],
   "source": [
    "print(f\"va value is:{va}\\nvb value is:{vb}\\tvc value is:{vc}\\nvd value is:{vd}\")"
   ]
  },
  {
   "cell_type": "code",
   "execution_count": null,
   "id": "6005f9ba",
   "metadata": {},
   "outputs": [],
   "source": [
    "# Task \n",
    "initialize an application details(appName,appPort,appConfig,appVersion,status)\n",
    "use single print() - display app details line by line"
   ]
  },
  {
   "cell_type": "code",
   "execution_count": 16,
   "id": "50ff08db",
   "metadata": {},
   "outputs": [
    {
     "name": "stdout",
     "output_type": "stream",
     "text": [
      "App name is:Flask\n",
      "Flask running port:5000\n",
      "Config:D:\\test.conf\n",
      "version:1.2\n",
      "debug mode is:True\n"
     ]
    }
   ],
   "source": [
    "app_Name = 'Flask'\n",
    "app_port = 5000\n",
    "app_config = \"D:\\\\test.conf\"\n",
    "app_version = 1.2\n",
    "debug_mode = True\n",
    "\n",
    "print(f'App name is:{app_Name}\\n{app_Name} running port:\n",
    "      {app_port}\\nConfig:{app_config}\\nversion:{app_version}\\n\n",
    "      debug mode is:{debug_mode}')"
   ]
  },
  {
   "cell_type": "code",
   "execution_count": 17,
   "id": "27edfa22",
   "metadata": {},
   "outputs": [
    {
     "name": "stdout",
     "output_type": "stream",
     "text": [
      "data1\n",
      "data2\n",
      "data3\n",
      "data4\n",
      "data5\n"
     ]
    }
   ],
   "source": [
    "# Multiline string \n",
    "print('''data1\n",
    "data2\n",
    "data3\n",
    "data4\n",
    "data5''')"
   ]
  },
  {
   "cell_type": "code",
   "execution_count": 18,
   "id": "3b868e04",
   "metadata": {},
   "outputs": [
    {
     "name": "stdout",
     "output_type": "stream",
     "text": [
      "App name is:Flask\n",
      "-----------------------------------\n",
      "Flask running port:5000\n",
      "-----------------------------------\n",
      "Flask Config file is:D:\\test.conf\n",
      "--------------------------------------\n",
      "version:1.2\n",
      "-------------------------------------\n",
      "debug mode is:True\n"
     ]
    }
   ],
   "source": [
    "print(f'''App name is:{app_Name}\n",
    "-----------------------------------\n",
    "{app_Name} running port:{app_port}\n",
    "-----------------------------------\n",
    "{app_Name} Config file is:{app_config}\n",
    "--------------------------------------\n",
    "version:{app_version}\n",
    "-------------------------------------\n",
    "debug mode is:{debug_mode}''')"
   ]
  },
  {
   "cell_type": "code",
   "execution_count": 22,
   "id": "bb3864ed",
   "metadata": {},
   "outputs": [
    {
     "name": "stdout",
     "output_type": "stream",
     "text": [
      "Flask\n",
      "Flask\n",
      "[1.0, 'D:\\\\test.conf', True]\n",
      "[1.0, 'D:\\\\test.conf', True]\n"
     ]
    }
   ],
   "source": [
    "app = ['Flask',5000,1.0,\"D:\\\\test.conf\",True] # list\n",
    "#          0    1    2         3         4   <===  index\n",
    "#         -5   -4   -3        -2        -1   <== index\n",
    "print(app[0])\n",
    "print(app[-5])\n",
    "print(app[2:]) # slicing from 2nd index to list of all\n",
    "print(app[-3:]) # last 3 items"
   ]
  },
  {
   "cell_type": "code",
   "execution_count": 23,
   "id": "6f284924",
   "metadata": {},
   "outputs": [
    {
     "data": {
      "text/plain": [
       "['D3', 'D4', 'D5', 'D6', 'D7']"
      ]
     },
     "execution_count": 23,
     "metadata": {},
     "output_type": "execute_result"
    }
   ],
   "source": [
    "data = ['D1','D2','D3','D4','D5','D6','D7','D8']\n",
    "data[2:7] # from 2nd index to 6th index(7-1)"
   ]
  },
  {
   "cell_type": "code",
   "execution_count": 24,
   "id": "a929d544",
   "metadata": {},
   "outputs": [
    {
     "name": "stdout",
     "output_type": "stream",
     "text": [
      "Flask\n",
      "Flask\n",
      "(1.0, 'D:\\\\test.conf', True)\n",
      "(1.0, 'D:\\\\test.conf', True)\n"
     ]
    }
   ],
   "source": [
    "app = ('Flask',5000,1.0,\"D:\\\\test.conf\",True) # tuple\n",
    "#          0    1    2         3         4   <===  index\n",
    "#         -5   -4   -3        -2        -1   <== index\n",
    "print(app[0])\n",
    "print(app[-5])\n",
    "print(app[2:]) # slicing from 2nd index to list of all\n",
    "print(app[-3:]) # last 3 items"
   ]
  },
  {
   "cell_type": "code",
   "execution_count": 26,
   "id": "f08695b1",
   "metadata": {},
   "outputs": [
    {
     "name": "stdout",
     "output_type": "stream",
     "text": [
      "<class 'list'>\n",
      "<class 'tuple'>\n"
     ]
    }
   ],
   "source": [
    "print(type([]))\n",
    "print(type(()))"
   ]
  },
  {
   "cell_type": "code",
   "execution_count": 27,
   "id": "6a0cffdc",
   "metadata": {},
   "outputs": [
    {
     "data": {
      "text/plain": [
       "['D1', 'Data-2', 'D3']"
      ]
     },
     "execution_count": 27,
     "metadata": {},
     "output_type": "execute_result"
    }
   ],
   "source": [
    "L=['D1','D2','D3']\n",
    "L[1]='Data-2' # modification\n",
    "L"
   ]
  },
  {
   "cell_type": "code",
   "execution_count": 29,
   "id": "399dc85c",
   "metadata": {},
   "outputs": [
    {
     "ename": "TypeError",
     "evalue": "'tuple' object does not support item assignment",
     "output_type": "error",
     "traceback": [
      "\u001b[1;31m---------------------------------------------------------------------------\u001b[0m",
      "\u001b[1;31mTypeError\u001b[0m                                 Traceback (most recent call last)",
      "Cell \u001b[1;32mIn[29], line 2\u001b[0m\n\u001b[0;32m      1\u001b[0m T\u001b[38;5;241m=\u001b[39m(\u001b[38;5;124m'\u001b[39m\u001b[38;5;124mD1\u001b[39m\u001b[38;5;124m'\u001b[39m,\u001b[38;5;124m'\u001b[39m\u001b[38;5;124mD2\u001b[39m\u001b[38;5;124m'\u001b[39m,\u001b[38;5;124m'\u001b[39m\u001b[38;5;124mD3\u001b[39m\u001b[38;5;124m'\u001b[39m)\n\u001b[1;32m----> 2\u001b[0m T[\u001b[38;5;241m1\u001b[39m]\u001b[38;5;241m=\u001b[39m\u001b[38;5;124m'\u001b[39m\u001b[38;5;124mData-2\u001b[39m\u001b[38;5;124m'\u001b[39m\n",
      "\u001b[1;31mTypeError\u001b[0m: 'tuple' object does not support item assignment"
     ]
    }
   ],
   "source": [
    "T=('D1','D2','D3')\n",
    "T[1]='Data-2' # Error \n",
    "#TypeError: 'tuple' object does not support item assignment"
   ]
  },
  {
   "cell_type": "code",
   "execution_count": 30,
   "id": "bc880994",
   "metadata": {},
   "outputs": [
    {
     "name": "stdout",
     "output_type": "stream",
     "text": [
      "{'K1': 'Flask', 'K2': 5000, 'K3': 'D:\\\\test.conf', 'K4': 1.0, 'K5': True}\n"
     ]
    }
   ],
   "source": [
    "d={'Key1':'Value'}\n",
    "#  -----   =====\n",
    "#   |->\n",
    "\n",
    "app={'K1':'Flask','K2':5000,'K3':'D:\\\\test.conf','K4':1.0,'K5':True}\n",
    "print(app)"
   ]
  },
  {
   "cell_type": "code",
   "execution_count": 32,
   "id": "1c9890e9",
   "metadata": {},
   "outputs": [
    {
     "name": "stdout",
     "output_type": "stream",
     "text": [
      "Flask 5000\n"
     ]
    }
   ],
   "source": [
    "print(app['K1'],app['K2'])"
   ]
  },
  {
   "cell_type": "code",
   "execution_count": null,
   "id": "e561ec46",
   "metadata": {},
   "outputs": [],
   "source": [
    "NameError - undefined -> variable name (or) function name (or) classname\n",
    "IndexError - output of index str,bytes,list,tuple \n",
    "KeyError - invalid key - dict,set"
   ]
  },
  {
   "cell_type": "code",
   "execution_count": null,
   "id": "7843bcd6",
   "metadata": {},
   "outputs": [],
   "source": [
    "list of list,tuple,dict\n",
    "tuple of list,tuple,dict\n",
    "dict of list,tuple,dict"
   ]
  },
  {
   "cell_type": "code",
   "execution_count": null,
   "id": "80816605",
   "metadata": {},
   "outputs": [],
   "source": [
    "L = [['flask','fastAPI','testApp'],(5000,8000,3030),\n",
    "     {'K1':'test.conf','K2':'project.conf','K3':'repo.conf'}]\n",
    "#    ----------0------------------|-------1------- |----------------------------2-------------------------- <--index\n"
   ]
  },
  {
   "cell_type": "code",
   "execution_count": 33,
   "id": "099efbf8",
   "metadata": {},
   "outputs": [
    {
     "name": "stdout",
     "output_type": "stream",
     "text": [
      "[['flask', 'fastAPI', 'testApp'], (5000, 8000, 3030), {'K1': 'test.conf', 'K2': 'project.conf', 'K3': 'repo.conf'}]\n",
      "['flask', 'fastAPI', 'testApp']\n",
      "(5000, 8000, 3030)\n",
      "{'K1': 'test.conf', 'K2': 'project.conf', 'K3': 'repo.conf'}\n",
      "\n",
      "flask 5000 test.conf\n"
     ]
    }
   ],
   "source": [
    "L = [['flask','fastAPI','testApp'],(5000,8000,3030),\n",
    "     {'K1':'test.conf','K2':'project.conf','K3':'repo.conf'}]\n",
    "print(L)\n",
    "print(L[0])\n",
    "print(L[1])\n",
    "print(L[-1])\n",
    "print(\"\") # empty line\n",
    "print(L[0][0],L[1][0],L[-1]['K1'])"
   ]
  },
  {
   "cell_type": "code",
   "execution_count": null,
   "id": "c9e9b90e",
   "metadata": {},
   "outputs": [],
   "source": [
    "L=[]\n",
    "L.append(\"D1\") # adding new item at the end.\n",
    "L[OldIndex] = updatedValue # modification\n",
    "\n",
    "d={\"Kx\":\"Vx\"}\n",
    "\n",
    "d['OldKey']='Value' = modification\n",
    "     Vs\n",
    "d['NewKey']='Value' = Adding new data\n",
    "\n",
    "d['K1']='ValueA' # adding new data\n",
    "d['Kx']=\"ValueB\" # modification"
   ]
  },
  {
   "cell_type": "code",
   "execution_count": null,
   "id": "0497c547",
   "metadata": {},
   "outputs": [],
   "source": [
    "L = [['flask','fastAPI','testApp'],(5000,8000,3030),\n",
    "     {'K1':'test.conf','K2':'project.conf','K3':'repo.conf'}]\n",
    "\n",
    "From the given list \n",
    "Add new a App (ex: Django)\n",
    "Add new a config file(ex: app.conf)\n",
    "\n",
    "modify ->fastAPI => lemma2\n",
    "modify ->project.conf => main.conf\n",
    "display updated list_(L)"
   ]
  },
  {
   "cell_type": "code",
   "execution_count": 34,
   "id": "2a1fdca4",
   "metadata": {},
   "outputs": [],
   "source": [
    "L = [['flask','fastAPI','testApp'],(5000,8000,3030),\n",
    "     {'K1':'test.conf','K2':'project.conf','K3':'repo.conf'}]\n",
    "\n",
    "L[0].append('Django')\n",
    "L[-1]['K4']='app.conf'\n",
    "\n",
    "L[0][1]='lemma2'\n",
    "L[-1]['K2']='main.conf'"
   ]
  },
  {
   "cell_type": "code",
   "execution_count": 35,
   "id": "63f79a11",
   "metadata": {},
   "outputs": [
    {
     "data": {
      "text/plain": [
       "[['flask', 'lemma2', 'testApp', 'Django'],\n",
       " (5000, 8000, 3030),\n",
       " {'K1': 'test.conf', 'K2': 'main.conf', 'K3': 'repo.conf', 'K4': 'app.conf'}]"
      ]
     },
     "execution_count": 35,
     "metadata": {},
     "output_type": "execute_result"
    }
   ],
   "source": [
    "L"
   ]
  },
  {
   "cell_type": "code",
   "execution_count": null,
   "id": "ff3481b0",
   "metadata": {},
   "outputs": [],
   "source": [
    "L.append('D1') # OK\n",
    "L[0]='DATA' # OK"
   ]
  },
  {
   "cell_type": "code",
   "execution_count": 40,
   "id": "956e61de",
   "metadata": {},
   "outputs": [
    {
     "name": "stdout",
     "output_type": "stream",
     "text": [
      "2\n",
      "<class 'tuple'>\n",
      "<class 'list'>\n",
      "2\n"
     ]
    },
    {
     "data": {
      "text/plain": [
       "(['D1', 'D2', 'D3', 'D4'], [])"
      ]
     },
     "execution_count": 40,
     "metadata": {},
     "output_type": "execute_result"
    }
   ],
   "source": [
    "T=([],[]) # tuple of list\n",
    "print(len(T))\n",
    "print(type(T))\n",
    "print(type(T[0]))\n",
    "T[0].append('D1')\n",
    "T[0].append('D2')\n",
    "T[0].append('D3')\n",
    "T[0].append('D4')\n",
    "print(len(T))\n",
    "T"
   ]
  },
  {
   "cell_type": "code",
   "execution_count": 42,
   "id": "b7833bcf",
   "metadata": {},
   "outputs": [
    {
     "data": {
      "text/plain": [
       "(['flask', 'lemma2', 'testApp', 'Django'],\n",
       " (5000, 8000, 3030),\n",
       " {'K1': 'test.conf', 'K2': 'main.conf', 'K3': 'repo.conf', 'K4': 'app.conf'})"
      ]
     },
     "execution_count": 42,
     "metadata": {},
     "output_type": "execute_result"
    }
   ],
   "source": [
    "T = (['flask','fastAPI','testApp'],(5000,8000,3030),\n",
    "     {'K1':'test.conf','K2':'project.conf','K3':'repo.conf'})\n",
    "\n",
    "# Tuple of list  - 0th index\n",
    "# Tuple of tuple - 1st index\n",
    "# Tuple of dict  - 2nd index\n",
    "\n",
    "T[0].append('Django')\n",
    "T[0][1]='lemma2'\n",
    "\n",
    "T[-1]['K4']='app.conf'\n",
    "T[-1]['K2']='main.conf'\n",
    "T"
   ]
  },
  {
   "cell_type": "code",
   "execution_count": 43,
   "id": "c6b63587",
   "metadata": {},
   "outputs": [],
   "source": [
    "d={\"K1\":'V1'} # 1D \n",
    "   \n",
    "      # Vs\n",
    "\n",
    "d={\"K1\":[\"V1\",\"V2\",\"V3\"]} # dict of list\n",
    "\n",
    "d={\"K2\":(\"V1\",\"V2\",\"V3\")} # dict of tuple\n",
    "\n",
    "d={\"K3\":{\"K1\":\"V1\",\"K2\":\"V2\"}} # dict of dict"
   ]
  },
  {
   "cell_type": "code",
   "execution_count": 46,
   "id": "3ba7fb8b",
   "metadata": {},
   "outputs": [
    {
     "name": "stdout",
     "output_type": "stream",
     "text": [
      "V1 V3\n",
      "V1\n"
     ]
    }
   ],
   "source": [
    "d={\"K1\":[\"V1\",\"V2\",\"V3\"],\"K3\":{\"K1\":\"V1\",\"K2\":\"V2\"}}\n",
    "\n",
    "print(d['K1'][0],d['K1'][-1]) # dict of list\n",
    "\n",
    "print(d['K3']['K1']) # dict of dict"
   ]
  },
  {
   "cell_type": "code",
   "execution_count": 48,
   "id": "648a9b79",
   "metadata": {},
   "outputs": [
    {
     "data": {
      "text/plain": [
       "{'K1': ['V1', 'V2', 'V3'], 'K3': {'K1': 'updated_Value', 'K2': 'V2'}}"
      ]
     },
     "execution_count": 48,
     "metadata": {},
     "output_type": "execute_result"
    }
   ],
   "source": [
    "d['K3']['K1'] = 'updated_Value'\n",
    "d"
   ]
  },
  {
   "cell_type": "code",
   "execution_count": 49,
   "id": "a29877e0",
   "metadata": {},
   "outputs": [
    {
     "name": "stdout",
     "output_type": "stream",
     "text": [
      "101 proA 1000\n"
     ]
    }
   ],
   "source": [
    "products={'pid':[101,102,103,104,105],\n",
    "          'pnames':['proA','prodB','prodC','prodD','prodE'],\n",
    "         'pcost':[1000,2000,1200,3400,4000]}\n",
    "\n",
    "print(products['pid'][0],products['pnames'][0],products['pcost'][0])"
   ]
  },
  {
   "cell_type": "code",
   "execution_count": null,
   "id": "b3d92f3d",
   "metadata": {},
   "outputs": [],
   "source": [
    "# Python Operators\n",
    "# arithmetic input_types are int,float ->int,float\n",
    "# string     input_types are int,str -> str\n",
    "# relational input_types are int,float,str ->bool\n",
    "# logical  input_types are int,float,str ->bool\n",
    "# membership input_types are str,bytes,list,tuple,dict,set ->bool\n",
    "#   (in not in)\n",
    "# identity operators type specific ->bool\n",
    "#          is is not"
   ]
  },
  {
   "cell_type": "code",
   "execution_count": 54,
   "id": "e8b5f412",
   "metadata": {},
   "outputs": [
    {
     "name": "stdout",
     "output_type": "stream",
     "text": [
      "30.0\n",
      "23.4\n",
      "AB\n",
      "ABCABCABCABCABC\n"
     ]
    }
   ],
   "source": [
    "print(10+20.0)\n",
    "print(10*2.34)\n",
    "print('A'+'B')\n",
    "print('ABC'*5)"
   ]
  },
  {
   "cell_type": "code",
   "execution_count": 55,
   "id": "7f61cc35",
   "metadata": {},
   "outputs": [
    {
     "data": {
      "text/plain": [
       "True"
      ]
     },
     "execution_count": 55,
     "metadata": {},
     "output_type": "execute_result"
    }
   ],
   "source": [
    "s='101,raj,sales,pune,1000'\n",
    "'sales' in s"
   ]
  },
  {
   "cell_type": "code",
   "execution_count": 56,
   "id": "e4485162",
   "metadata": {},
   "outputs": [
    {
     "data": {
      "text/plain": [
       "False"
      ]
     },
     "execution_count": 56,
     "metadata": {},
     "output_type": "execute_result"
    }
   ],
   "source": [
    "'prod' in s"
   ]
  },
  {
   "cell_type": "code",
   "execution_count": 57,
   "id": "1bfadb9e",
   "metadata": {},
   "outputs": [
    {
     "data": {
      "text/plain": [
       "True"
      ]
     },
     "execution_count": 57,
     "metadata": {},
     "output_type": "execute_result"
    }
   ],
   "source": [
    "files = ['p1.log','p2.java','p2.txt','r1.log']\n",
    "'p2.java' in files"
   ]
  },
  {
   "cell_type": "code",
   "execution_count": 58,
   "id": "33d2bcbf",
   "metadata": {},
   "outputs": [
    {
     "data": {
      "text/plain": [
       "False"
      ]
     },
     "execution_count": 58,
     "metadata": {},
     "output_type": "execute_result"
    }
   ],
   "source": [
    "'emp.csv' in files"
   ]
  },
  {
   "cell_type": "code",
   "execution_count": 59,
   "id": "f09c8913",
   "metadata": {},
   "outputs": [
    {
     "data": {
      "text/plain": [
       "True"
      ]
     },
     "execution_count": 59,
     "metadata": {},
     "output_type": "execute_result"
    }
   ],
   "source": [
    "'pid' in products"
   ]
  },
  {
   "cell_type": "code",
   "execution_count": 60,
   "id": "0e30c989",
   "metadata": {},
   "outputs": [
    {
     "data": {
      "text/plain": [
       "True"
      ]
     },
     "execution_count": 60,
     "metadata": {},
     "output_type": "execute_result"
    }
   ],
   "source": [
    "'pcost' in products"
   ]
  },
  {
   "cell_type": "code",
   "execution_count": 63,
   "id": "39bb28c6",
   "metadata": {},
   "outputs": [
    {
     "name": "stdout",
     "output_type": "stream",
     "text": [
      "True False\n"
     ]
    }
   ],
   "source": [
    "va = 10\n",
    "print(type(va) is int,type(va) is float)"
   ]
  },
  {
   "cell_type": "code",
   "execution_count": 64,
   "id": "cb8bddca",
   "metadata": {},
   "outputs": [
    {
     "data": {
      "text/plain": [
       "True"
      ]
     },
     "execution_count": 64,
     "metadata": {},
     "output_type": "execute_result"
    }
   ],
   "source": [
    "L=[]\n",
    "type(L) is list"
   ]
  },
  {
   "cell_type": "code",
   "execution_count": null,
   "id": "2cff9efb",
   "metadata": {},
   "outputs": [],
   "source": [
    "In Python any expression <or> function <or> method ->bool value(True/False)\n",
    "we can use conditional statement\n",
    "           --------------------- Validation based \n",
    "                |\n",
    "              The block will execute only one time\n",
    "if statment\n",
    "===========\n",
    "1. if only 2.if..else 3.if..elif..elif..elif...else \n",
    "\n",
    "if(condition):\n",
    "    <True Block>\n",
    "    \n",
    "if(condition):\n",
    "    <True Block>\n",
    "else:\n",
    "    <False Block>\n",
    "    \n",
    "if(condition1):\n",
    "    <True Block>\n",
    "elif(condition2):\n",
    "    <True Block>\n",
    "elif(condition3):\n",
    "    <True Block>\n",
    "..\n",
    "else:\n",
    "    <False Block>"
   ]
  },
  {
   "cell_type": "code",
   "execution_count": null,
   "id": "d112b96a",
   "metadata": {},
   "outputs": [],
   "source": [
    "Write a python program:\n",
    "    1. create an empty list\n",
    "    2. read a hostname from <STDIN>\n",
    "    3. use membership operator - test input host name is exists or not\n",
    "            3.1 not exists ->Append operation(add input host to list)\n",
    "    4. display list"
   ]
  },
  {
   "cell_type": "code",
   "execution_count": 67,
   "id": "2b2f4759",
   "metadata": {},
   "outputs": [],
   "source": [
    "# input_variable = input('prompt message')\n",
    "################"
   ]
  },
  {
   "cell_type": "code",
   "execution_count": 70,
   "id": "879d9c43",
   "metadata": {},
   "outputs": [
    {
     "name": "stdout",
     "output_type": "stream",
     "text": [
      "Enter a hostname:host02\n"
     ]
    },
    {
     "data": {
      "text/plain": [
       "['localhost', 'host02']"
      ]
     },
     "execution_count": 70,
     "metadata": {},
     "output_type": "execute_result"
    }
   ],
   "source": [
    "hosts = [] \n",
    "hosts.append('localhost')\n",
    "h = input('Enter a hostname:')\n",
    "if(h in hosts):\n",
    "    print(f'Yes given host {h} already exists')\n",
    "else:\n",
    "    hosts.append(h)\n",
    "    \n",
    "hosts"
   ]
  },
  {
   "cell_type": "code",
   "execution_count": null,
   "id": "cd145428",
   "metadata": {},
   "outputs": [],
   "source": [
    "Tasks:\n",
    "    read a port number from <STDIN>\n",
    "    test input port range 5001-5999 => initialize app name is TestApp\n",
    "    test input port range 501-599 ==> initialize app name is demoApp\n",
    "    |\n",
    "    default app name is main.app\n",
    "    |\n",
    "    display app name and port number\n",
    "    "
   ]
  },
  {
   "cell_type": "code",
   "execution_count": 71,
   "id": "af6acaa2",
   "metadata": {},
   "outputs": [
    {
     "name": "stdout",
     "output_type": "stream",
     "text": [
      "Enter a port number:5689\n",
      "App name is:TestApp running port number is:5689\n"
     ]
    }
   ],
   "source": [
    "port = input('Enter a port number:')\n",
    "\n",
    "if(int(port) >5000 and int(port)<6000):\n",
    "    app = 'TestApp'\n",
    "elif(int(port)>500 and int(port)<600):\n",
    "    app = 'demoApp'\n",
    "else:\n",
    "    app = 'main.app'\n",
    "    \n",
    "print(f'App name is:{app} running port number is:{port}')\n"
   ]
  },
  {
   "cell_type": "code",
   "execution_count": 73,
   "id": "7e36bfe1",
   "metadata": {},
   "outputs": [
    {
     "name": "stdout",
     "output_type": "stream",
     "text": [
      "Enter a port number:567\n",
      "App name is:demoApp running port number is:567\n"
     ]
    }
   ],
   "source": [
    "port = input('Enter a port number:')\n",
    "\n",
    "if(int(port) >5000 and int(port)<6000):\n",
    "    app = 'TestApp'\n",
    "elif(int(port)>500 and int(port)<600):\n",
    "    app = 'demoApp'\n",
    "else:\n",
    "    app = 'main.app'\n",
    "    \n",
    "print(f'App name is:{app} running port number is:{port}')\n"
   ]
  },
  {
   "cell_type": "code",
   "execution_count": 74,
   "id": "bae55219",
   "metadata": {},
   "outputs": [
    {
     "name": "stdout",
     "output_type": "stream",
     "text": [
      "Enter a port number:123\n",
      "App name is:main.app running port number is:123\n"
     ]
    }
   ],
   "source": [
    "port = input('Enter a port number:')\n",
    "\n",
    "if(int(port) >5000 and int(port)<6000):\n",
    "    app = 'TestApp'\n",
    "elif(int(port)>500 and int(port)<600):\n",
    "    app = 'demoApp'\n",
    "else:\n",
    "    app = 'main.app'\n",
    "    \n",
    "print(f'App name is:{app} running port number is:{port}')\n"
   ]
  },
  {
   "cell_type": "code",
   "execution_count": 76,
   "id": "fcc07130",
   "metadata": {},
   "outputs": [
    {
     "data": {
      "text/plain": [
       "46"
      ]
     },
     "execution_count": 76,
     "metadata": {},
     "output_type": "execute_result"
    }
   ],
   "source": [
    "v1 = 45\n",
    "v2 = '46'\n",
    "int(v2) # type cast to int"
   ]
  },
  {
   "cell_type": "code",
   "execution_count": 77,
   "id": "f4549c42",
   "metadata": {},
   "outputs": [
    {
     "data": {
      "text/plain": [
       "'45'"
      ]
     },
     "execution_count": 77,
     "metadata": {},
     "output_type": "execute_result"
    }
   ],
   "source": [
    "str(v1) # type cast to str"
   ]
  },
  {
   "cell_type": "code",
   "execution_count": 78,
   "id": "0a71cdd1",
   "metadata": {},
   "outputs": [
    {
     "name": "stdout",
     "output_type": "stream",
     "text": [
      "True True\n"
     ]
    }
   ],
   "source": [
    "print(bool(v1),bool(v2))"
   ]
  },
  {
   "cell_type": "code",
   "execution_count": 79,
   "id": "9837b16e",
   "metadata": {},
   "outputs": [
    {
     "name": "stdout",
     "output_type": "stream",
     "text": [
      "False False False False False False False\n"
     ]
    }
   ],
   "source": [
    "print(bool(0),bool(0.0),bool(''),bool([]),bool(()),bool({}),bool(None))"
   ]
  },
  {
   "cell_type": "code",
   "execution_count": 80,
   "id": "cc6f161c",
   "metadata": {},
   "outputs": [
    {
     "name": "stdout",
     "output_type": "stream",
     "text": [
      "Enter your name:\n",
      "Sorry your input is empty\n"
     ]
    }
   ],
   "source": [
    "name = input('Enter your name:')\n",
    "if(len(name) == 0):\n",
    "    print(\"Sorry your input is empty\")\n",
    "else:\n",
    "    print(f\"Hello...{name}\")\n"
   ]
  },
  {
   "cell_type": "code",
   "execution_count": 81,
   "id": "56369c03",
   "metadata": {},
   "outputs": [
    {
     "name": "stdout",
     "output_type": "stream",
     "text": [
      "Enter your name:raj\n",
      "Hello...raj\n"
     ]
    }
   ],
   "source": [
    "name = input('Enter your name:')\n",
    "if(len(name) == 0):\n",
    "    print(\"Sorry your input is empty\")\n",
    "else:\n",
    "    print(f\"Hello...{name}\")\n"
   ]
  },
  {
   "cell_type": "code",
   "execution_count": 83,
   "id": "33881031",
   "metadata": {},
   "outputs": [
    {
     "data": {
      "text/plain": [
       "(False, True)"
      ]
     },
     "execution_count": 83,
     "metadata": {},
     "output_type": "execute_result"
    }
   ],
   "source": [
    "bool(''),bool(' ')"
   ]
  },
  {
   "cell_type": "code",
   "execution_count": 84,
   "id": "6f39a918",
   "metadata": {},
   "outputs": [
    {
     "name": "stdout",
     "output_type": "stream",
     "text": [
      "Enter your name:\n",
      "Sorry your input is missed\n"
     ]
    }
   ],
   "source": [
    "name = input('Enter your name:')\n",
    "if(name):\n",
    "    print(f'Hello...{name}')\n",
    "else:\n",
    "    print('Sorry your input is missed')"
   ]
  },
  {
   "cell_type": "code",
   "execution_count": 85,
   "id": "562f53b5",
   "metadata": {},
   "outputs": [
    {
     "name": "stdout",
     "output_type": "stream",
     "text": [
      "Enter your name:Raj\n",
      "Hello...Raj\n"
     ]
    }
   ],
   "source": [
    "name = input('Enter your name:')\n",
    "if(name):\n",
    "    print(f'Hello...{name}')\n",
    "else:\n",
    "    print('Sorry your input is missed')"
   ]
  },
  {
   "cell_type": "code",
   "execution_count": 86,
   "id": "d74845d3",
   "metadata": {},
   "outputs": [
    {
     "name": "stdout",
     "output_type": "stream",
     "text": [
      "i value is:0\n",
      "i value is:1\n",
      "i value is:2\n",
      "i value is:3\n",
      "i value is:4\n"
     ]
    }
   ],
   "source": [
    "# Operator + Conditional statement + Looping statements\n",
    "# ------------------------------------------------------\n",
    "\n",
    "# Looping statements\n",
    "#  ->Code block ->execute more than one times\n",
    "#\n",
    "#  1. Conditional Style - based on the bool value \n",
    "#       |-> while\n",
    "#  2. Collection style - based on the items(collection - str,bytes,list,tuple,dict,set)\n",
    "#       |-> for \n",
    "\n",
    "# while loop\n",
    "# 1st step => initialization\n",
    "# 2nd step => condition\n",
    "# 3rd step => arithmetic \n",
    "# python won't support ++ -- operators \n",
    "\n",
    "i=0\n",
    "while(i<5):\n",
    "    print(f'i value is:{i}')\n",
    "    i=i+1 # i+=1"
   ]
  },
  {
   "cell_type": "code",
   "execution_count": 88,
   "id": "cc28b917",
   "metadata": {},
   "outputs": [
    {
     "name": "stdout",
     "output_type": "stream",
     "text": [
      "var value is: s\n",
      "var value is: a\n",
      "var value is: l\n",
      "var value is: e\n",
      "var value is: s\n"
     ]
    }
   ],
   "source": [
    "# for variable in <Collection>:\n",
    "#        <Code Block>\n",
    "#\n",
    "# for in - keywords\n",
    "\n",
    "for var in 'sales':\n",
    "    print(f'var value is: {var}')"
   ]
  },
  {
   "cell_type": "code",
   "execution_count": 90,
   "id": "dc51e5fe",
   "metadata": {},
   "outputs": [
    {
     "name": "stdout",
     "output_type": "stream",
     "text": [
      "var value is:sales\n",
      "var value is:prod\n"
     ]
    }
   ],
   "source": [
    "for var in ['sales','prod']:\n",
    "    print(f'var value is:{var}')"
   ]
  },
  {
   "cell_type": "code",
   "execution_count": 93,
   "id": "6a0c1d25",
   "metadata": {},
   "outputs": [
    {
     "name": "stdout",
     "output_type": "stream",
     "text": [
      "0\n",
      "1\n",
      "2\n",
      "3\n",
      "4\n",
      "5\n",
      "6\n",
      "7\n",
      "8\n",
      "9\n",
      "10\n",
      "11\n",
      "12\n",
      "13\n",
      "14\n",
      "\n",
      "\n",
      "3\n",
      "4\n",
      "5\n",
      "6\n",
      "7\n",
      "8\n",
      "9\n",
      "10\n",
      "11\n",
      "12\n",
      "13\n",
      "14\n",
      "\n",
      "\n",
      "3\n",
      "5\n",
      "7\n",
      "9\n",
      "11\n",
      "13\n"
     ]
    }
   ],
   "source": [
    "# python 2.x \n",
    "# range(5) --->[0,1,2,3,4] \n",
    "\n",
    "# python 3.x\n",
    "# range(5) --><class 'range'>(0,5)\n",
    "\n",
    "for var in range(15):\n",
    "    print(var)\n",
    "    \n",
    "print(\"\\n\")\n",
    "for var in range(3,15):\n",
    "    print(var)\n",
    "    \n",
    "print(\"\\n\")\n",
    "for var in range(3,15,2):\n",
    "    print(var)"
   ]
  },
  {
   "cell_type": "code",
   "execution_count": 96,
   "id": "b9de9897",
   "metadata": {},
   "outputs": [
    {
     "name": "stdout",
     "output_type": "stream",
     "text": [
      "Thank you\n",
      "Sum of 5 is:15\n"
     ]
    }
   ],
   "source": [
    "while(False):\n",
    "    print(\"OK\")\n",
    "    \n",
    "    \n",
    "while(False):\n",
    "    print(\"OK\")\n",
    "else:\n",
    "    print(\"Thank you\")\n",
    "    \n",
    "t=0\n",
    "for var in '12345':\n",
    "    t=t+int(var)\n",
    "else:\n",
    "    print(f'Sum of {var} is:{t}')"
   ]
  },
  {
   "cell_type": "code",
   "execution_count": null,
   "id": "9b5ab765",
   "metadata": {},
   "outputs": [],
   "source": [
    ">>> for var in '12345':\n",
    "...     print(var,type(var))\n",
    "...\n",
    "1 <class 'str'>\n",
    "2 <class 'str'>\n",
    "3 <class 'str'>\n",
    "4 <class 'str'>\n",
    "5 <class 'str'>\n",
    ">>>"
   ]
  },
  {
   "cell_type": "code",
   "execution_count": 97,
   "id": "07b4a67a",
   "metadata": {},
   "outputs": [
    {
     "name": "stdout",
     "output_type": "stream",
     "text": [
      "display list of files\n"
     ]
    }
   ],
   "source": [
    "def display():\n",
    "    print(\"display list of files\")\n",
    "    \n",
    "display()"
   ]
  },
  {
   "cell_type": "code",
   "execution_count": 100,
   "id": "5a77c7a0",
   "metadata": {},
   "outputs": [
    {
     "name": "stdout",
     "output_type": "stream",
     "text": [
      "display list of files\n",
      "file1: p1.log file2: p2.log file3: p3.log\n"
     ]
    },
    {
     "ename": "TypeError",
     "evalue": "display() missing 2 required positional arguments: 'f2' and 'f3'",
     "output_type": "error",
     "traceback": [
      "\u001b[1;31m---------------------------------------------------------------------------\u001b[0m",
      "\u001b[1;31mTypeError\u001b[0m                                 Traceback (most recent call last)",
      "Cell \u001b[1;32mIn[100], line 10\u001b[0m\n\u001b[0;32m      5\u001b[0m display(\u001b[38;5;124m\"\u001b[39m\u001b[38;5;124mp1.log\u001b[39m\u001b[38;5;124m\"\u001b[39m,\u001b[38;5;124m\"\u001b[39m\u001b[38;5;124mp2.log\u001b[39m\u001b[38;5;124m\"\u001b[39m,\u001b[38;5;124m\"\u001b[39m\u001b[38;5;124mp3.log\u001b[39m\u001b[38;5;124m\"\u001b[39m)\n\u001b[0;32m      6\u001b[0m \u001b[38;5;66;03m#display()\u001b[39;00m\n\u001b[0;32m      7\u001b[0m \u001b[38;5;66;03m#TypeError: display() missing 3 required positional arguments: \u001b[39;00m\n\u001b[0;32m      8\u001b[0m \u001b[38;5;66;03m#                                        'f1', 'f2', and 'f3'\u001b[39;00m\n\u001b[1;32m---> 10\u001b[0m display(\u001b[38;5;124m\"\u001b[39m\u001b[38;5;124mtest1.c\u001b[39m\u001b[38;5;124m\"\u001b[39m)\n",
      "\u001b[1;31mTypeError\u001b[0m: display() missing 2 required positional arguments: 'f2' and 'f3'"
     ]
    }
   ],
   "source": [
    "def display(f1,f2,f3): # required arguments\n",
    "    print(\"display list of files\")\n",
    "    print(\"file1:\",f1,\"file2:\",f2,\"file3:\",f3)\n",
    "    \n",
    "display(\"p1.log\",\"p2.log\",\"p3.log\")\n",
    "\n",
    "#display()\n",
    "#TypeError: display() missing 3 required positional arguments: \n",
    "#                                        'f1', 'f2', and 'f3'\n",
    "        \n",
    "#display(\"test1.c\")\n",
    "#TypeError: display() missing 2 required positional arguments: 'f2' and 'f3'\n",
    "        \n",
    "#display(\"t1.c\",\"t2.c\") ->Error "
   ]
  },
  {
   "cell_type": "code",
   "execution_count": 103,
   "id": "e6d21fbe",
   "metadata": {},
   "outputs": [
    {
     "name": "stdout",
     "output_type": "stream",
     "text": [
      "list of files\n",
      "f1 value= users.csv\n",
      "list of files\n",
      "f1 value= emp.csv\n"
     ]
    },
    {
     "ename": "TypeError",
     "evalue": "display() takes from 0 to 1 positional arguments but 2 were given",
     "output_type": "error",
     "traceback": [
      "\u001b[1;31m---------------------------------------------------------------------------\u001b[0m",
      "\u001b[1;31mTypeError\u001b[0m                                 Traceback (most recent call last)",
      "Cell \u001b[1;32mIn[103], line 9\u001b[0m\n\u001b[0;32m      5\u001b[0m display()\n\u001b[0;32m      7\u001b[0m display(\u001b[38;5;124m\"\u001b[39m\u001b[38;5;124memp.csv\u001b[39m\u001b[38;5;124m\"\u001b[39m)\n\u001b[1;32m----> 9\u001b[0m display(\u001b[38;5;124m\"\u001b[39m\u001b[38;5;124mf1\u001b[39m\u001b[38;5;124m\"\u001b[39m,\u001b[38;5;124m\"\u001b[39m\u001b[38;5;124mf2\u001b[39m\u001b[38;5;124m\"\u001b[39m)\n",
      "\u001b[1;31mTypeError\u001b[0m: display() takes from 0 to 1 positional arguments but 2 were given"
     ]
    }
   ],
   "source": [
    "def display(f1=\"users.csv\"): # default args\n",
    "    print(\"list of files\")\n",
    "    print(\"f1 value=\",f1)\n",
    "    \n",
    "display()\n",
    "\n",
    "display(\"emp.csv\")\n",
    "\n",
    "display(\"f1\",\"f2\")"
   ]
  },
  {
   "cell_type": "code",
   "execution_count": 104,
   "id": "d6833186",
   "metadata": {},
   "outputs": [
    {
     "ename": "SyntaxError",
     "evalue": "non-default argument follows default argument (3123558499.py, line 1)",
     "output_type": "error",
     "traceback": [
      "\u001b[1;36m  Cell \u001b[1;32mIn[104], line 1\u001b[1;36m\u001b[0m\n\u001b[1;33m    def fx(a1,a2,a3,a4=True,a5):\u001b[0m\n\u001b[1;37m                            ^\u001b[0m\n\u001b[1;31mSyntaxError\u001b[0m\u001b[1;31m:\u001b[0m non-default argument follows default argument\n"
     ]
    }
   ],
   "source": [
    "def fx(a1,a2,a3,a4=True,a5):\n",
    "    print(\"OK\")"
   ]
  },
  {
   "cell_type": "code",
   "execution_count": 105,
   "id": "594b34cc",
   "metadata": {},
   "outputs": [],
   "source": [
    "def fx(a1,a2,a3,a4,a5=\"OK\",a6=\"True\"):\n",
    "    print(\"OK\")"
   ]
  },
  {
   "cell_type": "code",
   "execution_count": 106,
   "id": "eff50c71",
   "metadata": {},
   "outputs": [
    {
     "name": "stdout",
     "output_type": "stream",
     "text": [
      "List of files\n",
      "() <class 'tuple'>\n"
     ]
    }
   ],
   "source": [
    "def fx(*a): # Variable length args\n",
    "    print(\"List of files\")\n",
    "    print(a,type(a))\n",
    "    \n",
    "fx()"
   ]
  },
  {
   "cell_type": "code",
   "execution_count": 107,
   "id": "2ba4db05",
   "metadata": {},
   "outputs": [
    {
     "name": "stdout",
     "output_type": "stream",
     "text": [
      "List of files\n",
      "('f1', 'f2', 'f3') <class 'tuple'>\n"
     ]
    }
   ],
   "source": [
    "fx(\"f1\",\"f2\",\"f3\")"
   ]
  },
  {
   "cell_type": "code",
   "execution_count": 109,
   "id": "5967e2bd",
   "metadata": {},
   "outputs": [
    {
     "name": "stdout",
     "output_type": "stream",
     "text": [
      "List of files\n",
      "(['p1.conf', 'p2.conf'], ('p1.yml', 'p2.yml'), {'K1': 'V1'}) <class 'tuple'>\n"
     ]
    }
   ],
   "source": [
    "fx(['p1.conf','p2.conf'],('p1.yml','p2.yml'),{\"K1\":\"V1\"})"
   ]
  },
  {
   "cell_type": "code",
   "execution_count": 110,
   "id": "3d397b89",
   "metadata": {},
   "outputs": [
    {
     "ename": "TypeError",
     "evalue": "fx() got an unexpected keyword argument 'app'",
     "output_type": "error",
     "traceback": [
      "\u001b[1;31m---------------------------------------------------------------------------\u001b[0m",
      "\u001b[1;31mTypeError\u001b[0m                                 Traceback (most recent call last)",
      "Cell \u001b[1;32mIn[110], line 1\u001b[0m\n\u001b[1;32m----> 1\u001b[0m fx(app\u001b[38;5;241m=\u001b[39m\u001b[38;5;124m'\u001b[39m\u001b[38;5;124mflask\u001b[39m\u001b[38;5;124m'\u001b[39m,port\u001b[38;5;241m=\u001b[39m\u001b[38;5;241m5000\u001b[39m)\n",
      "\u001b[1;31mTypeError\u001b[0m: fx() got an unexpected keyword argument 'app'"
     ]
    }
   ],
   "source": [
    "fx(app='flask',port=5000) # keyword args"
   ]
  },
  {
   "cell_type": "code",
   "execution_count": 111,
   "id": "bce38224",
   "metadata": {},
   "outputs": [],
   "source": [
    "def fx(**a):\n",
    "    for var in a:\n",
    "        print(f'{var} - {a[var]}')\n"
   ]
  },
  {
   "cell_type": "code",
   "execution_count": 112,
   "id": "2f3c8b52",
   "metadata": {},
   "outputs": [],
   "source": [
    "fx()"
   ]
  },
  {
   "cell_type": "code",
   "execution_count": 113,
   "id": "7c30faa4",
   "metadata": {},
   "outputs": [
    {
     "name": "stdout",
     "output_type": "stream",
     "text": [
      "config - /etc/passwd\n",
      "user - root\n",
      "db - MysqL\n"
     ]
    }
   ],
   "source": [
    "fx(config=\"/etc/passwd\",user=\"root\",db=\"MysqL\")"
   ]
  },
  {
   "cell_type": "code",
   "execution_count": 125,
   "id": "0da953cc",
   "metadata": {},
   "outputs": [
    {
     "name": "stdout",
     "output_type": "stream",
     "text": [
      "Raj RAJ\n"
     ]
    }
   ],
   "source": [
    "name='raj'\n",
    "print(name.title(),name.upper())"
   ]
  },
  {
   "cell_type": "code",
   "execution_count": null,
   "id": "f2ac534b",
   "metadata": {},
   "outputs": [],
   "source": [
    "Task:\n",
    "------\n",
    "Q1. Given List\n",
    "------------------\n",
    "Emp = ['101,raj,sales,pune,1000','102,tom,prod,bglore,2000','103,leo,hr,hyd,3000']\n",
    "|\n",
    "|->display emp name(TitleCase) and working City(UpperCase)\n",
    "|->Calculate Sum of Emp's Cost \n",
    "|->Display Total Cost at the end of the line."
   ]
  },
  {
   "cell_type": "code",
   "execution_count": 114,
   "id": "2322f42a",
   "metadata": {},
   "outputs": [
    {
     "data": {
      "text/plain": [
       "['101', 'raj', 'sales', 'pune', '1000']"
      ]
     },
     "execution_count": 114,
     "metadata": {},
     "output_type": "execute_result"
    }
   ],
   "source": [
    "s='101,raj,sales,pune,1000'\n",
    "s.split(',')"
   ]
  },
  {
   "cell_type": "code",
   "execution_count": 115,
   "id": "0bc187c4",
   "metadata": {},
   "outputs": [
    {
     "data": {
      "text/plain": [
       "['101', 'raj', 'sales', 'pune', '1000']"
      ]
     },
     "execution_count": 115,
     "metadata": {},
     "output_type": "execute_result"
    }
   ],
   "source": [
    "L = s.split(',')\n",
    "L"
   ]
  },
  {
   "cell_type": "code",
   "execution_count": 122,
   "id": "ac510b45",
   "metadata": {},
   "outputs": [
    {
     "name": "stdout",
     "output_type": "stream",
     "text": [
      "Help on method_descriptor:\n",
      "\n",
      "split(self, /, sep=None, maxsplit=-1)\n",
      "    Return a list of the substrings in the string, using sep as the separator string.\n",
      "    \n",
      "      sep\n",
      "        The separator used to split the string.\n",
      "    \n",
      "        When set to None (the default value), will split on any whitespace\n",
      "        character (including \\\\n \\\\r \\\\t \\\\f and spaces) and will discard\n",
      "        empty strings from the result.\n",
      "      maxsplit\n",
      "        Maximum number of splits (starting from the left).\n",
      "        -1 (the default value) means no limit.\n",
      "    \n",
      "    Note, str.split() is mainly useful for data that has been intentionally\n",
      "    delimited.  With natural text that includes punctuation, consider using\n",
      "    the regular expression module.\n",
      "\n"
     ]
    }
   ],
   "source": [
    "help(str.split)"
   ]
  },
  {
   "cell_type": "code",
   "execution_count": 121,
   "id": "ceb7bdb1",
   "metadata": {},
   "outputs": [
    {
     "name": "stdout",
     "output_type": "stream",
     "text": [
      "101 raj sales pune 1000\n"
     ]
    }
   ],
   "source": [
    "eid,ename,edept,ecity,ecost = s.split(',') # multiple initialization\n",
    "print(eid,ename,edept,ecity,ecost)"
   ]
  },
  {
   "cell_type": "code",
   "execution_count": 129,
   "id": "851d9798",
   "metadata": {},
   "outputs": [
    {
     "name": "stdout",
     "output_type": "stream",
     "text": [
      "Emp name:Raj\tWorkingCity:PUNE\n",
      "Emp name:Tom\tWorkingCity:BGLORE\n",
      "Emp name:Leo\tWorkingCity:HYD\n",
      "----------------------------------------\n",
      "\tSum of Emp's Cost:6000\n",
      "----------------------------------------\n"
     ]
    }
   ],
   "source": [
    "Emp = ['101,raj,sales,pune,1000','102,tom,prod,bglore,2000',\n",
    "       '103,leo,hr,hyd,3000']\n",
    "\n",
    "total = 0\n",
    "for var in Emp:\n",
    "    eid,ename,edept,ecity,ecost=var.split(\",\")\n",
    "    print(f'Emp name:{ename.title()}\\tWorkingCity:{ecity.upper()}')\n",
    "    total = total + int(ecost)\n",
    "else:\n",
    "    print(\"-\"*40)\n",
    "    print(f\"\\tSum of Emp's Cost:{total}\")\n",
    "    print(\"-\"*40)"
   ]
  },
  {
   "cell_type": "code",
   "execution_count": null,
   "id": "3bf225e3",
   "metadata": {},
   "outputs": [],
   "source": [
    "# Tasks\n",
    "Q2. Given dictionary\n",
    "-------------------------\n",
    "net_info={\"Type\":\"Ethernet\",\"Onboot\":\"No\",\"bootproto\":\"dhcp\",\"defroute\":\"yes\"}\n",
    "\n",
    "print -> given dict details \n",
    "|-> dictionary key modification \n",
    "        Onboot ->Yes\n",
    "        bootproto ->static\n",
    "        defroute ->no\n",
    "        \n",
    "|-> dictionary add operation\n",
    "        IP ->10.20.30.40\n",
    "        prefix ->24\n",
    "        \n",
    "print -> updated dict content \n"
   ]
  },
  {
   "cell_type": "code",
   "execution_count": 133,
   "id": "0aa32366",
   "metadata": {},
   "outputs": [
    {
     "name": "stdout",
     "output_type": "stream",
     "text": [
      "Type - Ethernet\n",
      "Onboot - No\n",
      "bootproto - dhcp\n",
      "defroute - yes\n",
      "\n",
      "Updated network Info\n",
      "Type - Ethernet\n",
      "Onboot - yes\n",
      "bootproto - static\n",
      "defroute - no\n",
      "IP - 10.20.30.40\n",
      "prefix - 24\n"
     ]
    }
   ],
   "source": [
    "net_info={\"Type\":\"Ethernet\",\"Onboot\":\"No\",\"bootproto\":\"dhcp\",\n",
    "          \"defroute\":\"yes\"}\n",
    "\n",
    "for var in net_info:\n",
    "    print(f'{var} - {net_info[var]}')\n",
    "    \n",
    "# dict modification\n",
    "net_info['Onboot']='yes'\n",
    "net_info['bootproto']='static'\n",
    "net_info['defroute']='no'\n",
    "\n",
    "# dict add operation\n",
    "net_info['IP']='10.20.30.40'\n",
    "net_info['prefix']=24\n",
    "\n",
    "print('\\nUpdated network Info')\n",
    "for var in net_info:\n",
    "    print(f'{var} - {net_info[var]}')\n"
   ]
  },
  {
   "cell_type": "code",
   "execution_count": 134,
   "id": "76950a38",
   "metadata": {},
   "outputs": [
    {
     "data": {
      "text/plain": [
       "['Type', 'Ethernet']"
      ]
     },
     "execution_count": 134,
     "metadata": {},
     "output_type": "execute_result"
    }
   ],
   "source": [
    "s='Type=Ethernet'\n",
    "d={}\n",
    "\n",
    "s.split(\"=\")"
   ]
  },
  {
   "cell_type": "code",
   "execution_count": 135,
   "id": "02581055",
   "metadata": {},
   "outputs": [
    {
     "data": {
      "text/plain": [
       "{'Type': 'Ethernet'}"
      ]
     },
     "execution_count": 135,
     "metadata": {},
     "output_type": "execute_result"
    }
   ],
   "source": [
    "k,v = s.split(\"=\")\n",
    "d[k]=v\n",
    "d"
   ]
  },
  {
   "cell_type": "code",
   "execution_count": 136,
   "id": "61d03bff",
   "metadata": {},
   "outputs": [
    {
     "data": {
      "text/plain": [
       "'Mon Nov 25 14:42:48 2024'"
      ]
     },
     "execution_count": 136,
     "metadata": {},
     "output_type": "execute_result"
    }
   ],
   "source": [
    "import time\n",
    "time.ctime()"
   ]
  },
  {
   "cell_type": "code",
   "execution_count": 137,
   "id": "739a3d4f",
   "metadata": {},
   "outputs": [
    {
     "data": {
      "text/plain": [
       "['Mon', 'Nov', '25', '14:43:08', '2024']"
      ]
     },
     "execution_count": 137,
     "metadata": {},
     "output_type": "execute_result"
    }
   ],
   "source": [
    "time.ctime().split()"
   ]
  },
  {
   "cell_type": "code",
   "execution_count": 138,
   "id": "2b770db1",
   "metadata": {},
   "outputs": [
    {
     "data": {
      "text/plain": [
       "'14:44:12'"
      ]
     },
     "execution_count": 138,
     "metadata": {},
     "output_type": "execute_result"
    }
   ],
   "source": [
    "time.ctime().split()[-2]"
   ]
  },
  {
   "cell_type": "code",
   "execution_count": 139,
   "id": "feb8baf3",
   "metadata": {},
   "outputs": [],
   "source": [
    "time.sleep(3)"
   ]
  },
  {
   "cell_type": "code",
   "execution_count": null,
   "id": "8f425f07",
   "metadata": {},
   "outputs": [],
   "source": [
    "Write a python program:\n",
    "    1. initialize a pin Number(ex: pin=1234)\n",
    "    2. use while loop - limit is 3\n",
    "            |-> read a inputPin from <STDIN>\n",
    "            |-> test inputPin with an existing pin\n",
    "                     -----------------------------\n",
    "                         ->Both pin is matched -> Pin is matched - <count>\n",
    "            \n",
    "    3. if 3 inputs are failed - pin is blocked.\n",
    "    \n",
    "-> create an empty dictionary\n",
    "-> use time as key - user input pin details as value(Success/Failed)\n",
    "   --------------    ===================================================\n",
    "    \n",
    "-> display dict details"
   ]
  },
  {
   "cell_type": "code",
   "execution_count": 143,
   "id": "89a22a44",
   "metadata": {},
   "outputs": [
    {
     "name": "stdout",
     "output_type": "stream",
     "text": [
      "Enter a pin number:13132\n",
      "Enter a pin number:123123\n",
      "Enter a pin number:12321\n",
      "pin is blocked\n"
     ]
    }
   ],
   "source": [
    "pin = 1234\n",
    "c = 0\n",
    "while(c < 3):\n",
    "    p = input('Enter a pin number:')\n",
    "    c=c+1\n",
    "    if(pin == int(p)):\n",
    "        print(f'Success - pin is matched {c}')\n",
    "        break # exit from loop\n",
    "\n",
    "if(int(p) != pin):\n",
    "    print('pin is blocked')"
   ]
  },
  {
   "cell_type": "code",
   "execution_count": 146,
   "id": "dc140412",
   "metadata": {},
   "outputs": [
    {
     "name": "stdout",
     "output_type": "stream",
     "text": [
      "Enter a pin number:12321\n",
      "Failed - pis is not-matched\n",
      "Enter a pin number:12321\n",
      "Failed - pis is not-matched\n",
      "Enter a pin number:1234\n",
      "Success - pin is matched 3\n"
     ]
    }
   ],
   "source": [
    "pin = 1234\n",
    "c = 0\n",
    "while(c < 3):\n",
    "    p = input('Enter a pin number:')\n",
    "    c=c+1\n",
    "    if(pin == int(p)):\n",
    "        print(f'Success - pin is matched {c}')\n",
    "        break # exit from loop\n",
    "    else:\n",
    "        print(f'Failed - pis is not-matched')\n",
    "\n",
    "if(int(p) != pin):\n",
    "    print('pin is blocked')"
   ]
  },
  {
   "cell_type": "code",
   "execution_count": 146,
   "id": "8b616200",
   "metadata": {},
   "outputs": [
    {
     "name": "stdout",
     "output_type": "stream",
     "text": [
      "Enter a pin number:12321\n",
      "Failed - pis is not-matched\n",
      "Enter a pin number:12321\n",
      "Failed - pis is not-matched\n",
      "Enter a pin number:1234\n",
      "Success - pin is matched 3\n"
     ]
    }
   ],
   "source": [
    "pin = 1234\n",
    "c = 0\n",
    "while(c < 3):\n",
    "    p = input('Enter a pin number:')\n",
    "    c=c+1\n",
    "    if(pin == int(p)):\n",
    "        print(f'Success - pin is matched {c}')\n",
    "        break # exit from loop\n",
    "    else:\n",
    "        print(f'Failed - pis is not-matched')\n",
    "\n",
    "if(int(p) != pin):\n",
    "    print('pin is blocked')"
   ]
  },
  {
   "cell_type": "code",
   "execution_count": 151,
   "id": "01e21244",
   "metadata": {},
   "outputs": [
    {
     "name": "stdout",
     "output_type": "stream",
     "text": [
      "Enter a pin number:123456\n",
      "Enter a pin number:1234\n"
     ]
    }
   ],
   "source": [
    "import time\n",
    "\n",
    "pin_history = {} # empty dict\n",
    "\n",
    "pin = 1234\n",
    "c = 0\n",
    "while(c < 3):\n",
    "    p = input('Enter a pin number:')\n",
    "    c=c+1\n",
    "    if(pin == int(p)):\n",
    "        pin_history[time.ctime().split()[-2]]=f'Success - pin is matched{c}'\n",
    "        time.sleep(2)\n",
    "        #print(f'Success - pin is matched {c}')\n",
    "        break # exit from loop\n",
    "    else:\n",
    "        pin_history[time.ctime().split()[-2]]=f'Failed - user input pin:{p} is not-matched'\n",
    "        time.sleep(1)\n",
    "        #print(f'Failed - pin is not-matched')\n",
    "\n",
    "if(int(p) != pin):\n",
    "    pin_history[time.ctime().split()[-2]] = f'pin is blocked'\n",
    "    time.sleep(1)\n",
    "    #print('pin is blocked')"
   ]
  },
  {
   "cell_type": "code",
   "execution_count": 152,
   "id": "d6df75c5",
   "metadata": {},
   "outputs": [
    {
     "data": {
      "text/plain": [
       "{'15:02:57': 'Failed - user input pin:123456 is not-matched',\n",
       " '15:03:03': 'Success - pin is matched2'}"
      ]
     },
     "execution_count": 152,
     "metadata": {},
     "output_type": "execute_result"
    }
   ],
   "source": [
    "pin_history"
   ]
  },
  {
   "cell_type": "code",
   "execution_count": 153,
   "id": "16d069ff",
   "metadata": {},
   "outputs": [
    {
     "name": "stdout",
     "output_type": "stream",
     "text": [
      "Enter a pin number:52234\n",
      "Enter a pin number:43242\n",
      "Enter a pin number:42422\n"
     ]
    }
   ],
   "source": [
    "import time\n",
    "\n",
    "pin_history = {} # empty dict\n",
    "\n",
    "pin = 1234\n",
    "c = 0\n",
    "while(c < 3):\n",
    "    p = input('Enter a pin number:')\n",
    "    c=c+1\n",
    "    if(pin == int(p)):\n",
    "        pin_history[time.ctime().split()[-2]]=f'Success - pin is matched{c}'\n",
    "        time.sleep(2)\n",
    "        #print(f'Success - pin is matched {c}')\n",
    "        break # exit from loop\n",
    "    else:\n",
    "        pin_history[time.ctime().split()[-2]]=f'Failed - user input pin:{p} is not-matched'\n",
    "        time.sleep(1)\n",
    "        #print(f'Failed - pin is not-matched')\n",
    "\n",
    "if(int(p) != pin):\n",
    "    pin_history[time.ctime().split()[-2]] = f'pin is blocked'\n",
    "    time.sleep(1)\n",
    "    #print('pin is blocked')"
   ]
  },
  {
   "cell_type": "code",
   "execution_count": 154,
   "id": "949834eb",
   "metadata": {},
   "outputs": [
    {
     "data": {
      "text/plain": [
       "{'15:03:45': 'Failed - user input pin:52234 is not-matched',\n",
       " '15:03:50': 'Failed - user input pin:43242 is not-matched',\n",
       " '15:03:54': 'Failed - user input pin:42422 is not-matched',\n",
       " '15:03:55': 'pin is blocked'}"
      ]
     },
     "execution_count": 154,
     "metadata": {},
     "output_type": "execute_result"
    }
   ],
   "source": [
    "pin_history"
   ]
  },
  {
   "cell_type": "code",
   "execution_count": 155,
   "id": "4441950f",
   "metadata": {},
   "outputs": [
    {
     "name": "stdout",
     "output_type": "stream",
     "text": [
      "Enter a pin number:12312\n",
      "Enter a pin number:1234\n"
     ]
    }
   ],
   "source": [
    "import time\n",
    "\n",
    "#pin_history = {} # empty dict\n",
    "\n",
    "pin = 1234\n",
    "c = 0\n",
    "while(c < 3):\n",
    "    p = input('Enter a pin number:')\n",
    "    c=c+1\n",
    "    if(pin == int(p)):\n",
    "        pin_history[time.ctime().split()[-2]]=f'Success - pin is matched {c}'\n",
    "        time.sleep(2)\n",
    "        #print(f'Success - pin is matched {c}')\n",
    "        break # exit from loop\n",
    "    else:\n",
    "        pin_history[time.ctime().split()[-2]]=f'Failed - user input pin:{p} is not-matched'\n",
    "        time.sleep(1)\n",
    "        #print(f'Failed - pin is not-matched')\n",
    "\n",
    "if(int(p) != pin):\n",
    "    pin_history[time.ctime().split()[-2]] = f'pin is blocked'\n",
    "    time.sleep(1)\n",
    "    #print('pin is blocked')"
   ]
  },
  {
   "cell_type": "code",
   "execution_count": 156,
   "id": "0cc0e339",
   "metadata": {},
   "outputs": [
    {
     "data": {
      "text/plain": [
       "{'15:03:45': 'Failed - user input pin:52234 is not-matched',\n",
       " '15:03:50': 'Failed - user input pin:43242 is not-matched',\n",
       " '15:03:54': 'Failed - user input pin:42422 is not-matched',\n",
       " '15:03:55': 'pin is blocked',\n",
       " '15:04:51': 'Failed - user input pin:12312 is not-matched',\n",
       " '15:04:55': 'Success - pin is matched2'}"
      ]
     },
     "execution_count": 156,
     "metadata": {},
     "output_type": "execute_result"
    }
   ],
   "source": [
    "pin_history"
   ]
  },
  {
   "cell_type": "code",
   "execution_count": 158,
   "id": "3b4baeb3",
   "metadata": {},
   "outputs": [
    {
     "name": "stdout",
     "output_type": "stream",
     "text": [
      "[None, None, None]\n",
      "[None, None, None, 620, 1000]\n"
     ]
    }
   ],
   "source": [
    "L = []\n",
    "\n",
    "def fx(a):\n",
    "    if(a > 100):\n",
    "        return a+500\n",
    "    \n",
    "for var in [50,60,70,120,500]:\n",
    "    r = fx(var)\n",
    "    L.append(r)\n",
    "    \n",
    "print(L[:3])\n",
    "print(L)\n"
   ]
  },
  {
   "cell_type": "code",
   "execution_count": null,
   "id": "843670c8",
   "metadata": {},
   "outputs": [],
   "source": [
    "# File Handling\n",
    "\n",
    "1. Read data from <FILE> ->python ->display to monitor\n",
    "    fobj = open('inputFile','mode')\n",
    "    |\n",
    "    fobj.read() ->'str' (or) fobj.readlines() ->[list]\n",
    "    |\n",
    "    fobj.close()\n",
    "    \n",
    "\n",
    "2. python ->create a newFile and write Data to File\n",
    "   wobj = open('resultFile','w')\n",
    "   wobj.write('SingleString\\n')\n",
    "   wobj.close()\n",
    "    \n",
    "3. Read data from <FILE> ->python ->create a newFile and write Data to File\n",
    "     fobj = open('inputFile','mode')\n",
    "     fobj.read() ->'str' (or) fobj.readlines() ->[list]\n",
    "     wobj = open('resultFile','w')\n",
    "     wobj.write('SingleString\\n')\n",
    "     wobj.close()\n",
    "     fobj.close()"
   ]
  },
  {
   "cell_type": "code",
   "execution_count": 159,
   "id": "91000ca4",
   "metadata": {},
   "outputs": [
    {
     "data": {
      "text/plain": [
       "<_io.TextIOWrapper name='emp.csv' mode='r' encoding='cp1252'>"
      ]
     },
     "execution_count": 159,
     "metadata": {},
     "output_type": "execute_result"
    }
   ],
   "source": [
    "open('emp.csv','r')"
   ]
  },
  {
   "cell_type": "code",
   "execution_count": 160,
   "id": "5ca86f9b",
   "metadata": {},
   "outputs": [
    {
     "data": {
      "text/plain": [
       "'eid,ename,edept,eplace,ecost\\n101,raj,sales,pune,1000\\n102,leo,prod,bglore,2000\\n103,paul,HR,chennai,3000\\n104,anu,hr,hyderabad,4000\\n456,kumar,,bglore,\\n105,zion,Hr,mumbai,5000\\n106,bibu,sales,bglore,1450\\n107,theeb,sales,noida,4590\\n102,leo,prod,bglore,2000\\n104,anu,hr,hyderabad,4000\\n'"
      ]
     },
     "execution_count": 160,
     "metadata": {},
     "output_type": "execute_result"
    }
   ],
   "source": [
    "fobj = open('emp.csv','r')\n",
    "fobj.read()"
   ]
  },
  {
   "cell_type": "code",
   "execution_count": 161,
   "id": "5d077141",
   "metadata": {},
   "outputs": [
    {
     "data": {
      "text/plain": [
       "['eid,ename,edept,eplace,ecost\\n',\n",
       " '101,raj,sales,pune,1000\\n',\n",
       " '102,leo,prod,bglore,2000\\n',\n",
       " '103,paul,HR,chennai,3000\\n',\n",
       " '104,anu,hr,hyderabad,4000\\n',\n",
       " '456,kumar,,bglore,\\n',\n",
       " '105,zion,Hr,mumbai,5000\\n',\n",
       " '106,bibu,sales,bglore,1450\\n',\n",
       " '107,theeb,sales,noida,4590\\n',\n",
       " '102,leo,prod,bglore,2000\\n',\n",
       " '104,anu,hr,hyderabad,4000\\n']"
      ]
     },
     "execution_count": 161,
     "metadata": {},
     "output_type": "execute_result"
    }
   ],
   "source": [
    "fobj = open('emp.csv','r')\n",
    "fobj.readlines()"
   ]
  },
  {
   "cell_type": "code",
   "execution_count": 162,
   "id": "e1c803e1",
   "metadata": {},
   "outputs": [
    {
     "name": "stdout",
     "output_type": "stream",
     "text": [
      "eid,ename,edept,eplace,ecost\n",
      "101,raj,sales,pune,1000\n",
      "102,leo,prod,bglore,2000\n",
      "103,paul,HR,chennai,3000\n",
      "104,anu,hr,hyderabad,4000\n",
      "456,kumar,,bglore,\n",
      "105,zion,Hr,mumbai,5000\n",
      "106,bibu,sales,bglore,1450\n",
      "107,theeb,sales,noida,4590\n",
      "102,leo,prod,bglore,2000\n",
      "104,anu,hr,hyderabad,4000\n",
      "\n"
     ]
    }
   ],
   "source": [
    "fobj = open('emp.csv','r')\n",
    "s = fobj.read()\n",
    "fobj.close()\n",
    "print(s)"
   ]
  },
  {
   "cell_type": "code",
   "execution_count": 163,
   "id": "24983e39",
   "metadata": {},
   "outputs": [
    {
     "data": {
      "text/plain": [
       "['107,theeb,sales,noida,4590\\n',\n",
       " '102,leo,prod,bglore,2000\\n',\n",
       " '104,anu,hr,hyderabad,4000\\n']"
      ]
     },
     "execution_count": 163,
     "metadata": {},
     "output_type": "execute_result"
    }
   ],
   "source": [
    "fobj = open('emp.csv','r')\n",
    "L = fobj.readlines()\n",
    "fobj.close()\n",
    "\n",
    "L[-3:] # last 3lines "
   ]
  },
  {
   "cell_type": "code",
   "execution_count": null,
   "id": "42b1f77e",
   "metadata": {},
   "outputs": [],
   "source": [
    "'w' - create a newFile and write\n",
    "'a' - append mode - won't overwrite an existing data"
   ]
  },
  {
   "cell_type": "code",
   "execution_count": 166,
   "id": "45f73824",
   "metadata": {},
   "outputs": [
    {
     "data": {
      "text/plain": [
       "10"
      ]
     },
     "execution_count": 166,
     "metadata": {},
     "output_type": "execute_result"
    }
   ],
   "source": [
    "wobj = open('r1.log','w')\n",
    "wobj.write('data1\\n')\n",
    "\n",
    "s1='index.html'\n",
    "code=3435\n",
    "\n",
    "wobj.write(f'file name is:{s1}\\n')\n",
    "wobj.write(f'code:{code}\\n')\n",
    "# wobj.write(code) TypeError: write() argument must be str, not int\n",
    "wobj.write(str(code)) # typecast to str"
   ]
  },
  {
   "cell_type": "code",
   "execution_count": 169,
   "id": "d7ee6bbe",
   "metadata": {},
   "outputs": [
    {
     "data": {
      "text/plain": [
       "23"
      ]
     },
     "execution_count": 169,
     "metadata": {},
     "output_type": "execute_result"
    }
   ],
   "source": [
    "#wobj.write('data1','data2')\n",
    "#TypeError: TextIOWrapper.write() takes exactly one argument (2 given)\n",
    "\n",
    "wobj.write('data1'+'data2\\n')\n",
    "wobj.write('Type'+'='+'Ethernet\\n')\n",
    "wobj.write('leo'+','+'sales'+','+'pune'+','+str(1232.21)+'\\n')"
   ]
  },
  {
   "cell_type": "code",
   "execution_count": 170,
   "id": "791efc7b",
   "metadata": {},
   "outputs": [],
   "source": [
    "wobj.close()"
   ]
  },
  {
   "cell_type": "code",
   "execution_count": 171,
   "id": "6c0b66cb",
   "metadata": {},
   "outputs": [
    {
     "name": "stdout",
     "output_type": "stream",
     "text": [
      "data1\n",
      "file name is:index.html\n",
      "code:3435\n",
      "data1data2\n",
      "Type=Ethernet\n",
      "leo,sales,pune,1232.21\n",
      "\n"
     ]
    }
   ],
   "source": [
    "fobj = open('r1.log')\n",
    "s =fobj.read()\n",
    "fobj.close()\n",
    "print(s)"
   ]
  },
  {
   "cell_type": "code",
   "execution_count": 178,
   "id": "f0d08eb5",
   "metadata": {},
   "outputs": [
    {
     "name": "stdout",
     "output_type": "stream",
     "text": [
      "Enter a pin number:4532\n",
      "Enter a pin number:2345\n",
      "Enter a pin number:1234\n",
      "Success - pin is matched 3\n"
     ]
    }
   ],
   "source": [
    "import time\n",
    "\n",
    "wobj = open('pin_history.log','a') # append operation\n",
    "\n",
    "pin = 1234\n",
    "c = 0\n",
    "while(c < 3):\n",
    "    p = input('Enter a pin number:')\n",
    "    c=c+1\n",
    "    if(pin == int(p)):\n",
    "        print(f'Success - pin is matched {c}') # display to monitor\n",
    "        wobj.write(f'Success - pin is matched {c} ')\n",
    "        wobj.write(f'pin Entry time is:{time.ctime()}\\n')\n",
    "        break # exit from loop\n",
    "    else:\n",
    "        wobj.write(f'Failed - pin {p} is Not-Matched')\n",
    "        wobj.write(f'pin Entry time is:{time.ctime()}\\n')\n",
    "\n",
    "if(int(p) != pin):\n",
    "    print('pin is blocked')\n",
    "    wobj.write(f'pin is blocked entry time is:{time.ctime()}\\n\\n')\n",
    "    \n",
    "wobj.close()"
   ]
  },
  {
   "cell_type": "code",
   "execution_count": null,
   "id": "3e07d718",
   "metadata": {},
   "outputs": [],
   "source": [
    "OOPs \n",
    " - class  - type\n",
    " - object - entity <or> instance\n",
    " - method - function\n",
    " - inheritance - class - parent<-->child\n",
    " "
   ]
  },
  {
   "cell_type": "code",
   "execution_count": null,
   "id": "961d6afb",
   "metadata": {},
   "outputs": [],
   "source": [
    "class - blueprint of an object\n",
    "                          |->real value - instance\n",
    "How to create a class?\n",
    "\n",
    "class <className>:\n",
    "    <attribute>\n",
    "    <attribute>\n",
    "    \n",
    "<className>.<attribute> <== we can access class attributes "
   ]
  },
  {
   "cell_type": "code",
   "execution_count": 180,
   "id": "88619f3b",
   "metadata": {},
   "outputs": [
    {
     "name": "stdout",
     "output_type": "stream",
     "text": [
      "<class '__main__.Fsinfo'>\n",
      "index.html 2KB\n"
     ]
    }
   ],
   "source": [
    "class Fsinfo:\n",
    "    fname='index.html'\n",
    "    fsize='2KB'\n",
    "    \n",
    "print(Fsinfo)\n",
    "print(Fsinfo.fname,Fsinfo.fsize)"
   ]
  },
  {
   "cell_type": "code",
   "execution_count": 182,
   "id": "21841163",
   "metadata": {},
   "outputs": [
    {
     "ename": "NameError",
     "evalue": "name 'fname' is not defined",
     "output_type": "error",
     "traceback": [
      "\u001b[1;31m---------------------------------------------------------------------------\u001b[0m",
      "\u001b[1;31mNameError\u001b[0m                                 Traceback (most recent call last)",
      "Cell \u001b[1;32mIn[182], line 1\u001b[0m\n\u001b[1;32m----> 1\u001b[0m fname\n",
      "\u001b[1;31mNameError\u001b[0m: name 'fname' is not defined"
     ]
    }
   ],
   "source": [
    "fname"
   ]
  },
  {
   "cell_type": "code",
   "execution_count": 183,
   "id": "0916fb95",
   "metadata": {},
   "outputs": [
    {
     "ename": "AttributeError",
     "evalue": "type object 'Fsinfo' has no attribute 'findex'",
     "output_type": "error",
     "traceback": [
      "\u001b[1;31m---------------------------------------------------------------------------\u001b[0m",
      "\u001b[1;31mAttributeError\u001b[0m                            Traceback (most recent call last)",
      "Cell \u001b[1;32mIn[183], line 1\u001b[0m\n\u001b[1;32m----> 1\u001b[0m Fsinfo\u001b[38;5;241m.\u001b[39mfindex\n",
      "\u001b[1;31mAttributeError\u001b[0m: type object 'Fsinfo' has no attribute 'findex'"
     ]
    }
   ],
   "source": [
    "Fsinfo.findex"
   ]
  },
  {
   "cell_type": "code",
   "execution_count": 185,
   "id": "58868a58",
   "metadata": {},
   "outputs": [
    {
     "name": "stdout",
     "output_type": "stream",
     "text": [
      "index.html\n",
      "display.html\n"
     ]
    }
   ],
   "source": [
    "# Python user defined class - mutable (we can add,modify,delete)\n",
    "# -----------------------------------------------------------------\n",
    "\n",
    "class Fsinfo:\n",
    "    fname = 'index.html'\n",
    "    \n",
    "print(Fsinfo.fname)\n",
    "\n",
    "Fsinfo.fname='display.html' # modification\n",
    "print(Fsinfo.fname)"
   ]
  },
  {
   "cell_type": "code",
   "execution_count": 186,
   "id": "2318a822",
   "metadata": {},
   "outputs": [
    {
     "name": "stdout",
     "output_type": "stream",
     "text": [
      "display.html\n"
     ]
    }
   ],
   "source": [
    "print(Fsinfo.fname)"
   ]
  },
  {
   "cell_type": "code",
   "execution_count": 187,
   "id": "08fc424e",
   "metadata": {},
   "outputs": [],
   "source": [
    "Fsinfo.index = 4567 # we can add new attribute"
   ]
  },
  {
   "cell_type": "code",
   "execution_count": 188,
   "id": "823e5b68",
   "metadata": {},
   "outputs": [
    {
     "name": "stdout",
     "output_type": "stream",
     "text": [
      "4567\n"
     ]
    }
   ],
   "source": [
    "print(Fsinfo.index)"
   ]
  },
  {
   "cell_type": "code",
   "execution_count": null,
   "id": "75a3d7a5",
   "metadata": {},
   "outputs": [],
   "source": [
    "del(Fsinfo.index) # we can delete an existing attribute"
   ]
  },
  {
   "cell_type": "code",
   "execution_count": null,
   "id": "855318d9",
   "metadata": {},
   "outputs": [],
   "source": [
    " +-----------------------+\n",
    " | [ ]   |  |   [ ] [ ]  |\n",
    " |                       | <== blueprint sheet   - class\n",
    " |     (white)           |                        \n",
    " +-----------|   |-------+\n",
    "    \n",
    "    \n",
    "  |            |\n",
    " [House-1]    [House-2] ... [House-n] <== real object/entity\n",
    "   0x124         0x33         0x23    <== address/memory\n",
    "   1st main     2nd main       nth main\n",
    "    \n",
    ">>> class Fsinfo:\n",
    "...     fname='abc.log'\n",
    "...\n",
    ">>> Fsinfo\n",
    "<class '__main__.Fsinfo'>\n",
    ">>> Fsinfo()\n",
    "<__main__.Fsinfo object at 0x0000017C936606E0>\n",
    ">>> Fsinfo()\n",
    "<__main__.Fsinfo object at 0x0000017C934C25D0>\n",
    ">>>\n",
    ">>> obj1 = Fsinfo()\n",
    ">>> obj2 = Fsinfo()\n",
    ">>> print(type(obj1),type(obj2))\n",
    "<class '__main__.Fsinfo'> <class '__main__.Fsinfo'>\n",
    ">>> print(type(10),type(20))\n",
    "<class 'int'> <class 'int'>\n",
    ">>> print(type(int),type(Fsinfo))\n",
    "<class 'type'> <class 'type'>\n",
    ">>>\n",
    ">>> class box:\n",
    "...     bid=101\n",
    "...\n",
    ">>> box.bid\n",
    "101\n",
    ">>> obj1 = box()\n",
    ">>> obj2 = box()\n",
    ">>> obj1.bid\n",
    "101\n",
    ">>> obj2.bid\n",
    "101\n",
    ">>> obj1.bid='B505' # object based initialization\n",
    ">>> obj1.bid\n",
    "'B505'\n",
    ">>> obj2.bid\n",
    "101\n",
    ">>> box.bid=202 # using class name we can modify an existing attribute\n",
    ">>> box.bid\n",
    "202\n",
    ">>> obj1.bid\n",
    "'B505'\n",
    ">>> obj2.bid\n",
    "202\n",
    ">>>\n",
    ">>> obj2.bid='B909' # object based initialization\n",
    ">>>\n",
    ">>> obj1.bid\n",
    "'B505'\n",
    ">>> obj2.bid\n",
    "'B909'\n",
    ">>>\n"
   ]
  },
  {
   "cell_type": "code",
   "execution_count": 189,
   "id": "78ae99f9",
   "metadata": {},
   "outputs": [
    {
     "name": "stdout",
     "output_type": "stream",
     "text": [
      "<class 'function'> <class 'method'>\n"
     ]
    }
   ],
   "source": [
    "def f1():\n",
    "    print(\"OK-1\")\n",
    "    \n",
    "class box:\n",
    "    def f2():\n",
    "        print(\"OK-2\")\n",
    "        \n",
    "obj = box()\n",
    "print(type(f1),type(obj.f2))"
   ]
  },
  {
   "cell_type": "code",
   "execution_count": 190,
   "id": "9543e380",
   "metadata": {},
   "outputs": [
    {
     "name": "stdout",
     "output_type": "stream",
     "text": [
      "ABC\n",
      "['Data1']\n"
     ]
    }
   ],
   "source": [
    "s='abc'\n",
    "L=[]\n",
    "print(s.upper()) # upper method \n",
    "L.append('Data1') # append method\n",
    "print(L)"
   ]
  },
  {
   "cell_type": "code",
   "execution_count": 193,
   "id": "d8ddc9db",
   "metadata": {},
   "outputs": [],
   "source": [
    "class box:\n",
    "    def f2():\n",
    "        print(\"OK-2\")\n",
    "obj = box()\n",
    "#obj.f2() TypeError: box.f2() takes 0 positional arguments but 1 was given\n",
    " \n",
    "# obj.f2() -> f2(obj)\n",
    "#  ======     -------\n",
    "# obj.f2(10,20,30) ->f2(obj,10,20,30)\n",
    "# =================    ----------------"
   ]
  },
  {
   "cell_type": "code",
   "execution_count": 194,
   "id": "e33fd099",
   "metadata": {},
   "outputs": [
    {
     "name": "stdout",
     "output_type": "stream",
     "text": [
      "120\n",
      "obj name: <__main__.box object at 0x000001C91A3F4F10>\n",
      "120\n",
      "<__main__.box object at 0x000001C91A3F4F10>\n"
     ]
    }
   ],
   "source": [
    "class box:\n",
    "    var=120\n",
    "    def f2(self):\n",
    "        print(\"obj name:\",self)\n",
    "        print(self.var)\n",
    "        self.var = 500 # object based initialization\n",
    "obj = box()\n",
    "print(obj.var) # 120\n",
    "obj.f2() # f2(obj)\n",
    "print(obj)"
   ]
  },
  {
   "cell_type": "code",
   "execution_count": 195,
   "id": "9c7e4e41",
   "metadata": {},
   "outputs": [
    {
     "data": {
      "text/plain": [
       "500"
      ]
     },
     "execution_count": 195,
     "metadata": {},
     "output_type": "execute_result"
    }
   ],
   "source": [
    "obj.var"
   ]
  }
 ],
 "metadata": {
  "kernelspec": {
   "display_name": "Python 3 (ipykernel)",
   "language": "python",
   "name": "python3"
  },
  "language_info": {
   "codemirror_mode": {
    "name": "ipython",
    "version": 3
   },
   "file_extension": ".py",
   "mimetype": "text/x-python",
   "name": "python",
   "nbconvert_exporter": "python",
   "pygments_lexer": "ipython3",
   "version": "3.11.5"
  }
 },
 "nbformat": 4,
 "nbformat_minor": 5
}
